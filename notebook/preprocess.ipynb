{
 "cells": [
  {
   "cell_type": "code",
   "execution_count": 1,
   "metadata": {},
   "outputs": [],
   "source": [
    "import os\n",
    "import json\n",
    "import glob\n",
    "import numpy as np\n",
    "import pandas as pd\n",
    "import open3d as o3d\n",
    "import meshplot as mp"
   ]
  },
  {
   "cell_type": "code",
   "execution_count": 2,
   "metadata": {},
   "outputs": [],
   "source": [
    "base_dir = os.path.dirname(os.getcwd())\n",
    "data_dir = os.path.join(base_dir, \"data\")"
   ]
  },
  {
   "cell_type": "code",
   "execution_count": 3,
   "metadata": {
    "scrolled": true
   },
   "outputs": [
    {
     "data": {
      "text/plain": [
       "(7003, 1088)"
      ]
     },
     "execution_count": 3,
     "metadata": {},
     "output_type": "execute_result"
    }
   ],
   "source": [
    "train_files = glob.glob(os.path.join(data_dir, \"original\", \"train\", \"*\", \"*.obj\"))\n",
    "valid_files = glob.glob(os.path.join(data_dir, \"original\", \"val\", \"*\", \"*.obj\"))\n",
    "len(train_files), len(valid_files)"
   ]
  },
  {
   "cell_type": "code",
   "execution_count": 4,
   "metadata": {},
   "outputs": [],
   "source": [
    "def read_objfile(path, return_o3d=False):\n",
    "    obj = o3d.io.read_triangle_mesh(train_files[0])\n",
    "    if return_o3d:\n",
    "        return obj\n",
    "    else:\n",
    "        v = np.asarray(obj.vertices, dtype=np.float32)\n",
    "        f = np.asarray(obj.triangles, dtype=np.int32)\n",
    "        return v, f"
   ]
  },
  {
   "cell_type": "code",
   "execution_count": 5,
   "metadata": {},
   "outputs": [
    {
     "data": {
      "text/plain": [
       "((2487, 3), (1317, 3))"
      ]
     },
     "execution_count": 5,
     "metadata": {},
     "output_type": "execute_result"
    }
   ],
   "source": [
    "v, f = read_objfile(train_files[0])\n",
    "v.shape, f.shape"
   ]
  },
  {
   "cell_type": "code",
   "execution_count": 6,
   "metadata": {
    "scrolled": false
   },
   "outputs": [
    {
     "data": {
      "application/vnd.jupyter.widget-view+json": {
       "model_id": "439919aa3f074fd2b2a9094ce26ac900",
       "version_major": 2,
       "version_minor": 0
      },
      "text/plain": [
       "Renderer(camera=PerspectiveCamera(children=(DirectionalLight(color='white', intensity=0.6, position=(0.0, 0.0,…"
      ]
     },
     "metadata": {},
     "output_type": "display_data"
    },
    {
     "data": {
      "text/plain": [
       "<meshplot.Viewer.Viewer at 0x11ef96110>"
      ]
     },
     "execution_count": 6,
     "metadata": {},
     "output_type": "execute_result"
    }
   ],
   "source": [
    "mp.plot(v, f)"
   ]
  },
  {
   "cell_type": "code",
   "execution_count": 7,
   "metadata": {},
   "outputs": [],
   "source": [
    "def redirect_same_vertices(vertices, faces):\n",
    "    \n",
    "    faces_with_coord = []\n",
    "    for face in faces:\n",
    "        faces_with_coord.append([tuple(vertices[idx]) for idx in face])\n",
    "    \n",
    "    coord_to_minimum_vertex = {}\n",
    "    new_vertices = []\n",
    "    cnt_new_vertices = 0\n",
    "    for vertex in vertices:\n",
    "        vertex_key = tuple(vertex)\n",
    "        \n",
    "        if vertex_key not in coord_to_minimum_vertex.keys():\n",
    "            coord_to_minimum_vertex[vertex_key] = cnt_new_vertices\n",
    "            new_vertices.append(vertex)\n",
    "            cnt_new_vertices += 1\n",
    "    \n",
    "    new_faces = []\n",
    "    for face in faces_with_coord:\n",
    "        new_faces.append([\n",
    "            coord_to_minimum_vertex[coord] for coord in face\n",
    "        ])\n",
    "    \n",
    "    return np.stack(new_vertices), np.array(new_faces, dtype=np.int32)"
   ]
  },
  {
   "cell_type": "code",
   "execution_count": 8,
   "metadata": {
    "scrolled": true
   },
   "outputs": [
    {
     "data": {
      "text/plain": [
       "((677, 3), (1317, 3))"
      ]
     },
     "execution_count": 8,
     "metadata": {},
     "output_type": "execute_result"
    }
   ],
   "source": [
    "v_redirected, f_redirected = redirect_same_vertices(v, f)\n",
    "v_redirected.shape, f_redirected.shape"
   ]
  },
  {
   "cell_type": "code",
   "execution_count": 9,
   "metadata": {
    "scrolled": false
   },
   "outputs": [
    {
     "data": {
      "application/vnd.jupyter.widget-view+json": {
       "model_id": "07fa1927ce654f53ba9580866bdda2e1",
       "version_major": 2,
       "version_minor": 0
      },
      "text/plain": [
       "Renderer(camera=PerspectiveCamera(children=(DirectionalLight(color='white', intensity=0.6, position=(0.0, 0.0,…"
      ]
     },
     "metadata": {},
     "output_type": "display_data"
    },
    {
     "data": {
      "text/plain": [
       "<meshplot.Viewer.Viewer at 0x11ef96990>"
      ]
     },
     "execution_count": 9,
     "metadata": {},
     "output_type": "execute_result"
    }
   ],
   "source": [
    "mp.plot(v_redirected, f_redirected)"
   ]
  },
  {
   "cell_type": "code",
   "execution_count": 10,
   "metadata": {
    "scrolled": false
   },
   "outputs": [],
   "source": [
    "def reorder_vertices(vertices_df, columns=[\"z\", \"y\", \"x\"], add_sorted_index=True):\n",
    "    # sorting bottom -> top (descending order)\n",
    "    vertices_df = vertices_df.sort_values(columns, ascending=False)\n",
    "    \n",
    "    if add_sorted_index:\n",
    "        vertices_df[\"sorted_index\"] = np.arange(len(vertices_df))\n",
    "    return vertices_df"
   ]
  },
  {
   "cell_type": "code",
   "execution_count": 11,
   "metadata": {},
   "outputs": [
    {
     "data": {
      "text/plain": [
       "(677, 4)"
      ]
     },
     "execution_count": 11,
     "metadata": {},
     "output_type": "execute_result"
    }
   ],
   "source": [
    "columns = [\"z\", \"y\", \"x\"]\n",
    "v_df = pd.DataFrame(v_redirected, columns=columns)\n",
    "v_df_reorder = reorder_vertices(v_df, columns=columns, add_sorted_index=True)\n",
    "v_df_reorder.shape"
   ]
  },
  {
   "cell_type": "code",
   "execution_count": 12,
   "metadata": {},
   "outputs": [],
   "source": [
    "def reorder_faces(vertices_df, faces):\n",
    "    # this func contains two sorting: in-face-triple sort and all-face sort.\n",
    "    faces_sorted = []\n",
    "    for face in faces:\n",
    "        face_ids = vertices_df.loc[face][\"sorted_index\"]\n",
    "        face_ids = np.sort(face_ids)\n",
    "        faces_sorted.append(face_ids)\n",
    "    \n",
    "    # smaller index in face triple means nearer to bottom.\n",
    "    faces_sorted = pd.DataFrame(faces_sorted)\n",
    "    faces_sorted = faces_sorted.sort_values(list(range(3)), ascending=True)\n",
    "    return pd.DataFrame(faces_sorted)"
   ]
  },
  {
   "cell_type": "code",
   "execution_count": 13,
   "metadata": {},
   "outputs": [
    {
     "data": {
      "text/plain": [
       "((677, 3), (1317, 3))"
      ]
     },
     "execution_count": 13,
     "metadata": {},
     "output_type": "execute_result"
    }
   ],
   "source": [
    "f_reorder = reorder_faces(v_df_reorder, f_redirected).values\n",
    "v_reorder = v_df_reorder.values[:, :3]\n",
    "v_reorder.shape, f_reorder.shape"
   ]
  },
  {
   "cell_type": "code",
   "execution_count": 14,
   "metadata": {
    "scrolled": false
   },
   "outputs": [
    {
     "data": {
      "application/vnd.jupyter.widget-view+json": {
       "model_id": "0edcbc2e240042ab9cb738b83e46ea93",
       "version_major": 2,
       "version_minor": 0
      },
      "text/plain": [
       "Renderer(camera=PerspectiveCamera(children=(DirectionalLight(color='white', intensity=0.6, position=(0.0, 0.0,…"
      ]
     },
     "metadata": {},
     "output_type": "display_data"
    },
    {
     "data": {
      "text/plain": [
       "<meshplot.Viewer.Viewer at 0x11eed6310>"
      ]
     },
     "execution_count": 14,
     "metadata": {},
     "output_type": "execute_result"
    }
   ],
   "source": [
    "mp.plot(v_reorder, f_reorder)"
   ]
  },
  {
   "cell_type": "code",
   "execution_count": 15,
   "metadata": {},
   "outputs": [],
   "source": [
    "def bit_quantization(vertices, bit=8, v_min=-1., v_max=1.):\n",
    "    # vertices must have values between -1 to 1.\n",
    "    dynamic_range = 2 ** bit - 1\n",
    "    discrete_interval = (v_max-v_min) / (dynamic_range)#dynamic_range\n",
    "    offset = (dynamic_range) / 2\n",
    "    \n",
    "    vertices = vertices / discrete_interval + offset\n",
    "    vertices = np.clip(vertices, 0, dynamic_range-1)\n",
    "    return vertices.astype(np.int32)"
   ]
  },
  {
   "cell_type": "code",
   "execution_count": 16,
   "metadata": {
    "scrolled": true
   },
   "outputs": [
    {
     "data": {
      "text/plain": [
       "array([[160, 136, 130],\n",
       "       [160, 136, 126],\n",
       "       [160, 136, 124],\n",
       "       ...,\n",
       "       [ 94, 136, 131],\n",
       "       [ 94, 136, 127],\n",
       "       [ 94, 136, 124]], dtype=int32)"
      ]
     },
     "execution_count": 16,
     "metadata": {},
     "output_type": "execute_result"
    }
   ],
   "source": [
    "v_quantized = bit_quantization(v_reorder)\n",
    "v_quantized"
   ]
  },
  {
   "cell_type": "code",
   "execution_count": 17,
   "metadata": {},
   "outputs": [
    {
     "data": {
      "application/vnd.jupyter.widget-view+json": {
       "model_id": "a0144a697e8f4e6dacd5527fa7960ede",
       "version_major": 2,
       "version_minor": 0
      },
      "text/plain": [
       "Renderer(camera=PerspectiveCamera(children=(DirectionalLight(color='white', intensity=0.6, position=(127.0, 12…"
      ]
     },
     "metadata": {},
     "output_type": "display_data"
    },
    {
     "data": {
      "text/plain": [
       "<meshplot.Viewer.Viewer at 0x120092b10>"
      ]
     },
     "execution_count": 17,
     "metadata": {},
     "output_type": "execute_result"
    }
   ],
   "source": [
    "mp.plot(v_quantized, f_reorder)"
   ]
  },
  {
   "cell_type": "code",
   "execution_count": 18,
   "metadata": {},
   "outputs": [],
   "source": [
    "def load_pipeline(file_path, bit=8):\n",
    "    v, f = read_objfile(file_path)\n",
    "    v, f = redirect_same_vertices(v, f)\n",
    "    \n",
    "    columns = [\"z\", \"y\", \"x\"]\n",
    "    v = pd.DataFrame(v, columns=columns)\n",
    "    v = reorder_vertices(v, columns=columns, add_sorted_index=True)\n",
    "    \n",
    "    f = reorder_faces(v, f)\n",
    "    v = v.values[:, :3]\n",
    "    \n",
    "    v = bit_quantization(v, bit=bit)\n",
    "    f = f.values\n",
    "    return v, f"
   ]
  },
  {
   "cell_type": "code",
   "execution_count": 19,
   "metadata": {},
   "outputs": [],
   "source": [
    "v, f = load_pipeline(train_files[0])"
   ]
  },
  {
   "cell_type": "code",
   "execution_count": 20,
   "metadata": {},
   "outputs": [
    {
     "data": {
      "application/vnd.jupyter.widget-view+json": {
       "model_id": "329b266dec7d4b489b41c8c2c70426ef",
       "version_major": 2,
       "version_minor": 0
      },
      "text/plain": [
       "Renderer(camera=PerspectiveCamera(children=(DirectionalLight(color='white', intensity=0.6, position=(127.0, 12…"
      ]
     },
     "metadata": {},
     "output_type": "display_data"
    },
    {
     "data": {
      "text/plain": [
       "<meshplot.Viewer.Viewer at 0x12008f950>"
      ]
     },
     "execution_count": 20,
     "metadata": {},
     "output_type": "execute_result"
    }
   ],
   "source": [
    "mp.plot(v, f)"
   ]
  },
  {
   "cell_type": "code",
   "execution_count": 21,
   "metadata": {},
   "outputs": [],
   "source": [
    "classes = [\"basket\", \"chair\", \"lamp\", \"sofa\", \"table\"]"
   ]
  },
  {
   "cell_type": "code",
   "execution_count": 22,
   "metadata": {},
   "outputs": [
    {
     "name": "stdout",
     "output_type": "stream",
     "text": [
      "basket\n",
      "chair\n",
      "lamp\n",
      "sofa\n",
      "table\n"
     ]
    }
   ],
   "source": [
    "for class_ in classes:\n",
    "    print(class_)\n",
    "    class_datas = []\n",
    "    \n",
    "    for file_path in train_files:\n",
    "        if file_path.split(\"/\")[-2] == class_:\n",
    "            v, f = load_pipeline(file_path)\n",
    "            class_datas.append({\n",
    "                \"vertices\": v.tolist(),\n",
    "                \"faces\": f.tolist(),\n",
    "            })\n",
    "            \n",
    "    with open(os.path.join(data_dir, \"preprocessed\", \"train\", class_+\".json\"), \"w\") as fw:\n",
    "        json.dump(class_datas, fw, indent=4)"
   ]
  },
  {
   "cell_type": "code",
   "execution_count": 23,
   "metadata": {},
   "outputs": [
    {
     "name": "stdout",
     "output_type": "stream",
     "text": [
      "basket\n",
      "chair\n",
      "lamp\n",
      "sofa\n",
      "table\n"
     ]
    }
   ],
   "source": [
    "for class_ in classes:\n",
    "    print(class_)\n",
    "    class_datas = []\n",
    "    \n",
    "    for file_path in valid_files:\n",
    "        if file_path.split(\"/\")[-2] == class_:\n",
    "            v, f = load_pipeline(file_path)\n",
    "            class_datas.append({\n",
    "                \"vertices\": v.tolist(),\n",
    "                \"faces\": f.tolist(),\n",
    "            })\n",
    "            \n",
    "    with open(os.path.join(data_dir, \"preprocessed\", \"valid\", class_+\".json\"), \"w\") as fw:\n",
    "        json.dump(class_datas, fw, indent=4)"
   ]
  },
  {
   "cell_type": "code",
   "execution_count": null,
   "metadata": {},
   "outputs": [],
   "source": []
  }
 ],
 "metadata": {
  "kernelspec": {
   "display_name": "3dEnv",
   "language": "python",
   "name": "3denv"
  },
  "language_info": {
   "codemirror_mode": {
    "name": "ipython",
    "version": 3
   },
   "file_extension": ".py",
   "mimetype": "text/x-python",
   "name": "python",
   "nbconvert_exporter": "python",
   "pygments_lexer": "ipython3",
   "version": "3.7.9"
  }
 },
 "nbformat": 4,
 "nbformat_minor": 4
}
