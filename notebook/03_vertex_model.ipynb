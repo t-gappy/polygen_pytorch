{
 "cells": [
  {
   "cell_type": "code",
   "execution_count": 1,
   "metadata": {},
   "outputs": [],
   "source": [
    "import os\n",
    "import sys\n",
    "import json\n",
    "import glob\n",
    "import torch\n",
    "import torch.nn as nn\n",
    "import torch.nn.functional as F\n",
    "from reformer_pytorch import Reformer"
   ]
  },
  {
   "cell_type": "code",
   "execution_count": 2,
   "metadata": {},
   "outputs": [
    {
     "name": "stdout",
     "output_type": "stream",
     "text": [
      "7003 1088\n"
     ]
    }
   ],
   "source": [
    "base_dir = os.path.dirname(os.getcwd())\n",
    "data_dir = os.path.join(base_dir, \"data\", \"original\")\n",
    "train_files = glob.glob(os.path.join(data_dir, \"train\", \"*\", \"*.obj\"))\n",
    "valid_files = glob.glob(os.path.join(data_dir, \"val\", \"*\", \"*.obj\"))\n",
    "print(len(train_files), len(valid_files))\n",
    "\n",
    "src_dir = os.path.join(base_dir, \"src\")\n",
    "sys.path.append(os.path.join(src_dir))"
   ]
  },
  {
   "cell_type": "code",
   "execution_count": 3,
   "metadata": {},
   "outputs": [],
   "source": [
    "from utils import load_pipeline\n",
    "from tokenizers import DecodeVertexTokenizer"
   ]
  },
  {
   "cell_type": "code",
   "execution_count": 4,
   "metadata": {},
   "outputs": [
    {
     "name": "stdout",
     "output_type": "stream",
     "text": [
      "torch.Size([655, 3]) 588\n",
      "============================================================\n",
      "torch.Size([310, 3]) 220\n",
      "============================================================\n",
      "torch.Size([396, 3]) 304\n",
      "============================================================\n"
     ]
    }
   ],
   "source": [
    "v_batch, f_batch = [], []\n",
    "for i in range(3):\n",
    "    vs, _, fs = load_pipeline(train_files[i])\n",
    "    \n",
    "    vs = torch.tensor(vs)\n",
    "    fs = [torch.tensor(f) for f in fs]\n",
    "    \n",
    "    v_batch.append(vs)\n",
    "    f_batch.append(fs)\n",
    "    print(vs.shape, len(fs))\n",
    "    print(\"=\"*60)"
   ]
  },
  {
   "cell_type": "code",
   "execution_count": 5,
   "metadata": {},
   "outputs": [],
   "source": [
    "dec_tokenizer = DecodeVertexTokenizer()"
   ]
  },
  {
   "cell_type": "code",
   "execution_count": 6,
   "metadata": {},
   "outputs": [
    {
     "data": {
      "text/plain": [
       "{'value_tokens': tensor([[  0, 163, 139,  ..., 125,   1,   2],\n",
       "         [  0, 137, 164,  ...,   2,   2,   2],\n",
       "         [  0, 165, 101,  ...,   2,   2,   2]]),\n",
       " 'target_tokens': tensor([[163, 139, 135,  ...,   1,   2,   2],\n",
       "         [137, 164, 132,  ...,   2,   2,   2],\n",
       "         [165, 101, 136,  ...,   2,   2,   2]]),\n",
       " 'coord_type_tokens': tensor([[0, 1, 2,  ..., 3, 0, 0],\n",
       "         [0, 1, 2,  ..., 0, 0, 0],\n",
       "         [0, 1, 2,  ..., 0, 0, 0]]),\n",
       " 'position_tokens': tensor([[  0,   1,   1,  ..., 655,   0,   0],\n",
       "         [  0,   1,   1,  ...,   0,   0,   0],\n",
       "         [  0,   1,   1,  ...,   0,   0,   0]]),\n",
       " 'padding_mask': tensor([[ True,  True,  True,  ...,  True,  True, False],\n",
       "         [ True,  True,  True,  ..., False, False, False],\n",
       "         [ True,  True,  True,  ..., False, False, False]])}"
      ]
     },
     "execution_count": 6,
     "metadata": {},
     "output_type": "execute_result"
    }
   ],
   "source": [
    "input_tokens = dec_tokenizer.tokenize(v_batch)\n",
    "input_tokens"
   ]
  },
  {
   "cell_type": "code",
   "execution_count": 7,
   "metadata": {},
   "outputs": [],
   "source": [
    "class VertexDecoderEmbedding(nn.Module):\n",
    "    \n",
    "    def __init__(self, embed_dim=256,\n",
    "                 vocab_value=259, pad_idx_value=2, \n",
    "                 vocab_coord_type=4, pad_idx_coord_type=0,\n",
    "                 vocab_position=1000, pad_idx_position=0):\n",
    "        \n",
    "        super().__init__()\n",
    "        \n",
    "        self.value_embed = nn.Embedding(\n",
    "            vocab_value, embed_dim, padding_idx=pad_idx_value\n",
    "        )\n",
    "        self.coord_type_embed = nn.Embedding(\n",
    "            vocab_coord_type, embed_dim, padding_idx=pad_idx_coord_type\n",
    "        )\n",
    "        self.position_embed = nn.Embedding(\n",
    "            vocab_position, embed_dim, padding_idx=pad_idx_position\n",
    "        )\n",
    "        \n",
    "    def forward(self, value_tokens, coord_type_tokens, position_tokens):\n",
    "        embed = self.value_embed(value_tokens)\n",
    "        embed = embed + self.coord_type_embed(coord_type_tokens)\n",
    "        embed = embed + self.position_embed(position_tokens)\n",
    "        return embed"
   ]
  },
  {
   "cell_type": "code",
   "execution_count": 10,
   "metadata": {},
   "outputs": [],
   "source": [
    "embed = VertexDecoderEmbedding(embed_dim=128)"
   ]
  },
  {
   "cell_type": "code",
   "execution_count": 11,
   "metadata": {},
   "outputs": [
    {
     "data": {
      "text/plain": [
       "{'value_tokens': tensor([[  0, 163, 139,  ..., 125,   1,   2],\n",
       "         [  0, 137, 164,  ...,   2,   2,   2],\n",
       "         [  0, 165, 101,  ...,   2,   2,   2]]),\n",
       " 'target_tokens': tensor([[163, 139, 135,  ...,   1,   2,   2],\n",
       "         [137, 164, 132,  ...,   2,   2,   2],\n",
       "         [165, 101, 136,  ...,   2,   2,   2]]),\n",
       " 'coord_type_tokens': tensor([[0, 1, 2,  ..., 3, 0, 0],\n",
       "         [0, 1, 2,  ..., 0, 0, 0],\n",
       "         [0, 1, 2,  ..., 0, 0, 0]]),\n",
       " 'position_tokens': tensor([[  0,   1,   1,  ..., 655,   0,   0],\n",
       "         [  0,   1,   1,  ...,   0,   0,   0],\n",
       "         [  0,   1,   1,  ...,   0,   0,   0]]),\n",
       " 'padding_mask': tensor([[ True,  True,  True,  ...,  True,  True, False],\n",
       "         [ True,  True,  True,  ..., False, False, False],\n",
       "         [ True,  True,  True,  ..., False, False, False]])}"
      ]
     },
     "execution_count": 11,
     "metadata": {},
     "output_type": "execute_result"
    }
   ],
   "source": [
    "input_tokens"
   ]
  },
  {
   "cell_type": "code",
   "execution_count": 12,
   "metadata": {},
   "outputs": [
    {
     "name": "stdout",
     "output_type": "stream",
     "text": [
      "torch.Size([3, 1968]) torch.Size([3, 1968]) torch.Size([3, 1968])\n"
     ]
    }
   ],
   "source": [
    "print(\n",
    "    input_tokens[\"value_tokens\"].shape,\n",
    "    input_tokens[\"coord_type_tokens\"].shape,\n",
    "    input_tokens[\"position_tokens\"].shape\n",
    ")"
   ]
  },
  {
   "cell_type": "code",
   "execution_count": 13,
   "metadata": {},
   "outputs": [
    {
     "data": {
      "text/plain": [
       "torch.Size([3, 1968, 128])"
      ]
     },
     "execution_count": 13,
     "metadata": {},
     "output_type": "execute_result"
    }
   ],
   "source": [
    "emb = embed(\n",
    "    input_tokens[\"value_tokens\"], \n",
    "    input_tokens[\"coord_type_tokens\"], \n",
    "    input_tokens[\"position_tokens\"]\n",
    ")\n",
    "emb.shape"
   ]
  },
  {
   "cell_type": "code",
   "execution_count": 14,
   "metadata": {},
   "outputs": [],
   "source": [
    "reformer = Reformer(dim=128, depth=1, max_seq_len=8192, bucket_size=24)"
   ]
  },
  {
   "cell_type": "code",
   "execution_count": 15,
   "metadata": {},
   "outputs": [
    {
     "data": {
      "text/plain": [
       "torch.Size([3, 1968, 128])"
      ]
     },
     "execution_count": 15,
     "metadata": {},
     "output_type": "execute_result"
    }
   ],
   "source": [
    "output = reformer(emb)\n",
    "output.shape"
   ]
  },
  {
   "cell_type": "code",
   "execution_count": 16,
   "metadata": {},
   "outputs": [],
   "source": [
    "class Config(object):\n",
    "    \n",
    "    def write_to_json(self, out_path):\n",
    "        with open(out_path, \"w\") as fw:\n",
    "            json.dump(self.config, fw, indent=4)\n",
    "            \n",
    "    def load_from_json(self, file_path):\n",
    "        with open(file_path) as fr:\n",
    "            self.config = json.load(fr)\n",
    "        \n",
    "    def __getitem__(self, key):\n",
    "        return self.config[key]"
   ]
  },
  {
   "cell_type": "code",
   "execution_count": 17,
   "metadata": {},
   "outputs": [],
   "source": [
    "class VertexPolyGenConfig(Config):\n",
    "    \n",
    "    def __init__(self,\n",
    "                 embed_dim=256, \n",
    "                 max_seq_len=2400, \n",
    "                 tokenizer__bos_id=0,\n",
    "                 tokenizer__eos_id=1,\n",
    "                 tokenizer__pad_id=2,\n",
    "                 embedding__vocab_value=256 + 3, \n",
    "                 embedding__vocab_coord_type=4, \n",
    "                 embedding__vocab_position=1000,\n",
    "                 embedding__pad_idx_value=2,\n",
    "                 embedding__pad_idx_coord_type=0,\n",
    "                 embedding__pad_idx_position=0,\n",
    "                 reformer__depth=12,\n",
    "                 reformer__heads=8,\n",
    "                 reformer__n_hashes=8,\n",
    "                 reformer__bucket_size=48,\n",
    "                 reformer__causal=True,\n",
    "                 reformer__lsh_dropout=0.2, \n",
    "                 reformer__ff_dropout=0.2,\n",
    "                 reformer__post_attn_dropout=0.2,\n",
    "                 reformer__ff_mult=4):\n",
    "        \n",
    "        # tokenizer config\n",
    "        tokenizer_config = {\n",
    "            \"bos_id\": tokenizer__bos_id,\n",
    "            \"eos_id\": tokenizer__eos_id,\n",
    "            \"pad_id\": tokenizer__pad_id,\n",
    "            \"max_seq_len\": max_seq_len,\n",
    "        }\n",
    "        \n",
    "        # embedding config\n",
    "        embedding_config = {\n",
    "            \"vocab_value\": embedding__vocab_value,\n",
    "            \"vocab_coord_type\": embedding__vocab_coord_type,\n",
    "            \"vocab_position\": embedding__vocab_position,\n",
    "            \"pad_idx_value\": embedding__pad_idx_value,\n",
    "            \"pad_idx_coord_type\": embedding__pad_idx_coord_type,\n",
    "            \"pad_idx_position\": embedding__pad_idx_position,\n",
    "            \"embed_dim\": embed_dim,\n",
    "        }\n",
    "        \n",
    "        # reformer info\n",
    "        reformer_config = {\n",
    "            \"dim\": embed_dim,\n",
    "            \"depth\": reformer__depth,\n",
    "            \"max_seq_len\": max_seq_len,\n",
    "            \"heads\": reformer__heads,\n",
    "            \"bucket_size\": reformer__bucket_size,\n",
    "            \"n_hashes\": reformer__n_hashes,\n",
    "            \"causal\": reformer__causal,\n",
    "            \"lsh_dropout\": reformer__lsh_dropout, \n",
    "            \"ff_dropout\": reformer__ff_dropout,\n",
    "            \"post_attn_dropout\": reformer__post_attn_dropout,\n",
    "            \"ff_mult\": reformer__ff_mult,\n",
    "        }\n",
    "        \n",
    "        self.config = {\n",
    "            \"embed_dim\": embed_dim,\n",
    "            \"max_seq_len\": max_seq_len,\n",
    "            \"tokenizer\": tokenizer_config,\n",
    "            \"embedding\": embedding_config,\n",
    "            \"reformer\": reformer_config,\n",
    "        }"
   ]
  },
  {
   "cell_type": "code",
   "execution_count": 18,
   "metadata": {},
   "outputs": [],
   "source": [
    "def accuracy(y_pred, y_true, ignore_label=None, device=None):\n",
    "    y_pred = y_pred.argmax(dim=1)\n",
    "\n",
    "    if ignore_label:\n",
    "        normalizer = torch.sum(y_true!=ignore_label)\n",
    "        ignore_mask = torch.where(\n",
    "            y_true == ignore_label,\n",
    "            torch.zeros_like(y_true, device=device),\n",
    "            torch.ones_like(y_true, device=device)\n",
    "        ).type(torch.float32)\n",
    "    else:\n",
    "        normalizer = y_true.shape[0]\n",
    "        ignore_mask = torch.ones_like(y_true, device=device).type(torch.float32)\n",
    "\n",
    "    acc = (y_pred.reshape(-1)==y_true.reshape(-1)).type(torch.float32)\n",
    "    acc = torch.sum(acc*ignore_mask)\n",
    "    return acc / normalizer"
   ]
  },
  {
   "cell_type": "code",
   "execution_count": 19,
   "metadata": {},
   "outputs": [],
   "source": [
    "class VertexPolyGen(nn.Module):\n",
    "    \n",
    "    def __init__(self, model_config):\n",
    "        super().__init__()\n",
    "        self.tokenizer = DecodeVertexTokenizer(**model_config[\"tokenizer\"])\n",
    "        self.embedding = VertexDecoderEmbedding(**model_config[\"embedding\"])\n",
    "        self.reformer = Reformer(**model_config[\"reformer\"])\n",
    "        self.layernorm = nn.LayerNorm(model_config[\"embed_dim\"])\n",
    "        self.loss_func = nn.CrossEntropyLoss(ignore_index=model_config[\"tokenizer\"][\"pad_id\"])\n",
    "    \n",
    "    def forward(self, tokens, device=None):\n",
    "        \n",
    "        hs = self.embedding(\n",
    "            tokens[\"value_tokens\"], \n",
    "            tokens[\"coord_type_tokens\"], \n",
    "            tokens[\"position_tokens\"]\n",
    "        )\n",
    "        \n",
    "        hs = self.reformer(\n",
    "            hs, input_mask=tokens[\"padding_mask\"]\n",
    "        )\n",
    "        hs = self.layernorm(hs)\n",
    "        \n",
    "        return hs\n",
    "        \n",
    "    def __call__(self, inputs, device=None):\n",
    "        tokens = self.tokenizer.tokenize(inputs)\n",
    "        tokens = {k: v.to(device) for k, v in tokens.items()}\n",
    "        \n",
    "        hs = self.forward(tokens, device=device)\n",
    "        hs = F.linear(hs, self.embedding.value_embed.weight)\n",
    "        BATCH, LENGTH, EMBED = hs.shape\n",
    "        hs = hs.reshape(BATCH*LENGTH, EMBED)\n",
    "        targets = tokens[\"target_tokens\"].reshape(BATCH*LENGTH,)\n",
    "        \n",
    "        acc = accuracy(\n",
    "            hs, targets, ignore_label=self.tokenizer.pad_id, device=device\n",
    "        )\n",
    "        loss = self.loss_func(hs, targets)\n",
    "        \n",
    "        outputs = {\n",
    "            \"accuracy\": acc,\n",
    "            \"loss\": loss,\n",
    "        }\n",
    "        return outputs\n",
    "    \n",
    "    @torch.no_grad()\n",
    "    def predict(self, max_seq_len=2400, device=None):\n",
    "        tokenizer = self.tokenizer\n",
    "        special_tokens = tokenizer.special_tokens\n",
    "        \n",
    "        tokens = tokenizer.get_pred_start()\n",
    "        tokens = {k: v.to(device) for k, v in tokens.items()}\n",
    "        preds = []\n",
    "        pred_idx = 0\n",
    "        \n",
    "        while (pred_idx <= max_seq_len-1)\\\n",
    "        and ((len(preds) == 0) or (preds[-1] != special_tokens[\"eos\"]-len(special_tokens))):\n",
    "            \n",
    "            if pred_idx >= 1:\n",
    "                tokens = tokenizer.tokenize([torch.stack(preds)])\n",
    "                tokens[\"value_tokens\"][:, pred_idx+1] = special_tokens[\"pad\"]\n",
    "                tokens[\"padding_mask\"][:, pred_idx+1] = True\n",
    "            \n",
    "            try:\n",
    "                hs = self.forward(tokens, device=device)\n",
    "            except IndexError:\n",
    "                print(pred_idx)\n",
    "                for k, v in tokens.items():\n",
    "                    print(k)\n",
    "                    print(v.shape)\n",
    "                    print(v)\n",
    "                import traceback\n",
    "                print(traceback.format_exc())\n",
    "                break\n",
    "\n",
    "            hs = F.linear(hs[:, pred_idx], self.embedding.value_embed.weight)\n",
    "            pred = hs.argmax(dim=1) - len(special_tokens)\n",
    "            preds.append(pred[0])\n",
    "            pred_idx += 1\n",
    "            \n",
    "        return torch.stack(preds) + len(special_tokens)"
   ]
  },
  {
   "cell_type": "code",
   "execution_count": 29,
   "metadata": {},
   "outputs": [],
   "source": [
    "config = VertexPolyGenConfig(\n",
    "    embed_dim=128, reformer__depth=6, \n",
    "    reformer__lsh_dropout=0., reformer__ff_dropout=0.,\n",
    "    reformer__post_attn_dropout=0.\n",
    ")\n",
    "model = VertexPolyGen(config)"
   ]
  },
  {
   "cell_type": "code",
   "execution_count": 30,
   "metadata": {},
   "outputs": [],
   "source": [
    "optimizer = torch.optim.Adam(model.parameters(), lr=1e-3)"
   ]
  },
  {
   "cell_type": "code",
   "execution_count": 31,
   "metadata": {},
   "outputs": [
    {
     "data": {
      "text/plain": [
       "[tensor([[160, 136, 132],\n",
       "         [160, 136, 130],\n",
       "         [160, 136, 126],\n",
       "         ...,\n",
       "         [ 94, 136, 127],\n",
       "         [ 94, 136, 124],\n",
       "         [ 94, 136, 122]], dtype=torch.int32)]"
      ]
     },
     "execution_count": 31,
     "metadata": {},
     "output_type": "execute_result"
    }
   ],
   "source": [
    "data = v_batch[:1]\n",
    "data"
   ]
  },
  {
   "cell_type": "code",
   "execution_count": null,
   "metadata": {},
   "outputs": [
    {
     "name": "stdout",
     "output_type": "stream",
     "text": [
      "iteration: 0\tloss: 71.26718\tacc: 0.01373346894979477\n",
      "iteration: 10\tloss: 34.52539\tacc: 0.020752797555178403\n",
      "iteration: 20\tloss: 11.62529\tacc: 0.03056968506425619\n",
      "iteration: 30\tloss: 7.15253\tacc: 0.03723296038806438\n",
      "iteration: 40\tloss: 5.38933\tacc: 0.04328585974872112\n",
      "iteration: 50\tloss: 4.46247\tacc: 0.04587995931506157\n",
      "iteration: 60\tloss: 4.03079\tacc: 0.05330620557069778\n",
      "iteration: 70\tloss: 3.80348\tacc: 0.05879959352314472\n",
      "iteration: 80\tloss: 3.63885\tacc: 0.064394710958004\n",
      "iteration: 90\tloss: 3.54084\tacc: 0.07054933831095696\n",
      "iteration: 100\tloss: 3.46305\tacc: 0.08092573806643485\n",
      "iteration: 110\tloss: 3.39959\tacc: 0.09257375374436379\n"
     ]
    }
   ],
   "source": [
    "import numpy as np\n",
    "epoch_num = 700\n",
    "model.train()\n",
    "losses = []\n",
    "accs = []\n",
    "\n",
    "for i in range(epoch_num):\n",
    "    optimizer.zero_grad()\n",
    "    outputs = model(data)\n",
    "    \n",
    "    loss = outputs[\"loss\"]\n",
    "    acc = outputs[\"accuracy\"]\n",
    "    losses.append(loss.item())\n",
    "    accs.append(acc.item())\n",
    "    if i % 10 == 0:\n",
    "        ave_loss = np.mean(losses[-10:])\n",
    "        ave_acc = np.mean(accs[-10:])\n",
    "        print(\"iteration: {}\\tloss: {:.5f}\\tacc: {}\".format(i, ave_loss, ave_acc))\n",
    "    loss.backward()\n",
    "    optimizer.step()"
   ]
  },
  {
   "cell_type": "code",
   "execution_count": 30,
   "metadata": {},
   "outputs": [
    {
     "data": {
      "text/plain": [
       "tensor([163, 163, 163,  ..., 139, 125,   1])"
      ]
     },
     "execution_count": 30,
     "metadata": {},
     "output_type": "execute_result"
    }
   ],
   "source": [
    "model.eval()\n",
    "pred = model.predict(max_seq_len=2400)\n",
    "pred"
   ]
  },
  {
   "cell_type": "code",
   "execution_count": 45,
   "metadata": {},
   "outputs": [
    {
     "data": {
      "text/plain": [
       "tensor(1860)"
      ]
     },
     "execution_count": 45,
     "metadata": {},
     "output_type": "execute_result"
    }
   ],
   "source": [
    "((pred[:-1] - 3) == data[0].reshape(-1, )).sum()"
   ]
  },
  {
   "cell_type": "code",
   "execution_count": 51,
   "metadata": {},
   "outputs": [
    {
     "data": {
      "text/plain": [
       "tensor([[160, 160, 160],\n",
       "        [160, 136, 136],\n",
       "        [160, 136, 132],\n",
       "        ...,\n",
       "        [ 94, 136, 127],\n",
       "        [ 94, 136, 124],\n",
       "        [ 94, 136, 122]])"
      ]
     },
     "execution_count": 51,
     "metadata": {},
     "output_type": "execute_result"
    }
   ],
   "source": [
    "pred[:-1].reshape(655, 3) - 3"
   ]
  },
  {
   "cell_type": "code",
   "execution_count": 50,
   "metadata": {},
   "outputs": [
    {
     "data": {
      "text/plain": [
       "tensor([[160, 136, 132],\n",
       "        [160, 136, 130],\n",
       "        [160, 136, 126],\n",
       "        ...,\n",
       "        [ 94, 136, 127],\n",
       "        [ 94, 136, 124],\n",
       "        [ 94, 136, 122]], dtype=torch.int32)"
      ]
     },
     "execution_count": 50,
     "metadata": {},
     "output_type": "execute_result"
    }
   ],
   "source": [
    "data[0]"
   ]
  },
  {
   "cell_type": "code",
   "execution_count": 42,
   "metadata": {},
   "outputs": [
    {
     "data": {
      "text/plain": [
       "{'value_tokens': tensor([[  0, 166, 142, 132, 132, 142, 132, 132, 142, 132, 132, 142, 122, 122,\n",
       "          142, 142, 142, 142, 142, 142, 142, 125, 125, 142, 132, 132, 142, 121,\n",
       "          121,  90, 121, 121, 121, 121, 121, 121, 121, 121, 121, 121, 121, 176,\n",
       "          142, 142, 142, 122, 122, 142, 132, 132, 142, 132, 132, 142, 122, 122,\n",
       "          133, 129, 129, 142, 132, 132, 142, 142, 142, 142, 142, 142, 142, 132,\n",
       "          132, 142, 142, 142, 142, 142, 142, 142, 142, 142, 142, 122, 122, 142,\n",
       "          132, 132, 142, 142, 142, 142, 142, 142, 142, 142, 142, 142, 132, 132,\n",
       "          142, 126, 126,   1,   2]]),\n",
       " 'target_tokens': tensor([[166, 142, 132, 132, 142, 132, 132, 142, 132, 132, 142, 122, 122, 142,\n",
       "          142, 142, 142, 142, 142, 142, 125, 125, 142, 132, 132, 142, 121, 121,\n",
       "           90, 121, 121, 121, 121, 121, 121, 121, 121, 121, 121, 121, 176, 142,\n",
       "          142, 142, 122, 122, 142, 132, 132, 142, 132, 132, 142, 122, 122, 133,\n",
       "          129, 129, 142, 132, 132, 142, 142, 142, 142, 142, 142, 142, 132, 132,\n",
       "          142, 142, 142, 142, 142, 142, 142, 142, 142, 142, 122, 122, 142, 132,\n",
       "          132, 142, 142, 142, 142, 142, 142, 142, 142, 142, 142, 132, 132, 142,\n",
       "          126, 126,   1,   2,   2]]),\n",
       " 'coord_type_tokens': tensor([[0, 1, 2, 3, 1, 2, 3, 1, 2, 3, 1, 2, 3, 1, 2, 3, 1, 2, 3, 1, 2, 3, 1, 2,\n",
       "          3, 1, 2, 3, 1, 2, 3, 1, 2, 3, 1, 2, 3, 1, 2, 3, 1, 2, 3, 1, 2, 3, 1, 2,\n",
       "          3, 1, 2, 3, 1, 2, 3, 1, 2, 3, 1, 2, 3, 1, 2, 3, 1, 2, 3, 1, 2, 3, 1, 2,\n",
       "          3, 1, 2, 3, 1, 2, 3, 1, 2, 3, 1, 2, 3, 1, 2, 3, 1, 2, 3, 1, 2, 3, 1, 2,\n",
       "          3, 1, 2, 3, 1, 0, 0]]),\n",
       " 'position_tokens': tensor([[ 0,  1,  1,  1,  2,  2,  2,  3,  3,  3,  4,  4,  4,  5,  5,  5,  6,  6,\n",
       "           6,  7,  7,  7,  8,  8,  8,  9,  9,  9, 10, 10, 10, 11, 11, 11, 12, 12,\n",
       "          12, 13, 13, 13, 14, 14, 14, 15, 15, 15, 16, 16, 16, 17, 17, 17, 18, 18,\n",
       "          18, 19, 19, 19, 20, 20, 20, 21, 21, 21, 22, 22, 22, 23, 23, 23, 24, 24,\n",
       "          24, 25, 25, 25, 26, 26, 26, 27, 27, 27, 28, 28, 28, 29, 29, 29, 30, 30,\n",
       "          30, 31, 31, 31, 32, 32, 32, 33, 33, 33, 34,  0,  0]]),\n",
       " 'padding_mask': tensor([[False, False, False, False, False, False, False, False, False, False,\n",
       "          False, False, False, False, False, False, False, False, False, False,\n",
       "          False, False, False, False, False, False, False, False, False, False,\n",
       "          False, False, False, False, False, False, False, False, False, False,\n",
       "          False, False, False, False, False, False, False, False, False, False,\n",
       "          False, False, False, False, False, False, False, False, False, False,\n",
       "          False, False, False, False, False, False, False, False, False, False,\n",
       "          False, False, False, False, False, False, False, False, False, False,\n",
       "          False, False, False, False, False, False, False, False, False, False,\n",
       "          False, False, False, False, False, False, False, False, False, False,\n",
       "          False, False,  True]])}"
      ]
     },
     "execution_count": 42,
     "metadata": {},
     "output_type": "execute_result"
    }
   ],
   "source": [
    "dec_tokenizer.tokenize()"
   ]
  },
  {
   "cell_type": "code",
   "execution_count": 25,
   "metadata": {},
   "outputs": [
    {
     "data": {
      "text/plain": [
       "{'value_tokens': tensor([[0, 3, 1, 2]]),\n",
       " 'target_tokens': tensor([[3, 1, 2, 2]]),\n",
       " 'coord_type_tokens': tensor([[0, 1, 0, 0]]),\n",
       " 'position_tokens': tensor([[0, 1, 0, 0]]),\n",
       " 'padding_mask': tensor([[False, False, False,  True]])}"
      ]
     },
     "execution_count": 25,
     "metadata": {},
     "output_type": "execute_result"
    }
   ],
   "source": [
    "dec_tokenizer.tokenize([torch.tensor([0])])"
   ]
  },
  {
   "cell_type": "code",
   "execution_count": null,
   "metadata": {},
   "outputs": [],
   "source": []
  }
 ],
 "metadata": {
  "kernelspec": {
   "display_name": "3dEnv",
   "language": "python",
   "name": "3denv"
  },
  "language_info": {
   "codemirror_mode": {
    "name": "ipython",
    "version": 3
   },
   "file_extension": ".py",
   "mimetype": "text/x-python",
   "name": "python",
   "nbconvert_exporter": "python",
   "pygments_lexer": "ipython3",
   "version": "3.7.9"
  }
 },
 "nbformat": 4,
 "nbformat_minor": 4
}
