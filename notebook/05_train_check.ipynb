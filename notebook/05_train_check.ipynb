{
 "cells": [
  {
   "cell_type": "code",
   "execution_count": 1,
   "metadata": {
    "colab": {
     "base_uri": "https://localhost:8080/"
    },
    "executionInfo": {
     "elapsed": 22904,
     "status": "ok",
     "timestamp": 1609840243379,
     "user": {
      "displayName": "がっぴー",
      "photoUrl": "",
      "userId": "13555933674166068524"
     },
     "user_tz": -540
    },
    "id": "3A5a0bMS2TnH",
    "outputId": "db0a5c17-3190-4d54-8c8d-63c7cf73ba2c"
   },
   "outputs": [
    {
     "name": "stdout",
     "output_type": "stream",
     "text": [
      "Mounted at /content/drive\n",
      "/content/drive/My Drive/porijen_pytorch/notebook\n"
     ]
    }
   ],
   "source": [
    "from google.colab import drive\n",
    "drive.mount('/content/drive')\n",
    "%cd \"drive/My Drive/porijen_pytorch/notebook\""
   ]
  },
  {
   "cell_type": "code",
   "execution_count": 2,
   "metadata": {
    "colab": {
     "base_uri": "https://localhost:8080/"
    },
    "executionInfo": {
     "elapsed": 10414,
     "status": "ok",
     "timestamp": 1609840249293,
     "user": {
      "displayName": "がっぴー",
      "photoUrl": "",
      "userId": "13555933674166068524"
     },
     "user_tz": -540
    },
    "id": "db7eYaue29F_",
    "outputId": "42022360-c2e3-4da5-b379-696694c26bd6"
   },
   "outputs": [
    {
     "name": "stdout",
     "output_type": "stream",
     "text": [
      "Requirement already satisfied: pip in /usr/local/lib/python3.6/dist-packages (19.3.1)\n",
      "Collecting install\n",
      "  Downloading https://files.pythonhosted.org/packages/f0/a5/fd2eb807a9a593869ee8b7a6bcb4ad84a6eb31cef5c24d1bfbf7c938c13f/install-1.3.4-py3-none-any.whl\n",
      "Collecting reformer_pytorch\n",
      "  Downloading https://files.pythonhosted.org/packages/8a/16/e84a99e6d34b616ab95ed6ab8c1b76f0db50e3beea854879384602e50e54/reformer_pytorch-1.2.4-py3-none-any.whl\n",
      "Collecting axial-positional-embedding>=0.1.0\n",
      "  Downloading https://files.pythonhosted.org/packages/7a/27/ad886f872b15153905d957a70670efe7521a07c70d324ff224f998e52492/axial_positional_embedding-0.2.1.tar.gz\n",
      "Collecting local-attention\n",
      "  Downloading https://files.pythonhosted.org/packages/5b/37/f8702c01f3f2af43a967d6a45bca88529f8fdaa6fc2175377bf8ca2000ee/local_attention-1.2.1-py3-none-any.whl\n",
      "Requirement already satisfied: torch in /usr/local/lib/python3.6/dist-packages (from reformer_pytorch) (1.7.0+cu101)\n",
      "Collecting product-key-memory\n",
      "  Downloading https://files.pythonhosted.org/packages/31/3b/c1f8977e4b04f047acc7b23c7424d1e2e624ed7031e699a2ac2287af4c1f/product_key_memory-0.1.10.tar.gz\n",
      "Requirement already satisfied: typing-extensions in /usr/local/lib/python3.6/dist-packages (from torch->reformer_pytorch) (3.7.4.3)\n",
      "Requirement already satisfied: future in /usr/local/lib/python3.6/dist-packages (from torch->reformer_pytorch) (0.16.0)\n",
      "Requirement already satisfied: dataclasses in /usr/local/lib/python3.6/dist-packages (from torch->reformer_pytorch) (0.8)\n",
      "Requirement already satisfied: numpy in /usr/local/lib/python3.6/dist-packages (from torch->reformer_pytorch) (1.19.4)\n",
      "Building wheels for collected packages: axial-positional-embedding, product-key-memory\n",
      "  Building wheel for axial-positional-embedding (setup.py) ... \u001b[?25l\u001b[?25hdone\n",
      "  Created wheel for axial-positional-embedding: filename=axial_positional_embedding-0.2.1-cp36-none-any.whl size=2904 sha256=c3ee1576eae76a7fc75e61cfdce75a9bfc1d44e5bc7defbcb49bda982d0cf549\n",
      "  Stored in directory: /root/.cache/pip/wheels/cd/f8/93/25b60e319a481e8f324dcb1871aff818eb0c8143ed20b732b4\n",
      "  Building wheel for product-key-memory (setup.py) ... \u001b[?25l\u001b[?25hdone\n",
      "  Created wheel for product-key-memory: filename=product_key_memory-0.1.10-cp36-none-any.whl size=3072 sha256=a2fc1f9c923144a93079c0407190a2417301230e8d60d55e9ac637251502afcc\n",
      "  Stored in directory: /root/.cache/pip/wheels/6d/e0/3b/fd3111a4fac652ed014ccfd4757754f006132723985e229419\n",
      "Successfully built axial-positional-embedding product-key-memory\n",
      "Installing collected packages: install, axial-positional-embedding, local-attention, product-key-memory, reformer-pytorch\n",
      "Successfully installed axial-positional-embedding-0.2.1 install-1.3.4 local-attention-1.2.1 product-key-memory-0.1.10 reformer-pytorch-1.2.4\n"
     ]
    }
   ],
   "source": [
    "!pip install pip install reformer_pytorch"
   ]
  },
  {
   "cell_type": "code",
   "execution_count": 3,
   "metadata": {
    "executionInfo": {
     "elapsed": 12455,
     "status": "ok",
     "timestamp": 1609840252740,
     "user": {
      "displayName": "がっぴー",
      "photoUrl": "",
      "userId": "13555933674166068524"
     },
     "user_tz": -540
    },
    "id": "43Aix43q2LTq"
   },
   "outputs": [],
   "source": [
    "import os\n",
    "import sys\n",
    "import glob\n",
    "import torch"
   ]
  },
  {
   "cell_type": "code",
   "execution_count": 4,
   "metadata": {
    "colab": {
     "base_uri": "https://localhost:8080/"
    },
    "executionInfo": {
     "elapsed": 37528,
     "status": "ok",
     "timestamp": 1609840278021,
     "user": {
      "displayName": "がっぴー",
      "photoUrl": "",
      "userId": "13555933674166068524"
     },
     "user_tz": -540
    },
    "id": "XvwbcPMH2LTw",
    "outputId": "95795b19-f5b0-4b6a-b38e-313339d68c92"
   },
   "outputs": [
    {
     "name": "stdout",
     "output_type": "stream",
     "text": [
      "7003 1088\n"
     ]
    }
   ],
   "source": [
    "base_dir = os.path.dirname(os.getcwd())\n",
    "out_dir = os.path.join(base_dir, \"results\", \"models\")\n",
    "data_dir = os.path.join(base_dir, \"data\", \"original\")\n",
    "train_files = glob.glob(os.path.join(data_dir, \"train\", \"*\", \"*.obj\"))\n",
    "valid_files = glob.glob(os.path.join(data_dir, \"val\", \"*\", \"*.obj\"))\n",
    "print(len(train_files), len(valid_files))\n",
    "\n",
    "src_dir = os.path.join(base_dir, \"src\")\n",
    "sys.path.append(os.path.join(src_dir))"
   ]
  },
  {
   "cell_type": "code",
   "execution_count": 5,
   "metadata": {
    "executionInfo": {
     "elapsed": 44212,
     "status": "ok",
     "timestamp": 1609840284852,
     "user": {
      "displayName": "がっぴー",
      "photoUrl": "",
      "userId": "13555933674166068524"
     },
     "user_tz": -540
    },
    "id": "3HJnZ02p2LTy"
   },
   "outputs": [],
   "source": [
    "from utils import load_pipeline\n",
    "from pytorch_trainer import Trainer, Reporter\n",
    "from models import FacePolyGenConfig, FacePolyGen, VertexPolyGenConfig, VertexPolyGen"
   ]
  },
  {
   "cell_type": "code",
   "execution_count": 6,
   "metadata": {
    "colab": {
     "base_uri": "https://localhost:8080/"
    },
    "executionInfo": {
     "elapsed": 44971,
     "status": "ok",
     "timestamp": 1609840285796,
     "user": {
      "displayName": "がっぴー",
      "photoUrl": "",
      "userId": "13555933674166068524"
     },
     "user_tz": -540
    },
    "id": "IQOUYOTC2LTy",
    "outputId": "f4d93cbd-e769-4d28-d638-e2cdddf1c96f"
   },
   "outputs": [
    {
     "name": "stdout",
     "output_type": "stream",
     "text": [
      "torch.Size([431, 3]) 528\n",
      "============================================================\n",
      "torch.Size([395, 3]) 584\n",
      "============================================================\n",
      "torch.Size([108, 3]) 150\n",
      "============================================================\n"
     ]
    }
   ],
   "source": [
    "v_batch, f_batch = [], []\n",
    "for i in range(3):\n",
    "    vs, _, fs = load_pipeline(train_files[i])\n",
    "    \n",
    "    vs = torch.tensor(vs)\n",
    "    fs = [torch.tensor(f) for f in fs]\n",
    "    \n",
    "    v_batch.append(vs)\n",
    "    f_batch.append(fs)\n",
    "    print(vs.shape, len(fs))\n",
    "    print(\"=\"*60)"
   ]
  },
  {
   "cell_type": "code",
   "execution_count": 7,
   "metadata": {
    "colab": {
     "base_uri": "https://localhost:8080/"
    },
    "executionInfo": {
     "elapsed": 44408,
     "status": "ok",
     "timestamp": 1609840285798,
     "user": {
      "displayName": "がっぴー",
      "photoUrl": "",
      "userId": "13555933674166068524"
     },
     "user_tz": -540
    },
    "id": "XTPxUu7W2LTz",
    "outputId": "ae4cd89a-4911-444a-e0c5-3b166e4e75b6"
   },
   "outputs": [
    {
     "name": "stdout",
     "output_type": "stream",
     "text": [
      "src__max_seq_len changed, because of lsh-attention's bucket_size\n",
      "before: 2400 --> after: 2592 (with bucket_size: 48)\n",
      "tgt__max_seq_len changed, because of lsh-attention's bucket_size\n",
      "before: 3900 --> after: 3936 (with bucket_size: 48)\n"
     ]
    }
   ],
   "source": [
    "model_conditions = {\n",
    "    \"face\": FacePolyGen(FacePolyGenConfig(\n",
    "                            embed_dim=64, \n",
    "                            src__reformer__depth=4,\n",
    "                            src__reformer__lsh_dropout=0.,\n",
    "                            src__reformer__ff_dropout=0., \n",
    "                            src__reformer__post_attn_dropout=0.,\n",
    "                            tgt__reformer__depth=4, \n",
    "                            tgt__reformer__lsh_dropout=0.,\n",
    "                            tgt__reformer__ff_dropout=0., \n",
    "                            tgt__reformer__post_attn_dropout=0.\n",
    "    )),\n",
    "    \"vertex\": VertexPolyGen(VertexPolyGenConfig(\n",
    "                            embed_dim=128, reformer__depth=6, \n",
    "                            reformer__lsh_dropout=0., \n",
    "                            reformer__ff_dropout=0.,\n",
    "                            reformer__post_attn_dropout=0.\n",
    "    )),\n",
    "}"
   ]
  },
  {
   "cell_type": "code",
   "execution_count": 10,
   "metadata": {
    "executionInfo": {
     "elapsed": 628,
     "status": "ok",
     "timestamp": 1609840289583,
     "user": {
      "displayName": "がっぴー",
      "photoUrl": "",
      "userId": "13555933674166068524"
     },
     "user_tz": -540
    },
    "id": "dDEoBWva2LTz"
   },
   "outputs": [],
   "source": [
    "# model_type = \"face\"\n",
    "model_type = \"vertex\"\n",
    "model = model_conditions[model_type]\n",
    "optimizer = torch.optim.Adam(model.parameters(), lr=3e-4)"
   ]
  },
  {
   "cell_type": "code",
   "execution_count": 11,
   "metadata": {
    "executionInfo": {
     "elapsed": 598,
     "status": "ok",
     "timestamp": 1609840291046,
     "user": {
      "displayName": "がっぴー",
      "photoUrl": "",
      "userId": "13555933674166068524"
     },
     "user_tz": -540
    },
    "id": "YVFmD30y2LTz"
   },
   "outputs": [],
   "source": [
    "class VertexDataset(torch.utils.data.Dataset):\n",
    "    \n",
    "    def __init__(self, vertices):\n",
    "        self.vertices = vertices\n",
    "\n",
    "    def __len__(self):\n",
    "        return len(self.vertices)\n",
    "\n",
    "    def __getitem__(self, idx):\n",
    "        x = self.vertices[idx]\n",
    "        return x\n",
    "    \n",
    "class FaceDataset(torch.utils.data.Dataset):\n",
    "    \n",
    "    def __init__(self, vertices, faces):\n",
    "        self.vertices = vertices\n",
    "        self.faces = faces\n",
    "\n",
    "    def __len__(self):\n",
    "        return len(self.vertices)\n",
    "\n",
    "    def __getitem__(self, idx):\n",
    "        x = self.vertices[idx]\n",
    "        y = self.faces[idx]\n",
    "        return x, y"
   ]
  },
  {
   "cell_type": "code",
   "execution_count": 12,
   "metadata": {
    "colab": {
     "base_uri": "https://localhost:8080/"
    },
    "executionInfo": {
     "elapsed": 591,
     "status": "ok",
     "timestamp": 1609840292142,
     "user": {
      "displayName": "がっぴー",
      "photoUrl": "",
      "userId": "13555933674166068524"
     },
     "user_tz": -540
    },
    "id": "WtFdnnnI2LT0",
    "outputId": "c4d43f5a-45ad-40f0-c6d3-65934f605973"
   },
   "outputs": [
    {
     "data": {
      "text/plain": [
       "(1, 1)"
      ]
     },
     "execution_count": 12,
     "metadata": {
      "tags": []
     },
     "output_type": "execute_result"
    }
   ],
   "source": [
    "v_batch = v_batch[:1]\n",
    "f_batch = f_batch[:1]\n",
    "v_dataset = VertexDataset(v_batch)\n",
    "f_dataset = FaceDataset(v_batch, f_batch)\n",
    "len(v_dataset), len(f_dataset)"
   ]
  },
  {
   "cell_type": "code",
   "execution_count": 13,
   "metadata": {
    "executionInfo": {
     "elapsed": 654,
     "status": "ok",
     "timestamp": 1609840293065,
     "user": {
      "displayName": "がっぴー",
      "photoUrl": "",
      "userId": "13555933674166068524"
     },
     "user_tz": -540
    },
    "id": "4U5l0wwg2LT0"
   },
   "outputs": [],
   "source": [
    "def collate_fn_vertex(batch):\n",
    "    return [{\"vertices\": batch}]\n",
    "\n",
    "def collate_fn_face(batch):\n",
    "    vertices = [d[0] for d in batch]\n",
    "    faces = [d[1] for d in batch]\n",
    "    return [{\"vertices\": vertices, \"faces\": faces}]"
   ]
  },
  {
   "cell_type": "code",
   "execution_count": 14,
   "metadata": {
    "colab": {
     "base_uri": "https://localhost:8080/"
    },
    "executionInfo": {
     "elapsed": 601,
     "status": "ok",
     "timestamp": 1609840294908,
     "user": {
      "displayName": "がっぴー",
      "photoUrl": "",
      "userId": "13555933674166068524"
     },
     "user_tz": -540
    },
    "id": "6tDCv21h2LT0",
    "outputId": "71918f92-7b61-4593-b0bf-0b8f83e9a66c"
   },
   "outputs": [
    {
     "data": {
      "text/plain": [
       "(1, 1)"
      ]
     },
     "execution_count": 14,
     "metadata": {
      "tags": []
     },
     "output_type": "execute_result"
    }
   ],
   "source": [
    "batch_size = 1\n",
    "v_loader = torch.utils.data.DataLoader(v_dataset, batch_size, shuffle=True, collate_fn=collate_fn_vertex)\n",
    "f_loader = torch.utils.data.DataLoader(f_dataset, batch_size, shuffle=True, collate_fn=collate_fn_face)\n",
    "loader_condition = {\n",
    "    \"face\": f_loader,\n",
    "    \"vertex\": v_loader,\n",
    "}\n",
    "len(v_loader), len(f_loader)"
   ]
  },
  {
   "cell_type": "code",
   "execution_count": 15,
   "metadata": {
    "executionInfo": {
     "elapsed": 10517,
     "status": "ok",
     "timestamp": 1609840306512,
     "user": {
      "displayName": "がっぴー",
      "photoUrl": "",
      "userId": "13555933674166068524"
     },
     "user_tz": -540
    },
    "id": "RZ-6WVWR2LT1"
   },
   "outputs": [],
   "source": [
    "epoch_num = 300\n",
    "report_interval = 10\n",
    "save_interval = 10\n",
    "eval_interval = 1\n",
    "loader = loader_condition[model_type]\n",
    "\n",
    "reporter = Reporter(print_keys=['main/loss', 'main/perplexity', 'main/accuracy'])\n",
    "trainer = Trainer(\n",
    "    model, optimizer, [loader, loader], gpu=\"gpu\",\n",
    "    reporter=reporter, stop_trigger=(epoch_num, 'epoch'),\n",
    "    report_trigger=(report_interval, 'iteration'), save_trigger=(save_interval, 'epoch'),\n",
    "    log_trigger=(save_interval, 'epoch'), eval_trigger=(eval_interval, 'epoch'),\n",
    "    out_dir=out_dir, #ckpt_path=os.path.join(model_save_dir, 'ckpt_18')\n",
    ")"
   ]
  },
  {
   "cell_type": "code",
   "execution_count": 16,
   "metadata": {
    "colab": {
     "base_uri": "https://localhost:8080/",
     "height": 464
    },
    "executionInfo": {
     "elapsed": 10080,
     "status": "error",
     "timestamp": 1609840317260,
     "user": {
      "displayName": "がっぴー",
      "photoUrl": "",
      "userId": "13555933674166068524"
     },
     "user_tz": -540
    },
    "id": "uMkhefwi2LT1",
    "outputId": "3593b8a7-69f5-4d43-cab1-7e81a59c6bab"
   },
   "outputs": [
    {
     "name": "stdout",
     "output_type": "stream",
     "text": [
      "epoch: 0\titeration: 0\tmain/loss: 5.59441\tmain/perplexity: 268.92020\tmain/accuracy: 0.01159\n",
      "epoch: 9\titeration: 10\tmain/loss: 4.79056\tmain/perplexity: 126.15497\tmain/accuracy: 0.16723\n"
     ]
    },
    {
     "ename": "KeyboardInterrupt",
     "evalue": "ignored",
     "output_type": "error",
     "traceback": [
      "\u001b[0;31m---------------------------------------------------------------------------\u001b[0m",
      "\u001b[0;31mKeyboardInterrupt\u001b[0m                         Traceback (most recent call last)",
      "\u001b[0;32m/content/drive/My Drive/porijen_pytorch/src/pytorch_trainer/trainer.py\u001b[0m in \u001b[0;36mrun\u001b[0;34m(self)\u001b[0m\n\u001b[1;32m    106\u001b[0m                 \u001b[0;32mfor\u001b[0m \u001b[0mi\u001b[0m\u001b[0;34m,\u001b[0m \u001b[0mbatch\u001b[0m \u001b[0;32min\u001b[0m \u001b[0menumerate\u001b[0m\u001b[0;34m(\u001b[0m\u001b[0mloaders\u001b[0m\u001b[0;34m[\u001b[0m\u001b[0;36m0\u001b[0m\u001b[0;34m]\u001b[0m\u001b[0;34m)\u001b[0m\u001b[0;34m:\u001b[0m\u001b[0;34m\u001b[0m\u001b[0;34m\u001b[0m\u001b[0m\n\u001b[0;32m--> 107\u001b[0;31m                     \u001b[0misnan\u001b[0m\u001b[0;34m,\u001b[0m \u001b[0merror_batch\u001b[0m \u001b[0;34m=\u001b[0m \u001b[0mself\u001b[0m\u001b[0;34m.\u001b[0m\u001b[0m_update\u001b[0m\u001b[0;34m(\u001b[0m\u001b[0mmodel\u001b[0m\u001b[0;34m,\u001b[0m \u001b[0moptimizer\u001b[0m\u001b[0;34m,\u001b[0m \u001b[0mbatch\u001b[0m\u001b[0;34m,\u001b[0m \u001b[0mdevice\u001b[0m\u001b[0;34m)\u001b[0m\u001b[0;34m\u001b[0m\u001b[0;34m\u001b[0m\u001b[0m\n\u001b[0m\u001b[1;32m    108\u001b[0m                     \u001b[0;32mif\u001b[0m \u001b[0misnan\u001b[0m\u001b[0;34m:\u001b[0m\u001b[0;34m\u001b[0m\u001b[0;34m\u001b[0m\u001b[0m\n",
      "\u001b[0;32m/content/drive/My Drive/porijen_pytorch/src/pytorch_trainer/trainer.py\u001b[0m in \u001b[0;36m_update\u001b[0;34m(self, model, optimizer, batch, device)\u001b[0m\n\u001b[1;32m    141\u001b[0m         \u001b[0mloss\u001b[0m\u001b[0;34m.\u001b[0m\u001b[0mbackward\u001b[0m\u001b[0;34m(\u001b[0m\u001b[0;34m)\u001b[0m\u001b[0;34m\u001b[0m\u001b[0;34m\u001b[0m\u001b[0m\n\u001b[0;32m--> 142\u001b[0;31m         \u001b[0moptimizer\u001b[0m\u001b[0;34m.\u001b[0m\u001b[0mstep\u001b[0m\u001b[0;34m(\u001b[0m\u001b[0;34m)\u001b[0m\u001b[0;34m\u001b[0m\u001b[0;34m\u001b[0m\u001b[0m\n\u001b[0m\u001b[1;32m    143\u001b[0m         \u001b[0;32mreturn\u001b[0m \u001b[0;32mFalse\u001b[0m\u001b[0;34m,\u001b[0m \u001b[0;32mNone\u001b[0m\u001b[0;34m\u001b[0m\u001b[0;34m\u001b[0m\u001b[0m\n",
      "\u001b[0;32m/usr/local/lib/python3.6/dist-packages/torch/autograd/grad_mode.py\u001b[0m in \u001b[0;36mdecorate_context\u001b[0;34m(*args, **kwargs)\u001b[0m\n\u001b[1;32m     25\u001b[0m             \u001b[0;32mwith\u001b[0m \u001b[0mself\u001b[0m\u001b[0;34m.\u001b[0m\u001b[0m__class__\u001b[0m\u001b[0;34m(\u001b[0m\u001b[0;34m)\u001b[0m\u001b[0;34m:\u001b[0m\u001b[0;34m\u001b[0m\u001b[0;34m\u001b[0m\u001b[0m\n\u001b[0;32m---> 26\u001b[0;31m                 \u001b[0;32mreturn\u001b[0m \u001b[0mfunc\u001b[0m\u001b[0;34m(\u001b[0m\u001b[0;34m*\u001b[0m\u001b[0margs\u001b[0m\u001b[0;34m,\u001b[0m \u001b[0;34m**\u001b[0m\u001b[0mkwargs\u001b[0m\u001b[0;34m)\u001b[0m\u001b[0;34m\u001b[0m\u001b[0;34m\u001b[0m\u001b[0m\n\u001b[0m\u001b[1;32m     27\u001b[0m         \u001b[0;32mreturn\u001b[0m \u001b[0mcast\u001b[0m\u001b[0;34m(\u001b[0m\u001b[0mF\u001b[0m\u001b[0;34m,\u001b[0m \u001b[0mdecorate_context\u001b[0m\u001b[0;34m)\u001b[0m\u001b[0;34m\u001b[0m\u001b[0;34m\u001b[0m\u001b[0m\n",
      "\u001b[0;32m/usr/local/lib/python3.6/dist-packages/torch/optim/adam.py\u001b[0m in \u001b[0;36mstep\u001b[0;34m(self, closure)\u001b[0m\n\u001b[1;32m    118\u001b[0m                    \u001b[0mgroup\u001b[0m\u001b[0;34m[\u001b[0m\u001b[0;34m'weight_decay'\u001b[0m\u001b[0;34m]\u001b[0m\u001b[0;34m,\u001b[0m\u001b[0;34m\u001b[0m\u001b[0;34m\u001b[0m\u001b[0m\n\u001b[0;32m--> 119\u001b[0;31m                    \u001b[0mgroup\u001b[0m\u001b[0;34m[\u001b[0m\u001b[0;34m'eps'\u001b[0m\u001b[0;34m]\u001b[0m\u001b[0;34m\u001b[0m\u001b[0;34m\u001b[0m\u001b[0m\n\u001b[0m\u001b[1;32m    120\u001b[0m                    )\n",
      "\u001b[0;32m/usr/local/lib/python3.6/dist-packages/torch/optim/functional.py\u001b[0m in \u001b[0;36madam\u001b[0;34m(params, grads, exp_avgs, exp_avg_sqs, max_exp_avg_sqs, state_steps, amsgrad, beta1, beta2, lr, weight_decay, eps)\u001b[0m\n\u001b[1;32m     93\u001b[0m         \u001b[0;32melse\u001b[0m\u001b[0;34m:\u001b[0m\u001b[0;34m\u001b[0m\u001b[0;34m\u001b[0m\u001b[0m\n\u001b[0;32m---> 94\u001b[0;31m             \u001b[0mdenom\u001b[0m \u001b[0;34m=\u001b[0m \u001b[0;34m(\u001b[0m\u001b[0mexp_avg_sq\u001b[0m\u001b[0;34m.\u001b[0m\u001b[0msqrt\u001b[0m\u001b[0;34m(\u001b[0m\u001b[0;34m)\u001b[0m \u001b[0;34m/\u001b[0m \u001b[0mmath\u001b[0m\u001b[0;34m.\u001b[0m\u001b[0msqrt\u001b[0m\u001b[0;34m(\u001b[0m\u001b[0mbias_correction2\u001b[0m\u001b[0;34m)\u001b[0m\u001b[0;34m)\u001b[0m\u001b[0;34m.\u001b[0m\u001b[0madd_\u001b[0m\u001b[0;34m(\u001b[0m\u001b[0meps\u001b[0m\u001b[0;34m)\u001b[0m\u001b[0;34m\u001b[0m\u001b[0;34m\u001b[0m\u001b[0m\n\u001b[0m\u001b[1;32m     95\u001b[0m \u001b[0;34m\u001b[0m\u001b[0m\n",
      "\u001b[0;31mKeyboardInterrupt\u001b[0m: ",
      "\nDuring handling of the above exception, another exception occurred:\n",
      "\u001b[0;31mKeyboardInterrupt\u001b[0m                         Traceback (most recent call last)",
      "\u001b[0;32m<ipython-input-16-041e2033e90a>\u001b[0m in \u001b[0;36m<module>\u001b[0;34m()\u001b[0m\n\u001b[0;32m----> 1\u001b[0;31m \u001b[0mtrainer\u001b[0m\u001b[0;34m.\u001b[0m\u001b[0mrun\u001b[0m\u001b[0;34m(\u001b[0m\u001b[0;34m)\u001b[0m\u001b[0;34m\u001b[0m\u001b[0;34m\u001b[0m\u001b[0m\n\u001b[0m",
      "\u001b[0;32m/content/drive/My Drive/porijen_pytorch/src/pytorch_trainer/trainer.py\u001b[0m in \u001b[0;36mrun\u001b[0;34m(self)\u001b[0m\n\u001b[1;32m    129\u001b[0m             \u001b[0;32mexcept\u001b[0m \u001b[0mKeyboardInterrupt\u001b[0m\u001b[0;34m:\u001b[0m\u001b[0;34m\u001b[0m\u001b[0;34m\u001b[0m\u001b[0m\n\u001b[1;32m    130\u001b[0m                 \u001b[0mmodel\u001b[0m\u001b[0;34m.\u001b[0m\u001b[0mreporter\u001b[0m\u001b[0;34m.\u001b[0m\u001b[0mlog_report\u001b[0m\u001b[0;34m(\u001b[0m\u001b[0mself\u001b[0m\u001b[0;34m.\u001b[0m\u001b[0mout_dir\u001b[0m\u001b[0;34m)\u001b[0m\u001b[0;34m\u001b[0m\u001b[0;34m\u001b[0m\u001b[0m\n\u001b[0;32m--> 131\u001b[0;31m                 \u001b[0;32mraise\u001b[0m \u001b[0mKeyboardInterrupt\u001b[0m\u001b[0;34m\u001b[0m\u001b[0;34m\u001b[0m\u001b[0m\n\u001b[0m\u001b[1;32m    132\u001b[0m \u001b[0;34m\u001b[0m\u001b[0m\n\u001b[1;32m    133\u001b[0m         \u001b[0mmodel\u001b[0m\u001b[0;34m.\u001b[0m\u001b[0mreporter\u001b[0m\u001b[0;34m.\u001b[0m\u001b[0mlog_report\u001b[0m\u001b[0;34m(\u001b[0m\u001b[0mself\u001b[0m\u001b[0;34m.\u001b[0m\u001b[0mout_dir\u001b[0m\u001b[0;34m)\u001b[0m\u001b[0;34m\u001b[0m\u001b[0;34m\u001b[0m\u001b[0m\n",
      "\u001b[0;31mKeyboardInterrupt\u001b[0m: "
     ]
    }
   ],
   "source": [
    "trainer.run()"
   ]
  },
  {
   "cell_type": "code",
   "execution_count": null,
   "metadata": {
    "id": "uolpHzXr2LT1"
   },
   "outputs": [],
   "source": []
  }
 ],
 "metadata": {
  "colab": {
   "collapsed_sections": [],
   "name": "05_train_check.ipynb",
   "provenance": []
  },
  "kernelspec": {
   "display_name": "Python 3",
   "language": "python",
   "name": "python3"
  },
  "language_info": {
   "codemirror_mode": {
    "name": "ipython",
    "version": 3
   },
   "file_extension": ".py",
   "mimetype": "text/x-python",
   "name": "python",
   "nbconvert_exporter": "python",
   "pygments_lexer": "ipython3",
   "version": "3.8.5"
  }
 },
 "nbformat": 4,
 "nbformat_minor": 4
}
