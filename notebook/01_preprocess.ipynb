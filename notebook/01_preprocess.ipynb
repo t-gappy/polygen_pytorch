{
 "cells": [
  {
   "cell_type": "code",
   "execution_count": 1,
   "metadata": {},
   "outputs": [],
   "source": [
    "import os\n",
    "import json\n",
    "import glob\n",
    "import numpy as np\n",
    "import pandas as pd\n",
    "import open3d as o3d\n",
    "import meshplot as mp"
   ]
  },
  {
   "cell_type": "code",
   "execution_count": 2,
   "metadata": {},
   "outputs": [],
   "source": [
    "base_dir = os.path.dirname(os.getcwd())\n",
    "data_dir = os.path.join(base_dir, \"data\")\n",
    "out_dir = os.path.join(base_dir, \"results\")"
   ]
  },
  {
   "cell_type": "code",
   "execution_count": 3,
   "metadata": {
    "scrolled": true
   },
   "outputs": [
    {
     "data": {
      "text/plain": [
       "(7003, 1088)"
      ]
     },
     "execution_count": 3,
     "metadata": {},
     "output_type": "execute_result"
    }
   ],
   "source": [
    "train_files = glob.glob(os.path.join(data_dir, \"original\", \"train\", \"*\", \"*.obj\"))\n",
    "valid_files = glob.glob(os.path.join(data_dir, \"original\", \"val\", \"*\", \"*.obj\"))\n",
    "len(train_files), len(valid_files)"
   ]
  },
  {
   "cell_type": "markdown",
   "metadata": {},
   "source": [
    "# file I/O"
   ]
  },
  {
   "cell_type": "code",
   "execution_count": 4,
   "metadata": {},
   "outputs": [],
   "source": [
    "def read_objfile(file_path):\n",
    "    vertices = []\n",
    "    normals = []\n",
    "    faces = []\n",
    "    \n",
    "    with open(file_path) as fr:\n",
    "        for line in fr:\n",
    "            data = line.split()\n",
    "            if len(data) > 0:\n",
    "                if data[0] == \"v\":\n",
    "                    vertices.append(data[1:])\n",
    "                elif data[0] == \"vn\":\n",
    "                    normals.append(data[1:])\n",
    "                elif data[0] == \"f\":\n",
    "                    face = np.array([\n",
    "                        [int(p.split(\"/\")[0]), int(p.split(\"/\")[2])]\n",
    "                        for p in data[1:]\n",
    "                    ]) - 1\n",
    "                    faces.append(face)\n",
    "    \n",
    "    vertices = np.array(vertices, dtype=np.float32)\n",
    "    normals = np.array(normals, dtype=np.float32)\n",
    "    return vertices, normals, faces"
   ]
  },
  {
   "cell_type": "code",
   "execution_count": 5,
   "metadata": {},
   "outputs": [],
   "source": [
    "def read_objfile_for_validate(file_path, return_o3d=False):\n",
    "    # only for develop-time validation purpose.\n",
    "    # this func force to load .obj file as triangle-mesh.\n",
    "    \n",
    "    obj = o3d.io.read_triangle_mesh(file_path)\n",
    "    if return_o3d:\n",
    "        return obj\n",
    "    else:\n",
    "        v = np.asarray(obj.vertices, dtype=np.float32)\n",
    "        f = np.asarray(obj.triangles, dtype=np.int32)\n",
    "        return v, f"
   ]
  },
  {
   "cell_type": "code",
   "execution_count": 6,
   "metadata": {},
   "outputs": [],
   "source": [
    "def write_objfile(file_path, vertices, normals, faces):\n",
    "    # write .obj file input-obj-style (mainly, header string is copy and paste).\n",
    "    \n",
    "    with open(file_path, \"w\") as fw:\n",
    "        print(\"# Blender v2.82 (sub 7) OBJ File: ''\", file=fw)\n",
    "        print(\"# www.blender.org\", file=fw)\n",
    "        print(\"o test\", file=fw)\n",
    "        \n",
    "        for v in vertices:\n",
    "            print(\"v \" + \" \".join([str(c) for c in v]), file=fw)\n",
    "        print(\"# {} vertices\\n\".format(len(vertices)), file=fw)\n",
    "        \n",
    "        for n in normals:\n",
    "            print(\"vn \" + \" \".join([str(c) for c in n]), file=fw)\n",
    "        print(\"# {} normals\\n\".format(len(normals)), file=fw)\n",
    "            \n",
    "        for f in faces:\n",
    "            print(\"f \" + \" \".join([\"{}//{}\".format(c[0]+1, c[1]+1) for c in f]), file=fw)\n",
    "        print(\"# {} faces\\n\".format(len(faces)), file=fw)\n",
    "        \n",
    "        print(\"# End of File\", file=fw)"
   ]
  },
  {
   "cell_type": "code",
   "execution_count": 7,
   "metadata": {},
   "outputs": [],
   "source": [
    "def validate_pipeline(v, n, f, out_dir):\n",
    "    temp_path = os.path.join(out_dir, \"temp.obj\")\n",
    "    write_objfile(temp_path, v, n, f)\n",
    "    v_valid, f_valid = read_objfile_for_validate(temp_path)\n",
    "    print(v_valid.shape, f_valid.shape)\n",
    "    mp.plot(v_valid, f_valid)"
   ]
  },
  {
   "cell_type": "code",
   "execution_count": 8,
   "metadata": {
    "scrolled": false
   },
   "outputs": [
    {
     "data": {
      "text/plain": [
       "((224, 3), (135, 3), 160)"
      ]
     },
     "execution_count": 8,
     "metadata": {},
     "output_type": "execute_result"
    }
   ],
   "source": [
    "vertices, normals, faces = read_objfile(train_files[0])\n",
    "vertices.shape, normals.shape, len(faces)"
   ]
  },
  {
   "cell_type": "code",
   "execution_count": 9,
   "metadata": {},
   "outputs": [
    {
     "name": "stdout",
     "output_type": "stream",
     "text": [
      "(768, 3) (448, 3)\n"
     ]
    },
    {
     "data": {
      "application/vnd.jupyter.widget-view+json": {
       "model_id": "d93434cab20541209bc8dce6361a418e",
       "version_major": 2,
       "version_minor": 0
      },
      "text/plain": [
       "Renderer(camera=PerspectiveCamera(children=(DirectionalLight(color='white', intensity=0.6, position=(0.0, 0.0,…"
      ]
     },
     "metadata": {},
     "output_type": "display_data"
    }
   ],
   "source": [
    "validate_pipeline(vertices, normals, faces, out_dir)"
   ]
  },
  {
   "cell_type": "markdown",
   "metadata": {},
   "source": [
    "# coordinate quantization"
   ]
  },
  {
   "cell_type": "code",
   "execution_count": 10,
   "metadata": {},
   "outputs": [],
   "source": [
    "def bit_quantization(vertices, bit=8, v_min=-1., v_max=1.):\n",
    "    # vertices must have values between -1 to 1.\n",
    "    dynamic_range = 2 ** bit - 1\n",
    "    discrete_interval = (v_max-v_min) / (dynamic_range)#dynamic_range\n",
    "    offset = (dynamic_range) / 2\n",
    "    \n",
    "    vertices = vertices / discrete_interval + offset\n",
    "    vertices = np.clip(vertices, 0, dynamic_range-1)\n",
    "    return vertices.astype(np.int32)"
   ]
  },
  {
   "cell_type": "code",
   "execution_count": 11,
   "metadata": {},
   "outputs": [
    {
     "data": {
      "text/plain": [
       "array([[166, 108, 166],\n",
       "       [ 88, 121, 166],\n",
       "       [ 88, 108, 166],\n",
       "       [123, 121, 166],\n",
       "       [ 88, 108,  88],\n",
       "       [166, 121,  88],\n",
       "       [166, 108,  88],\n",
       "       [131, 121, 166],\n",
       "       [123, 121, 164],\n",
       "       [ 88, 121,  88],\n",
       "       [166, 121, 166],\n",
       "       [131, 121,  88],\n",
       "       [123, 153, 166],\n",
       "       [ 90, 121, 164],\n",
       "       [ 90, 121,  90],\n",
       "       [123, 121,  88],\n",
       "       [164, 121,  90],\n",
       "       [131, 121,  90],\n",
       "       [164, 121, 164],\n",
       "       [131, 153, 166],\n",
       "       [123, 153, 164],\n",
       "       [131, 153,  88],\n",
       "       [131, 121, 164],\n",
       "       [131, 153, 164],\n",
       "       [123, 154, 166],\n",
       "       [123, 121,  90],\n",
       "       [123, 153,  88],\n",
       "       [131, 153,  90],\n",
       "       [131, 154, 166],\n",
       "       [123, 154, 164],\n",
       "       [123, 153,  90],\n",
       "       [131, 154,  88],\n",
       "       [131, 154, 164],\n",
       "       [123, 155, 164],\n",
       "       [123, 154,  88],\n",
       "       [131, 154,  90],\n",
       "       [123, 155, 165],\n",
       "       [131, 155, 164],\n",
       "       [123, 154,  90],\n",
       "       [131, 155,  89],\n",
       "       [131, 155, 165],\n",
       "       [123, 156, 164],\n",
       "       [123, 155,  89],\n",
       "       [131, 155,  90],\n",
       "       [131, 156, 164],\n",
       "       [123, 156, 165],\n",
       "       [123, 155,  90],\n",
       "       [131, 156,  90],\n",
       "       [131, 156, 165],\n",
       "       [123, 156, 164],\n",
       "       [123, 156,  90],\n",
       "       [131, 156,  89],\n",
       "       [131, 156, 164],\n",
       "       [123, 157, 165],\n",
       "       [123, 156,  89],\n",
       "       [131, 156,  90],\n",
       "       [131, 157, 165],\n",
       "       [123, 157, 163],\n",
       "       [123, 156,  90],\n",
       "       [131, 157,  89],\n",
       "       [131, 157, 163],\n",
       "       [123, 157, 164],\n",
       "       [123, 157,  89],\n",
       "       [131, 157,  91],\n",
       "       [131, 157, 164],\n",
       "       [123, 157, 163],\n",
       "       [123, 157,  91],\n",
       "       [131, 157,  90],\n",
       "       [131, 157, 163],\n",
       "       [123, 158, 162],\n",
       "       [123, 158, 164],\n",
       "       [123, 157,  90],\n",
       "       [131, 157,  91],\n",
       "       [131, 158, 162],\n",
       "       [131, 158, 164],\n",
       "       [123, 158, 162],\n",
       "       [123, 157,  91],\n",
       "       [131, 158,  92],\n",
       "       [131, 158,  90],\n",
       "       [131, 158, 162],\n",
       "       [131, 159, 163],\n",
       "       [123, 159, 163],\n",
       "       [123, 158,  92],\n",
       "       [123, 158,  90],\n",
       "       [131, 158,  92],\n",
       "       [131, 159, 161],\n",
       "       [123, 159, 161],\n",
       "       [123, 158,  92],\n",
       "       [123, 159,  91],\n",
       "       [131, 159,  91],\n",
       "       [131, 159, 160],\n",
       "       [131, 159, 162],\n",
       "       [123, 159, 160],\n",
       "       [123, 159,  93],\n",
       "       [131, 159,  93],\n",
       "       [123, 159, 162],\n",
       "       [131, 159, 160],\n",
       "       [123, 159,  94],\n",
       "       [123, 159,  92],\n",
       "       [131, 159,  94],\n",
       "       [131, 159,  93],\n",
       "       [131, 159, 162],\n",
       "       [123, 159, 160],\n",
       "       [131, 159, 159],\n",
       "       [102,  94, 102],\n",
       "       [152,  94, 152],\n",
       "       [102,  94, 152],\n",
       "       [152,  94, 102],\n",
       "       [131, 159,  92],\n",
       "       [123, 159,  94],\n",
       "       [123, 159,  93],\n",
       "       [123, 159, 162],\n",
       "       [131, 160,  93],\n",
       "       [123, 159, 159],\n",
       "       [131, 159,  94],\n",
       "       [123, 159,  95],\n",
       "       [131, 160, 161],\n",
       "       [123, 160,  93],\n",
       "       [131, 159,  95],\n",
       "       [123, 160, 161],\n",
       "       [131, 160,  94],\n",
       "       [131, 160, 160],\n",
       "       [123, 160,  94],\n",
       "       [123, 160, 160],\n",
       "       [131, 160,  95],\n",
       "       [131, 160, 159],\n",
       "       [123, 160,  95],\n",
       "       [123, 160, 159],\n",
       "       [ 89, 106, 165],\n",
       "       [165, 106, 165],\n",
       "       [ 89, 106,  89],\n",
       "       [ 89, 104, 165],\n",
       "       [ 89, 104,  89],\n",
       "       [165, 104, 165],\n",
       "       [165, 106,  89],\n",
       "       [ 89, 103, 165],\n",
       "       [ 89, 103,  89],\n",
       "       [165, 104,  89],\n",
       "       [165, 103, 165],\n",
       "       [ 90, 108, 164],\n",
       "       [ 90, 101, 164],\n",
       "       [ 90, 101,  90],\n",
       "       [165, 103,  89],\n",
       "       [164, 108, 164],\n",
       "       [164, 101, 164],\n",
       "       [164, 108,  90],\n",
       "       [ 90, 108,  90],\n",
       "       [ 90, 106, 164],\n",
       "       [ 91,  99, 163],\n",
       "       [ 91,  99,  91],\n",
       "       [164, 101,  90],\n",
       "       [164, 106, 164],\n",
       "       [163,  99, 163],\n",
       "       [164, 106,  90],\n",
       "       [ 90, 106,  90],\n",
       "       [ 90, 105, 164],\n",
       "       [ 92,  98, 162],\n",
       "       [ 92,  98,  92],\n",
       "       [163,  99,  91],\n",
       "       [164, 105,  90],\n",
       "       [164, 105, 164],\n",
       "       [162,  98, 162],\n",
       "       [ 90, 105,  90],\n",
       "       [ 91, 103, 163],\n",
       "       [ 94,  97, 160],\n",
       "       [ 94,  97,  94],\n",
       "       [162,  98,  92],\n",
       "       [163, 103,  91],\n",
       "       [ 91, 103,  91],\n",
       "       [163, 103, 163],\n",
       "       [160,  97, 160],\n",
       "       [160,  97,  94],\n",
       "       [ 91, 102, 163],\n",
       "       [ 95,  96, 159],\n",
       "       [ 95,  96,  95],\n",
       "       [159,  96,  95],\n",
       "       [163, 102,  91],\n",
       "       [ 91, 102,  91],\n",
       "       [163, 102, 163],\n",
       "       [159,  96, 159],\n",
       "       [ 92, 100, 162],\n",
       "       [ 97,  95, 157],\n",
       "       [ 97,  95,  97],\n",
       "       [157,  95,  97],\n",
       "       [162, 100,  92],\n",
       "       [ 92, 100,  92],\n",
       "       [162, 100, 162],\n",
       "       [157,  95, 157],\n",
       "       [ 93,  99, 161],\n",
       "       [ 99,  94, 155],\n",
       "       [ 99,  94,  99],\n",
       "       [155,  94,  99],\n",
       "       [161,  99,  93],\n",
       "       [ 93,  99,  93],\n",
       "       [161,  99, 161],\n",
       "       [155,  94, 155],\n",
       "       [159,  98, 159],\n",
       "       [101,  94, 153],\n",
       "       [101,  94, 101],\n",
       "       [153,  94, 101],\n",
       "       [ 95,  98,  95],\n",
       "       [159,  98,  95],\n",
       "       [ 95,  98, 159],\n",
       "       [153,  94, 153],\n",
       "       [158,  97, 158],\n",
       "       [158,  97,  96],\n",
       "       [ 96,  97,  96],\n",
       "       [ 96,  97, 158],\n",
       "       [157,  96, 157],\n",
       "       [157,  96,  97],\n",
       "       [ 97,  96,  97],\n",
       "       [ 97,  96, 157],\n",
       "       [155,  96, 155],\n",
       "       [155,  96,  99],\n",
       "       [ 99,  96,  99],\n",
       "       [ 99,  96, 155],\n",
       "       [153,  95, 153],\n",
       "       [153,  95, 101],\n",
       "       [101,  95, 101],\n",
       "       [101,  95, 153],\n",
       "       [152,  95, 152],\n",
       "       [152,  95, 102],\n",
       "       [102,  95, 102],\n",
       "       [102,  95, 152]], dtype=int32)"
      ]
     },
     "execution_count": 11,
     "metadata": {},
     "output_type": "execute_result"
    }
   ],
   "source": [
    "v_quantized = bit_quantization(vertices)\n",
    "v_quantized"
   ]
  },
  {
   "cell_type": "code",
   "execution_count": 12,
   "metadata": {},
   "outputs": [
    {
     "name": "stdout",
     "output_type": "stream",
     "text": [
      "[Open3D INFO] Skipping non-triangle primitive geometry of type: 2\n",
      "(712, 3) (408, 3)\n"
     ]
    },
    {
     "data": {
      "application/vnd.jupyter.widget-view+json": {
       "model_id": "98e18ed762b44a61bfaad75264fe1e7a",
       "version_major": 2,
       "version_minor": 0
      },
      "text/plain": [
       "Renderer(camera=PerspectiveCamera(children=(DirectionalLight(color='white', intensity=0.6, position=(127.0, 12…"
      ]
     },
     "metadata": {},
     "output_type": "display_data"
    }
   ],
   "source": [
    "validate_pipeline(v_quantized, normals, faces, out_dir)"
   ]
  },
  {
   "cell_type": "markdown",
   "metadata": {},
   "source": [
    "# reduce points in the same grid"
   ]
  },
  {
   "cell_type": "code",
   "execution_count": 13,
   "metadata": {},
   "outputs": [],
   "source": [
    "def redirect_same_vertices(vertices, faces):\n",
    "    faces_with_coord = []\n",
    "    for face in faces:\n",
    "        faces_with_coord.append([[tuple(vertices[v_idx]), f_idx] for v_idx, f_idx in face])\n",
    "    \n",
    "    coord_to_minimum_vertex = {}\n",
    "    new_vertices = []\n",
    "    cnt_new_vertices = 0\n",
    "    for vertex in vertices:\n",
    "        vertex_key = tuple(vertex)\n",
    "        \n",
    "        if vertex_key not in coord_to_minimum_vertex.keys():\n",
    "            coord_to_minimum_vertex[vertex_key] = cnt_new_vertices\n",
    "            new_vertices.append(vertex)\n",
    "            cnt_new_vertices += 1\n",
    "    \n",
    "    new_faces = []\n",
    "    for face in faces_with_coord:\n",
    "        face = np.array([\n",
    "            [coord_to_minimum_vertex[coord], f_idx] for coord, f_idx in face\n",
    "        ])\n",
    "        new_faces.append(face)\n",
    "    \n",
    "    return np.stack(new_vertices), new_faces"
   ]
  },
  {
   "cell_type": "code",
   "execution_count": 14,
   "metadata": {
    "scrolled": true
   },
   "outputs": [
    {
     "data": {
      "text/plain": [
       "((204, 3), 160)"
      ]
     },
     "execution_count": 14,
     "metadata": {},
     "output_type": "execute_result"
    }
   ],
   "source": [
    "v_redirected, f_redirected = redirect_same_vertices(v_quantized, faces)\n",
    "v_redirected.shape, len(f_redirected)"
   ]
  },
  {
   "cell_type": "code",
   "execution_count": 21,
   "metadata": {},
   "outputs": [
    {
     "name": "stdout",
     "output_type": "stream",
     "text": [
      "[Open3D INFO] Skipping non-triangle primitive geometry of type: 2\n",
      "(712, 3) (408, 3)\n"
     ]
    },
    {
     "data": {
      "application/vnd.jupyter.widget-view+json": {
       "model_id": "a54fa758873043c9bc8b153aa3bb2775",
       "version_major": 2,
       "version_minor": 0
      },
      "text/plain": [
       "Renderer(camera=PerspectiveCamera(children=(DirectionalLight(color='white', intensity=0.6, position=(127.0, 12…"
      ]
     },
     "metadata": {},
     "output_type": "display_data"
    }
   ],
   "source": [
    "validate_pipeline(v_redirected, normals, f_redirected, out_dir)"
   ]
  },
  {
   "cell_type": "markdown",
   "metadata": {},
   "source": [
    "# vertex/face sorting"
   ]
  },
  {
   "cell_type": "code",
   "execution_count": 22,
   "metadata": {},
   "outputs": [],
   "source": [
    "def reorder_vertices(vertices):\n",
    "    indeces = np.lexsort(vertices.T[::-1])[::-1]\n",
    "    return vertices[indeces], indeces"
   ]
  },
  {
   "cell_type": "code",
   "execution_count": 23,
   "metadata": {},
   "outputs": [],
   "source": [
    "v_reordered, sort_v_ids = reorder_vertices(v_redirected)"
   ]
  },
  {
   "cell_type": "code",
   "execution_count": 24,
   "metadata": {},
   "outputs": [],
   "source": [
    "def reorder_faces(faces, sort_v_ids, pad_id=-1):\n",
    "    # apply sorted vertice-id and sort in-face-triple values.\n",
    "    \n",
    "    faces_ids = []\n",
    "    faces_sorted = []\n",
    "    for f in faces:\n",
    "        f = np.stack([\n",
    "            np.concatenate([np.where(sort_v_ids==v_idx)[0], np.array([n_idx])])\n",
    "            for v_idx, n_idx in f\n",
    "        ])\n",
    "        f_ids = f[:, 0]\n",
    "        \n",
    "        max_idx = np.argmax(f_ids)\n",
    "        sort_ids = np.arange(len(f_ids))\n",
    "        sort_ids = np.concatenate([\n",
    "            sort_ids[max_idx:], sort_ids[:max_idx]\n",
    "        ])\n",
    "        faces_ids.append(f_ids[sort_ids])\n",
    "        faces_sorted.append(f[sort_ids])\n",
    "        \n",
    "    # padding for lexical sorting.\n",
    "    max_length = max([len(f) for f in faces_ids])\n",
    "    faces_ids = np.array([\n",
    "        np.concatenate([f, np.array([pad_id]*(max_length-len(f)))]) \n",
    "        for f in faces_ids\n",
    "    ])\n",
    "    \n",
    "    # lexical sort over face triples.\n",
    "    indeces = np.lexsort(faces_ids.T[::-1])[::-1]\n",
    "    faces_sorted = [faces_sorted[idx] for idx in indeces]\n",
    "    return faces_sorted"
   ]
  },
  {
   "cell_type": "code",
   "execution_count": 25,
   "metadata": {
    "scrolled": true
   },
   "outputs": [],
   "source": [
    "f_reordered = reorder_faces(f_redirected, sort_v_ids)"
   ]
  },
  {
   "cell_type": "code",
   "execution_count": 26,
   "metadata": {},
   "outputs": [
    {
     "name": "stdout",
     "output_type": "stream",
     "text": [
      "[Open3D INFO] Skipping non-triangle primitive geometry of type: 2\n",
      "(712, 3) (406, 3)\n"
     ]
    },
    {
     "data": {
      "application/vnd.jupyter.widget-view+json": {
       "model_id": "962020e08ae544f0950aa203038746f9",
       "version_major": 2,
       "version_minor": 0
      },
      "text/plain": [
       "Renderer(camera=PerspectiveCamera(children=(DirectionalLight(color='white', intensity=0.6, position=(127.0, 12…"
      ]
     },
     "metadata": {},
     "output_type": "display_data"
    }
   ],
   "source": [
    "validate_pipeline(v_reordered, normals, f_reordered, out_dir)"
   ]
  },
  {
   "cell_type": "markdown",
   "metadata": {},
   "source": [
    "# loading pipeline"
   ]
  },
  {
   "cell_type": "code",
   "execution_count": 27,
   "metadata": {},
   "outputs": [],
   "source": [
    "def load_pipeline(file_path, bit=8, remove_normal_ids=True):\n",
    "    vs, ns, fs = read_objfile(file_path)\n",
    "    \n",
    "    vs = bit_quantization(vs, bit=bit)\n",
    "    vs, fs = redirect_same_vertices(vs, fs)\n",
    "    \n",
    "    vs, ids = reorder_vertices(vs)\n",
    "    fs = reorder_faces(fs, ids)\n",
    "    \n",
    "    if remove_normal_ids:\n",
    "        fs = [f[:, 0] for f in fs]\n",
    "        \n",
    "    return vs, ns, fs"
   ]
  },
  {
   "cell_type": "code",
   "execution_count": 28,
   "metadata": {},
   "outputs": [],
   "source": [
    "vs, ns, fs = load_pipeline(train_files[4], remove_normal_ids=False)"
   ]
  },
  {
   "cell_type": "code",
   "execution_count": 29,
   "metadata": {},
   "outputs": [
    {
     "name": "stdout",
     "output_type": "stream",
     "text": [
      "[Open3D INFO] Skipping non-triangle primitive geometry of type: 2\n",
      "(123, 3) (97, 3)\n"
     ]
    },
    {
     "data": {
      "application/vnd.jupyter.widget-view+json": {
       "model_id": "3030a07f5b2e4ea6b7ccde1113f659d2",
       "version_major": 2,
       "version_minor": 0
      },
      "text/plain": [
       "Renderer(camera=PerspectiveCamera(children=(DirectionalLight(color='white', intensity=0.6, position=(127.0, 12…"
      ]
     },
     "metadata": {},
     "output_type": "display_data"
    }
   ],
   "source": [
    "validate_pipeline(vs, ns, fs, out_dir)"
   ]
  },
  {
   "cell_type": "markdown",
   "metadata": {},
   "source": [
    "# preparation of dataset"
   ]
  },
  {
   "cell_type": "code",
   "execution_count": 30,
   "metadata": {},
   "outputs": [],
   "source": [
    "classes = [\"basket\", \"chair\", \"lamp\", \"sofa\", \"table\"]"
   ]
  },
  {
   "cell_type": "code",
   "execution_count": 32,
   "metadata": {},
   "outputs": [
    {
     "name": "stdout",
     "output_type": "stream",
     "text": [
      "basket\n",
      "chair\n",
      "lamp\n",
      "sofa\n",
      "table\n"
     ]
    }
   ],
   "source": [
    "train_info = []\n",
    "for class_ in classes:\n",
    "    print(class_)\n",
    "    class_datas = []\n",
    "    \n",
    "    for file_path in train_files:\n",
    "        if file_path.split(\"/\")[-2] == class_:\n",
    "            vs, ns, fs = load_pipeline(file_path)\n",
    "            class_datas.append({\n",
    "                \"vertices\": vs.tolist(),\n",
    "                \"faces\": [f.tolist() for f in fs],\n",
    "            })\n",
    "            train_info.append({\n",
    "                \"vertices\": sum([len(v) for v in vs]),\n",
    "                \"faces_sum\": sum([len(f) for f in fs]),\n",
    "                \"faces_num\": len(fs),\n",
    "                \"faces_points\": max([len(f) for f in fs]),\n",
    "            })\n",
    "            \n",
    "    with open(os.path.join(data_dir, \"preprocessed\", \"train\", class_+\".json\"), \"w\") as fw:\n",
    "        json.dump(class_datas, fw, indent=4)"
   ]
  },
  {
   "cell_type": "code",
   "execution_count": 33,
   "metadata": {},
   "outputs": [
    {
     "name": "stdout",
     "output_type": "stream",
     "text": [
      "basket\n",
      "chair\n",
      "lamp\n",
      "sofa\n",
      "table\n"
     ]
    }
   ],
   "source": [
    "test_info = []\n",
    "for class_ in classes:\n",
    "    print(class_)\n",
    "    class_datas = []\n",
    "    \n",
    "    for file_path in valid_files:\n",
    "        if file_path.split(\"/\")[-2] == class_:\n",
    "            vs, ns, fs = load_pipeline(file_path)\n",
    "            class_datas.append({\n",
    "                \"vertices\": vs.tolist(),\n",
    "                \"faces\": [f.tolist() for f in fs],\n",
    "            })\n",
    "            test_info.append({\n",
    "                \"vertices\": sum([len(v) for v in vs]),\n",
    "                \"faces_sum\": sum([len(f) for f in fs]),\n",
    "                \"faces_num\": len(fs),\n",
    "                \"faces_points\": max([len(f) for f in fs]),\n",
    "            })\n",
    "            \n",
    "    with open(os.path.join(data_dir, \"preprocessed\", \"valid\", class_+\".json\"), \"w\") as fw:\n",
    "        json.dump(class_datas, fw, indent=4)"
   ]
  },
  {
   "cell_type": "code",
   "execution_count": 34,
   "metadata": {},
   "outputs": [
    {
     "data": {
      "text/html": [
       "<div>\n",
       "<style scoped>\n",
       "    .dataframe tbody tr th:only-of-type {\n",
       "        vertical-align: middle;\n",
       "    }\n",
       "\n",
       "    .dataframe tbody tr th {\n",
       "        vertical-align: top;\n",
       "    }\n",
       "\n",
       "    .dataframe thead th {\n",
       "        text-align: right;\n",
       "    }\n",
       "</style>\n",
       "<table border=\"1\" class=\"dataframe\">\n",
       "  <thead>\n",
       "    <tr style=\"text-align: right;\">\n",
       "      <th></th>\n",
       "      <th>vertices</th>\n",
       "      <th>faces_sum</th>\n",
       "      <th>faces_num</th>\n",
       "      <th>faces_points</th>\n",
       "    </tr>\n",
       "  </thead>\n",
       "  <tbody>\n",
       "    <tr>\n",
       "      <th>0</th>\n",
       "      <td>612</td>\n",
       "      <td>768</td>\n",
       "      <td>160</td>\n",
       "      <td>56</td>\n",
       "    </tr>\n",
       "    <tr>\n",
       "      <th>1</th>\n",
       "      <td>186</td>\n",
       "      <td>232</td>\n",
       "      <td>45</td>\n",
       "      <td>11</td>\n",
       "    </tr>\n",
       "    <tr>\n",
       "      <th>2</th>\n",
       "      <td>192</td>\n",
       "      <td>2424</td>\n",
       "      <td>601</td>\n",
       "      <td>24</td>\n",
       "    </tr>\n",
       "    <tr>\n",
       "      <th>3</th>\n",
       "      <td>249</td>\n",
       "      <td>278</td>\n",
       "      <td>54</td>\n",
       "      <td>23</td>\n",
       "    </tr>\n",
       "    <tr>\n",
       "      <th>4</th>\n",
       "      <td>273</td>\n",
       "      <td>148</td>\n",
       "      <td>15</td>\n",
       "      <td>65</td>\n",
       "    </tr>\n",
       "    <tr>\n",
       "      <th>...</th>\n",
       "      <td>...</td>\n",
       "      <td>...</td>\n",
       "      <td>...</td>\n",
       "      <td>...</td>\n",
       "    </tr>\n",
       "    <tr>\n",
       "      <th>6998</th>\n",
       "      <td>1008</td>\n",
       "      <td>1100</td>\n",
       "      <td>201</td>\n",
       "      <td>62</td>\n",
       "    </tr>\n",
       "    <tr>\n",
       "      <th>6999</th>\n",
       "      <td>1221</td>\n",
       "      <td>2086</td>\n",
       "      <td>363</td>\n",
       "      <td>63</td>\n",
       "    </tr>\n",
       "    <tr>\n",
       "      <th>7000</th>\n",
       "      <td>204</td>\n",
       "      <td>391</td>\n",
       "      <td>96</td>\n",
       "      <td>8</td>\n",
       "    </tr>\n",
       "    <tr>\n",
       "      <th>7001</th>\n",
       "      <td>123</td>\n",
       "      <td>176</td>\n",
       "      <td>37</td>\n",
       "      <td>14</td>\n",
       "    </tr>\n",
       "    <tr>\n",
       "      <th>7002</th>\n",
       "      <td>654</td>\n",
       "      <td>1215</td>\n",
       "      <td>284</td>\n",
       "      <td>24</td>\n",
       "    </tr>\n",
       "  </tbody>\n",
       "</table>\n",
       "<p>7003 rows × 4 columns</p>\n",
       "</div>"
      ],
      "text/plain": [
       "      vertices  faces_sum  faces_num  faces_points\n",
       "0          612        768        160            56\n",
       "1          186        232         45            11\n",
       "2          192       2424        601            24\n",
       "3          249        278         54            23\n",
       "4          273        148         15            65\n",
       "...        ...        ...        ...           ...\n",
       "6998      1008       1100        201            62\n",
       "6999      1221       2086        363            63\n",
       "7000       204        391         96             8\n",
       "7001       123        176         37            14\n",
       "7002       654       1215        284            24\n",
       "\n",
       "[7003 rows x 4 columns]"
      ]
     },
     "execution_count": 34,
     "metadata": {},
     "output_type": "execute_result"
    }
   ],
   "source": [
    "train_info_df = pd.DataFrame(train_info)\n",
    "train_info_df"
   ]
  },
  {
   "cell_type": "code",
   "execution_count": 35,
   "metadata": {},
   "outputs": [
    {
     "data": {
      "text/html": [
       "<div>\n",
       "<style scoped>\n",
       "    .dataframe tbody tr th:only-of-type {\n",
       "        vertical-align: middle;\n",
       "    }\n",
       "\n",
       "    .dataframe tbody tr th {\n",
       "        vertical-align: top;\n",
       "    }\n",
       "\n",
       "    .dataframe thead th {\n",
       "        text-align: right;\n",
       "    }\n",
       "</style>\n",
       "<table border=\"1\" class=\"dataframe\">\n",
       "  <thead>\n",
       "    <tr style=\"text-align: right;\">\n",
       "      <th></th>\n",
       "      <th>vertices</th>\n",
       "      <th>faces_sum</th>\n",
       "      <th>faces_num</th>\n",
       "      <th>faces_points</th>\n",
       "    </tr>\n",
       "  </thead>\n",
       "  <tbody>\n",
       "    <tr>\n",
       "      <th>0</th>\n",
       "      <td>297</td>\n",
       "      <td>712</td>\n",
       "      <td>184</td>\n",
       "      <td>13</td>\n",
       "    </tr>\n",
       "    <tr>\n",
       "      <th>1</th>\n",
       "      <td>378</td>\n",
       "      <td>298</td>\n",
       "      <td>45</td>\n",
       "      <td>84</td>\n",
       "    </tr>\n",
       "    <tr>\n",
       "      <th>2</th>\n",
       "      <td>360</td>\n",
       "      <td>416</td>\n",
       "      <td>77</td>\n",
       "      <td>48</td>\n",
       "    </tr>\n",
       "    <tr>\n",
       "      <th>3</th>\n",
       "      <td>912</td>\n",
       "      <td>1200</td>\n",
       "      <td>290</td>\n",
       "      <td>24</td>\n",
       "    </tr>\n",
       "    <tr>\n",
       "      <th>4</th>\n",
       "      <td>1140</td>\n",
       "      <td>1102</td>\n",
       "      <td>164</td>\n",
       "      <td>183</td>\n",
       "    </tr>\n",
       "    <tr>\n",
       "      <th>...</th>\n",
       "      <td>...</td>\n",
       "      <td>...</td>\n",
       "      <td>...</td>\n",
       "      <td>...</td>\n",
       "    </tr>\n",
       "    <tr>\n",
       "      <th>1083</th>\n",
       "      <td>1056</td>\n",
       "      <td>1404</td>\n",
       "      <td>270</td>\n",
       "      <td>42</td>\n",
       "    </tr>\n",
       "    <tr>\n",
       "      <th>1084</th>\n",
       "      <td>96</td>\n",
       "      <td>106</td>\n",
       "      <td>23</td>\n",
       "      <td>8</td>\n",
       "    </tr>\n",
       "    <tr>\n",
       "      <th>1085</th>\n",
       "      <td>222</td>\n",
       "      <td>282</td>\n",
       "      <td>67</td>\n",
       "      <td>8</td>\n",
       "    </tr>\n",
       "    <tr>\n",
       "      <th>1086</th>\n",
       "      <td>270</td>\n",
       "      <td>380</td>\n",
       "      <td>71</td>\n",
       "      <td>29</td>\n",
       "    </tr>\n",
       "    <tr>\n",
       "      <th>1087</th>\n",
       "      <td>564</td>\n",
       "      <td>1728</td>\n",
       "      <td>312</td>\n",
       "      <td>27</td>\n",
       "    </tr>\n",
       "  </tbody>\n",
       "</table>\n",
       "<p>1088 rows × 4 columns</p>\n",
       "</div>"
      ],
      "text/plain": [
       "      vertices  faces_sum  faces_num  faces_points\n",
       "0          297        712        184            13\n",
       "1          378        298         45            84\n",
       "2          360        416         77            48\n",
       "3          912       1200        290            24\n",
       "4         1140       1102        164           183\n",
       "...        ...        ...        ...           ...\n",
       "1083      1056       1404        270            42\n",
       "1084        96        106         23             8\n",
       "1085       222        282         67             8\n",
       "1086       270        380         71            29\n",
       "1087       564       1728        312            27\n",
       "\n",
       "[1088 rows x 4 columns]"
      ]
     },
     "execution_count": 35,
     "metadata": {},
     "output_type": "execute_result"
    }
   ],
   "source": [
    "test_info_df = pd.DataFrame(test_info)\n",
    "test_info_df"
   ]
  },
  {
   "cell_type": "code",
   "execution_count": 36,
   "metadata": {},
   "outputs": [
    {
     "name": "stdout",
     "output_type": "stream",
     "text": [
      "vertices        2346\n",
      "faces_sum       3862\n",
      "faces_num       1246\n",
      "faces_points     330\n",
      "dtype: int64\n",
      "====================\n",
      "vertices        2292\n",
      "faces_sum       3504\n",
      "faces_num       1123\n",
      "faces_points     257\n",
      "dtype: int64\n"
     ]
    }
   ],
   "source": [
    "print(train_info_df.max())\n",
    "print(\"=\"*20)\n",
    "print(test_info_df.max())"
   ]
  },
  {
   "cell_type": "code",
   "execution_count": 38,
   "metadata": {},
   "outputs": [],
   "source": [
    "train_info_df.to_csv(os.path.join(out_dir, \"statistics\", \"train_info.csv\"))\n",
    "test_info_df.to_csv(os.path.join(out_dir, \"statistics\", \"test_info.csv\"))"
   ]
  },
  {
   "cell_type": "markdown",
   "metadata": {},
   "source": [
    "# check dataset"
   ]
  },
  {
   "cell_type": "code",
   "execution_count": 39,
   "metadata": {},
   "outputs": [
    {
     "name": "stdout",
     "output_type": "stream",
     "text": [
      "50 6\n"
     ]
    }
   ],
   "source": [
    "with open(os.path.join(data_dir, \"preprocessed\", \"train\", classes[0]+\".json\")) as fr:\n",
    "    train = json.load(fr)\n",
    "    \n",
    "with open(os.path.join(data_dir, \"preprocessed\", \"valid\", classes[0]+\".json\")) as fr:\n",
    "    valid = json.load(fr)\n",
    "    \n",
    "print(len(train), len(valid))"
   ]
  },
  {
   "cell_type": "code",
   "execution_count": 40,
   "metadata": {},
   "outputs": [
    {
     "data": {
      "text/plain": [
       "{'vertices': [[166, 121, 166],\n",
       "  [166, 121, 88],\n",
       "  [166, 108, 166],\n",
       "  [166, 108, 88],\n",
       "  [165, 106, 165],\n",
       "  [165, 106, 89],\n",
       "  [165, 104, 165],\n",
       "  [165, 104, 89],\n",
       "  [165, 103, 165],\n",
       "  [165, 103, 89]],\n",
       " 'faces': [[203, 202, 200, 201],\n",
       "  [203, 201, 147, 143, 97, 101, 1, 3],\n",
       "  [203, 195, 194, 202],\n",
       "  [203, 3, 5, 195],\n",
       "  [202, 194, 4, 2],\n",
       "  [202, 2, 0, 98, 94, 140, 144, 200],\n",
       "  [201, 200, 144, 145, 184, 185, 146, 147],\n",
       "  [199, 198, 196, 197],\n",
       "  [199, 197, 7, 9],\n",
       "  [199, 193, 192, 198]]}"
      ]
     },
     "execution_count": 40,
     "metadata": {},
     "output_type": "execute_result"
    }
   ],
   "source": [
    "{k: v[:10] for k, v in train[0].items()}"
   ]
  },
  {
   "cell_type": "code",
   "execution_count": 41,
   "metadata": {},
   "outputs": [
    {
     "data": {
      "text/plain": [
       "{'vertices': [[164, 161, 158],\n",
       "  [164, 161, 96],\n",
       "  [164, 160, 159],\n",
       "  [164, 160, 95],\n",
       "  [164, 98, 159],\n",
       "  [164, 98, 95],\n",
       "  [163, 163, 158],\n",
       "  [163, 163, 96],\n",
       "  [163, 162, 158],\n",
       "  [163, 162, 96]],\n",
       " 'faces': [[98, 96, 95, 97],\n",
       "  [98, 76, 73, 97],\n",
       "  [98, 76, 72, 96],\n",
       "  [97, 95, 71, 73],\n",
       "  [96, 96, 72, 72],\n",
       "  [96, 95, 95, 96],\n",
       "  [96, 94, 93, 95],\n",
       "  [96, 72, 65, 94],\n",
       "  [95, 93, 64, 71],\n",
       "  [95, 71, 71, 95]]}"
      ]
     },
     "execution_count": 41,
     "metadata": {},
     "output_type": "execute_result"
    }
   ],
   "source": [
    "{k: v[:10] for k, v in valid[0].items()}"
   ]
  },
  {
   "cell_type": "code",
   "execution_count": null,
   "metadata": {},
   "outputs": [],
   "source": []
  }
 ],
 "metadata": {
  "kernelspec": {
   "display_name": "Python 3",
   "language": "python",
   "name": "python3"
  },
  "language_info": {
   "codemirror_mode": {
    "name": "ipython",
    "version": 3
   },
   "file_extension": ".py",
   "mimetype": "text/x-python",
   "name": "python",
   "nbconvert_exporter": "python",
   "pygments_lexer": "ipython3",
   "version": "3.8.5"
  }
 },
 "nbformat": 4,
 "nbformat_minor": 4
}
