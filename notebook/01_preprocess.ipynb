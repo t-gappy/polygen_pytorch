{
 "cells": [
  {
   "cell_type": "code",
   "execution_count": 1,
   "metadata": {},
   "outputs": [],
   "source": [
    "import os\n",
    "import json\n",
    "import glob\n",
    "import numpy as np\n",
    "import pandas as pd\n",
    "import open3d as o3d\n",
    "import meshplot as mp"
   ]
  },
  {
   "cell_type": "code",
   "execution_count": 2,
   "metadata": {},
   "outputs": [],
   "source": [
    "base_dir = os.path.dirname(os.getcwd())\n",
    "data_dir = os.path.join(base_dir, \"data\")\n",
    "out_dir = os.path.join(base_dir, \"results\")"
   ]
  },
  {
   "cell_type": "code",
   "execution_count": 3,
   "metadata": {
    "scrolled": true
   },
   "outputs": [
    {
     "data": {
      "text/plain": [
       "(7003, 1088)"
      ]
     },
     "execution_count": 3,
     "metadata": {},
     "output_type": "execute_result"
    }
   ],
   "source": [
    "train_files = glob.glob(os.path.join(data_dir, \"original\", \"train\", \"*\", \"*.obj\"))\n",
    "valid_files = glob.glob(os.path.join(data_dir, \"original\", \"val\", \"*\", \"*.obj\"))\n",
    "len(train_files), len(valid_files)"
   ]
  },
  {
   "cell_type": "markdown",
   "metadata": {},
   "source": [
    "# file I/O"
   ]
  },
  {
   "cell_type": "code",
   "execution_count": 4,
   "metadata": {},
   "outputs": [],
   "source": [
    "def read_objfile(file_path):\n",
    "    vertices = []\n",
    "    normals = []\n",
    "    faces = []\n",
    "    \n",
    "    with open(file_path) as fr:\n",
    "        for line in fr:\n",
    "            data = line.split()\n",
    "            if len(data) > 0:\n",
    "                if data[0] == \"v\":\n",
    "                    vertices.append(data[1:])\n",
    "                elif data[0] == \"vn\":\n",
    "                    normals.append(data[1:])\n",
    "                elif data[0] == \"f\":\n",
    "                    face = np.array([\n",
    "                        [int(p.split(\"/\")[0]), int(p.split(\"/\")[2])]\n",
    "                        for p in data[1:]\n",
    "                    ]) - 1\n",
    "                    faces.append(face)\n",
    "    \n",
    "    vertices = np.array(vertices, dtype=np.float32)\n",
    "    normals = np.array(normals, dtype=np.float32)\n",
    "    return vertices, normals, faces"
   ]
  },
  {
   "cell_type": "code",
   "execution_count": 5,
   "metadata": {},
   "outputs": [],
   "source": [
    "def read_objfile_for_validate(file_path, return_o3d=False):\n",
    "    # only for develop-time validation purpose.\n",
    "    # this func force to load .obj file as triangle-mesh.\n",
    "    \n",
    "    obj = o3d.io.read_triangle_mesh(file_path)\n",
    "    if return_o3d:\n",
    "        return obj\n",
    "    else:\n",
    "        v = np.asarray(obj.vertices, dtype=np.float32)\n",
    "        f = np.asarray(obj.triangles, dtype=np.int32)\n",
    "        return v, f"
   ]
  },
  {
   "cell_type": "code",
   "execution_count": 6,
   "metadata": {},
   "outputs": [],
   "source": [
    "def write_objfile(file_path, vertices, normals, faces):\n",
    "    # write .obj file input-obj-style (mainly, header string is copy and paste).\n",
    "    \n",
    "    with open(file_path, \"w\") as fw:\n",
    "        print(\"# Blender v2.82 (sub 7) OBJ File: ''\", file=fw)\n",
    "        print(\"# www.blender.org\", file=fw)\n",
    "        print(\"o test\", file=fw)\n",
    "        \n",
    "        for v in vertices:\n",
    "            print(\"v \" + \" \".join([str(c) for c in v]), file=fw)\n",
    "        print(\"# {} vertices\\n\".format(len(vertices)), file=fw)\n",
    "        \n",
    "        for n in normals:\n",
    "            print(\"vn \" + \" \".join([str(c) for c in n]), file=fw)\n",
    "        print(\"# {} normals\\n\".format(len(normals)), file=fw)\n",
    "            \n",
    "        for f in faces:\n",
    "            print(\"f \" + \" \".join([\"{}//{}\".format(c[0]+1, c[1]+1) for c in f]), file=fw)\n",
    "        print(\"# {} faces\\n\".format(len(faces)), file=fw)\n",
    "        \n",
    "        print(\"# End of File\", file=fw)"
   ]
  },
  {
   "cell_type": "code",
   "execution_count": 7,
   "metadata": {},
   "outputs": [],
   "source": [
    "def validate_pipeline(v, n, f, out_dir):\n",
    "    temp_path = os.path.join(out_dir, \"temp.obj\")\n",
    "    write_objfile(temp_path, v, n, f)\n",
    "    v_valid, f_valid = read_objfile_for_validate(temp_path)\n",
    "    print(v_valid.shape, f_valid.shape)\n",
    "    mp.plot(v_valid, f_valid)"
   ]
  },
  {
   "cell_type": "code",
   "execution_count": 8,
   "metadata": {
    "scrolled": true
   },
   "outputs": [
    {
     "data": {
      "text/plain": [
       "((677, 3), (581, 3), 588)"
      ]
     },
     "execution_count": 8,
     "metadata": {},
     "output_type": "execute_result"
    }
   ],
   "source": [
    "vertices, normals, faces = read_objfile(train_files[0])\n",
    "vertices.shape, normals.shape, len(faces)"
   ]
  },
  {
   "cell_type": "code",
   "execution_count": 9,
   "metadata": {},
   "outputs": [
    {
     "name": "stdout",
     "output_type": "stream",
     "text": [
      "(2487, 3) (1317, 3)\n"
     ]
    },
    {
     "data": {
      "application/vnd.jupyter.widget-view+json": {
       "model_id": "851744c265194d01b2736385ca36bcd8",
       "version_major": 2,
       "version_minor": 0
      },
      "text/plain": [
       "Renderer(camera=PerspectiveCamera(children=(DirectionalLight(color='white', intensity=0.6, position=(0.0, 0.0,…"
      ]
     },
     "metadata": {},
     "output_type": "display_data"
    }
   ],
   "source": [
    "validate_pipeline(vertices, normals, faces, out_dir)"
   ]
  },
  {
   "cell_type": "markdown",
   "metadata": {},
   "source": [
    "# coordinate quantization"
   ]
  },
  {
   "cell_type": "code",
   "execution_count": 10,
   "metadata": {},
   "outputs": [],
   "source": [
    "def bit_quantization(vertices, bit=8, v_min=-1., v_max=1.):\n",
    "    # vertices must have values between -1 to 1.\n",
    "    dynamic_range = 2 ** bit - 1\n",
    "    discrete_interval = (v_max-v_min) / (dynamic_range)#dynamic_range\n",
    "    offset = (dynamic_range) / 2\n",
    "    \n",
    "    vertices = vertices / discrete_interval + offset\n",
    "    vertices = np.clip(vertices, 0, dynamic_range-1)\n",
    "    return vertices.astype(np.int32)"
   ]
  },
  {
   "cell_type": "code",
   "execution_count": 11,
   "metadata": {},
   "outputs": [
    {
     "data": {
      "text/plain": [
       "array([[118, 136, 121],\n",
       "       [120, 136, 119],\n",
       "       [120, 170, 119],\n",
       "       ...,\n",
       "       [134,  86, 142],\n",
       "       [141,  86, 136],\n",
       "       [138,  86, 140]], dtype=int32)"
      ]
     },
     "execution_count": 11,
     "metadata": {},
     "output_type": "execute_result"
    }
   ],
   "source": [
    "v_quantized = bit_quantization(vertices)\n",
    "v_quantized"
   ]
  },
  {
   "cell_type": "code",
   "execution_count": 12,
   "metadata": {},
   "outputs": [
    {
     "name": "stdout",
     "output_type": "stream",
     "text": [
      "[Open3D INFO] Skipping non-triangle primitive geometry of type: 2\n",
      "(2463, 3) (1301, 3)\n"
     ]
    },
    {
     "data": {
      "application/vnd.jupyter.widget-view+json": {
       "model_id": "1b9cd05ff3704b70b31df10dbfaa686a",
       "version_major": 2,
       "version_minor": 0
      },
      "text/plain": [
       "Renderer(camera=PerspectiveCamera(children=(DirectionalLight(color='white', intensity=0.6, position=(127.0, 12…"
      ]
     },
     "metadata": {},
     "output_type": "display_data"
    }
   ],
   "source": [
    "validate_pipeline(v_quantized, normals, faces, out_dir)"
   ]
  },
  {
   "cell_type": "markdown",
   "metadata": {},
   "source": [
    "# reduce points in the same grid"
   ]
  },
  {
   "cell_type": "code",
   "execution_count": 13,
   "metadata": {},
   "outputs": [],
   "source": [
    "def redirect_same_vertices(vertices, faces):\n",
    "    faces_with_coord = []\n",
    "    for face in faces:\n",
    "        faces_with_coord.append([[tuple(vertices[v_idx]), f_idx] for v_idx, f_idx in face])\n",
    "    \n",
    "    coord_to_minimum_vertex = {}\n",
    "    new_vertices = []\n",
    "    cnt_new_vertices = 0\n",
    "    for vertex in vertices:\n",
    "        vertex_key = tuple(vertex)\n",
    "        \n",
    "        if vertex_key not in coord_to_minimum_vertex.keys():\n",
    "            coord_to_minimum_vertex[vertex_key] = cnt_new_vertices\n",
    "            new_vertices.append(vertex)\n",
    "            cnt_new_vertices += 1\n",
    "    \n",
    "    new_faces = []\n",
    "    for face in faces_with_coord:\n",
    "        face = np.array([\n",
    "            [coord_to_minimum_vertex[coord], f_idx] for coord, f_idx in face\n",
    "        ])\n",
    "        new_faces.append(face)\n",
    "    \n",
    "    return np.stack(new_vertices), new_faces"
   ]
  },
  {
   "cell_type": "code",
   "execution_count": 14,
   "metadata": {
    "scrolled": true
   },
   "outputs": [
    {
     "data": {
      "text/plain": [
       "((655, 3), 588)"
      ]
     },
     "execution_count": 14,
     "metadata": {},
     "output_type": "execute_result"
    }
   ],
   "source": [
    "v_redirected, f_redirected = redirect_same_vertices(v_quantized, faces)\n",
    "v_redirected.shape, len(f_redirected)"
   ]
  },
  {
   "cell_type": "code",
   "execution_count": 15,
   "metadata": {},
   "outputs": [
    {
     "name": "stdout",
     "output_type": "stream",
     "text": [
      "[Open3D INFO] Skipping non-triangle primitive geometry of type: 2\n",
      "(2463, 3) (1301, 3)\n"
     ]
    },
    {
     "data": {
      "application/vnd.jupyter.widget-view+json": {
       "model_id": "308fa3f5f931473a9f6fd5032d5b3fbd",
       "version_major": 2,
       "version_minor": 0
      },
      "text/plain": [
       "Renderer(camera=PerspectiveCamera(children=(DirectionalLight(color='white', intensity=0.6, position=(127.0, 12…"
      ]
     },
     "metadata": {},
     "output_type": "display_data"
    }
   ],
   "source": [
    "validate_pipeline(v_redirected, normals, f_redirected, out_dir)"
   ]
  },
  {
   "cell_type": "markdown",
   "metadata": {},
   "source": [
    "# vertex/face sorting"
   ]
  },
  {
   "cell_type": "code",
   "execution_count": 16,
   "metadata": {},
   "outputs": [],
   "source": [
    "def reorder_vertices(vertices):\n",
    "    indeces = np.lexsort(vertices.T[::-1])[::-1]\n",
    "    return vertices[indeces], indeces"
   ]
  },
  {
   "cell_type": "code",
   "execution_count": 17,
   "metadata": {},
   "outputs": [],
   "source": [
    "v_reordered, sort_v_ids = reorder_vertices(v_redirected)"
   ]
  },
  {
   "cell_type": "code",
   "execution_count": 18,
   "metadata": {},
   "outputs": [],
   "source": [
    "def reorder_faces(faces, sort_v_ids, pad_id=-1):\n",
    "    # apply sorted vertice-id and sort in-face-triple values.\n",
    "    \n",
    "    faces_ids = []\n",
    "    faces_sorted = []\n",
    "    for f in faces:\n",
    "        f = np.stack([\n",
    "            np.concatenate([np.where(sort_v_ids==v_idx)[0], np.array([n_idx])])\n",
    "            for v_idx, n_idx in f\n",
    "        ])\n",
    "        f_ids = f[:, 0]\n",
    "        \n",
    "        max_idx = np.argmax(f_ids)\n",
    "        sort_ids = np.arange(len(f_ids))\n",
    "        sort_ids = np.concatenate([\n",
    "            sort_ids[max_idx:], sort_ids[:max_idx]\n",
    "        ])\n",
    "        faces_ids.append(f_ids[sort_ids])\n",
    "        faces_sorted.append(f[sort_ids])\n",
    "        \n",
    "    # padding for lexical sorting.\n",
    "    max_length = max([len(f) for f in faces_ids])\n",
    "    faces_ids = np.array([\n",
    "        np.concatenate([f, np.array([pad_id]*(max_length-len(f)))]) \n",
    "        for f in faces_ids\n",
    "    ])\n",
    "    \n",
    "    # lexical sort over face triples.\n",
    "    indeces = np.lexsort(faces_ids.T[::-1])[::-1]\n",
    "    faces_sorted = [faces_sorted[idx] for idx in indeces]\n",
    "    return faces_sorted"
   ]
  },
  {
   "cell_type": "code",
   "execution_count": 19,
   "metadata": {
    "scrolled": true
   },
   "outputs": [],
   "source": [
    "f_reordered = reorder_faces(f_redirected, sort_v_ids)"
   ]
  },
  {
   "cell_type": "code",
   "execution_count": 20,
   "metadata": {},
   "outputs": [
    {
     "name": "stdout",
     "output_type": "stream",
     "text": [
      "[Open3D INFO] Skipping non-triangle primitive geometry of type: 2\n",
      "(2463, 3) (1301, 3)\n"
     ]
    },
    {
     "data": {
      "application/vnd.jupyter.widget-view+json": {
       "model_id": "31d038a26a2f4504aa391dca859a039a",
       "version_major": 2,
       "version_minor": 0
      },
      "text/plain": [
       "Renderer(camera=PerspectiveCamera(children=(DirectionalLight(color='white', intensity=0.6, position=(127.0, 12…"
      ]
     },
     "metadata": {},
     "output_type": "display_data"
    }
   ],
   "source": [
    "validate_pipeline(v_reordered, normals, f_reordered, out_dir)"
   ]
  },
  {
   "cell_type": "markdown",
   "metadata": {},
   "source": [
    "# loading pipeline"
   ]
  },
  {
   "cell_type": "code",
   "execution_count": 21,
   "metadata": {},
   "outputs": [],
   "source": [
    "def load_pipeline(file_path, bit=8, remove_normal_ids=True):\n",
    "    vs, ns, fs = read_objfile(file_path)\n",
    "    \n",
    "    vs = bit_quantization(vs, bit=bit)\n",
    "    vs, fs = redirect_same_vertices(vs, fs)\n",
    "    \n",
    "    vs, ids = reorder_vertices(vs)\n",
    "    fs = reorder_faces(fs, ids)\n",
    "    \n",
    "    if remove_normal_ids:\n",
    "        fs = [f[:, 0] for f in fs]\n",
    "        \n",
    "    return vs, ns, fs"
   ]
  },
  {
   "cell_type": "code",
   "execution_count": 22,
   "metadata": {},
   "outputs": [],
   "source": [
    "vs, ns, fs = load_pipeline(train_files[4], remove_normal_ids=False)"
   ]
  },
  {
   "cell_type": "code",
   "execution_count": 23,
   "metadata": {},
   "outputs": [
    {
     "name": "stdout",
     "output_type": "stream",
     "text": [
      "[Open3D INFO] Skipping non-triangle primitive geometry of type: 1\n",
      "[Open3D INFO] Skipping non-triangle primitive geometry of type: 2\n",
      "(1389, 3) (908, 3)\n"
     ]
    },
    {
     "data": {
      "application/vnd.jupyter.widget-view+json": {
       "model_id": "2a2653ba60f543739005ae397a59cf4f",
       "version_major": 2,
       "version_minor": 0
      },
      "text/plain": [
       "Renderer(camera=PerspectiveCamera(children=(DirectionalLight(color='white', intensity=0.6, position=(127.0, 12…"
      ]
     },
     "metadata": {},
     "output_type": "display_data"
    }
   ],
   "source": [
    "validate_pipeline(vs, ns, fs, out_dir)"
   ]
  },
  {
   "cell_type": "markdown",
   "metadata": {},
   "source": [
    "# preparation of dataset"
   ]
  },
  {
   "cell_type": "code",
   "execution_count": 24,
   "metadata": {},
   "outputs": [],
   "source": [
    "classes = [\"basket\", \"chair\", \"lamp\", \"sofa\", \"table\"]"
   ]
  },
  {
   "cell_type": "code",
   "execution_count": 25,
   "metadata": {},
   "outputs": [
    {
     "name": "stdout",
     "output_type": "stream",
     "text": [
      "basket\n",
      "chair\n",
      "lamp\n",
      "sofa\n",
      "table\n"
     ]
    }
   ],
   "source": [
    "train_info = []\n",
    "for class_ in classes:\n",
    "    print(class_)\n",
    "    class_datas = []\n",
    "    \n",
    "    for file_path in train_files:\n",
    "        if file_path.split(\"/\")[-2] == class_:\n",
    "            vs, ns, fs = load_pipeline(file_path)\n",
    "            class_datas.append({\n",
    "                \"vertices\": vs.tolist(),\n",
    "                \"faces\": [f.tolist() for f in fs],\n",
    "            })\n",
    "            train_info.append({\n",
    "                \"vertices\": sum([len(v) for v in vs]),\n",
    "                \"faces_sum\": sum([len(f) for f in fs]),\n",
    "                \"faces_num\": len(fs),\n",
    "                \"faces_points\": max([len(f) for f in fs]),\n",
    "            })\n",
    "            \n",
    "    with open(os.path.join(data_dir, \"preprocessed\", \"train\", class_+\".json\"), \"w\") as fw:\n",
    "        json.dump(class_datas, fw, indent=4)"
   ]
  },
  {
   "cell_type": "code",
   "execution_count": 26,
   "metadata": {},
   "outputs": [
    {
     "name": "stdout",
     "output_type": "stream",
     "text": [
      "basket\n",
      "chair\n",
      "lamp\n",
      "sofa\n",
      "table\n"
     ]
    }
   ],
   "source": [
    "test_info = []\n",
    "for class_ in classes:\n",
    "    print(class_)\n",
    "    class_datas = []\n",
    "    \n",
    "    for file_path in valid_files:\n",
    "        if file_path.split(\"/\")[-2] == class_:\n",
    "            vs, ns, fs = load_pipeline(file_path)\n",
    "            class_datas.append({\n",
    "                \"vertices\": vs.tolist(),\n",
    "                \"faces\": [f.tolist() for f in fs],\n",
    "            })\n",
    "            test_info.append({\n",
    "                \"vertices\": sum([len(v) for v in vs]),\n",
    "                \"faces_sum\": sum([len(f) for f in fs]),\n",
    "                \"faces_num\": len(fs),\n",
    "                \"faces_points\": max([len(f) for f in fs]),\n",
    "            })\n",
    "            \n",
    "    with open(os.path.join(data_dir, \"preprocessed\", \"valid\", class_+\".json\"), \"w\") as fw:\n",
    "        json.dump(class_datas, fw, indent=4)"
   ]
  },
  {
   "cell_type": "code",
   "execution_count": 27,
   "metadata": {},
   "outputs": [
    {
     "data": {
      "text/html": [
       "<div>\n",
       "<style scoped>\n",
       "    .dataframe tbody tr th:only-of-type {\n",
       "        vertical-align: middle;\n",
       "    }\n",
       "\n",
       "    .dataframe tbody tr th {\n",
       "        vertical-align: top;\n",
       "    }\n",
       "\n",
       "    .dataframe thead th {\n",
       "        text-align: right;\n",
       "    }\n",
       "</style>\n",
       "<table border=\"1\" class=\"dataframe\">\n",
       "  <thead>\n",
       "    <tr style=\"text-align: right;\">\n",
       "      <th></th>\n",
       "      <th>vertices</th>\n",
       "      <th>faces_sum</th>\n",
       "      <th>faces_num</th>\n",
       "      <th>faces_points</th>\n",
       "    </tr>\n",
       "  </thead>\n",
       "  <tbody>\n",
       "    <tr>\n",
       "      <th>0</th>\n",
       "      <td>756</td>\n",
       "      <td>1178</td>\n",
       "      <td>319</td>\n",
       "      <td>23</td>\n",
       "    </tr>\n",
       "    <tr>\n",
       "      <th>1</th>\n",
       "      <td>192</td>\n",
       "      <td>2424</td>\n",
       "      <td>601</td>\n",
       "      <td>24</td>\n",
       "    </tr>\n",
       "    <tr>\n",
       "      <th>2</th>\n",
       "      <td>1176</td>\n",
       "      <td>2520</td>\n",
       "      <td>625</td>\n",
       "      <td>24</td>\n",
       "    </tr>\n",
       "    <tr>\n",
       "      <th>3</th>\n",
       "      <td>288</td>\n",
       "      <td>320</td>\n",
       "      <td>53</td>\n",
       "      <td>48</td>\n",
       "    </tr>\n",
       "    <tr>\n",
       "      <th>4</th>\n",
       "      <td>870</td>\n",
       "      <td>3110</td>\n",
       "      <td>773</td>\n",
       "      <td>35</td>\n",
       "    </tr>\n",
       "    <tr>\n",
       "      <th>...</th>\n",
       "      <td>...</td>\n",
       "      <td>...</td>\n",
       "      <td>...</td>\n",
       "      <td>...</td>\n",
       "    </tr>\n",
       "    <tr>\n",
       "      <th>6998</th>\n",
       "      <td>747</td>\n",
       "      <td>1800</td>\n",
       "      <td>421</td>\n",
       "      <td>12</td>\n",
       "    </tr>\n",
       "    <tr>\n",
       "      <th>6999</th>\n",
       "      <td>465</td>\n",
       "      <td>1714</td>\n",
       "      <td>422</td>\n",
       "      <td>29</td>\n",
       "    </tr>\n",
       "    <tr>\n",
       "      <th>7000</th>\n",
       "      <td>660</td>\n",
       "      <td>1192</td>\n",
       "      <td>218</td>\n",
       "      <td>24</td>\n",
       "    </tr>\n",
       "    <tr>\n",
       "      <th>7001</th>\n",
       "      <td>174</td>\n",
       "      <td>1028</td>\n",
       "      <td>230</td>\n",
       "      <td>32</td>\n",
       "    </tr>\n",
       "    <tr>\n",
       "      <th>7002</th>\n",
       "      <td>933</td>\n",
       "      <td>1258</td>\n",
       "      <td>248</td>\n",
       "      <td>57</td>\n",
       "    </tr>\n",
       "  </tbody>\n",
       "</table>\n",
       "<p>7003 rows × 4 columns</p>\n",
       "</div>"
      ],
      "text/plain": [
       "      vertices  faces_sum  faces_num  faces_points\n",
       "0          756       1178        319            23\n",
       "1          192       2424        601            24\n",
       "2         1176       2520        625            24\n",
       "3          288        320         53            48\n",
       "4          870       3110        773            35\n",
       "...        ...        ...        ...           ...\n",
       "6998       747       1800        421            12\n",
       "6999       465       1714        422            29\n",
       "7000       660       1192        218            24\n",
       "7001       174       1028        230            32\n",
       "7002       933       1258        248            57\n",
       "\n",
       "[7003 rows x 4 columns]"
      ]
     },
     "execution_count": 27,
     "metadata": {},
     "output_type": "execute_result"
    }
   ],
   "source": [
    "train_info_df = pd.DataFrame(train_info)\n",
    "train_info_df"
   ]
  },
  {
   "cell_type": "code",
   "execution_count": 28,
   "metadata": {},
   "outputs": [
    {
     "data": {
      "text/html": [
       "<div>\n",
       "<style scoped>\n",
       "    .dataframe tbody tr th:only-of-type {\n",
       "        vertical-align: middle;\n",
       "    }\n",
       "\n",
       "    .dataframe tbody tr th {\n",
       "        vertical-align: top;\n",
       "    }\n",
       "\n",
       "    .dataframe thead th {\n",
       "        text-align: right;\n",
       "    }\n",
       "</style>\n",
       "<table border=\"1\" class=\"dataframe\">\n",
       "  <thead>\n",
       "    <tr style=\"text-align: right;\">\n",
       "      <th></th>\n",
       "      <th>vertices</th>\n",
       "      <th>faces_sum</th>\n",
       "      <th>faces_num</th>\n",
       "      <th>faces_points</th>\n",
       "    </tr>\n",
       "  </thead>\n",
       "  <tbody>\n",
       "    <tr>\n",
       "      <th>0</th>\n",
       "      <td>726</td>\n",
       "      <td>1839</td>\n",
       "      <td>346</td>\n",
       "      <td>45</td>\n",
       "    </tr>\n",
       "    <tr>\n",
       "      <th>1</th>\n",
       "      <td>297</td>\n",
       "      <td>712</td>\n",
       "      <td>184</td>\n",
       "      <td>13</td>\n",
       "    </tr>\n",
       "    <tr>\n",
       "      <th>2</th>\n",
       "      <td>912</td>\n",
       "      <td>1200</td>\n",
       "      <td>290</td>\n",
       "      <td>24</td>\n",
       "    </tr>\n",
       "    <tr>\n",
       "      <th>3</th>\n",
       "      <td>378</td>\n",
       "      <td>298</td>\n",
       "      <td>45</td>\n",
       "      <td>84</td>\n",
       "    </tr>\n",
       "    <tr>\n",
       "      <th>4</th>\n",
       "      <td>1140</td>\n",
       "      <td>1102</td>\n",
       "      <td>164</td>\n",
       "      <td>183</td>\n",
       "    </tr>\n",
       "    <tr>\n",
       "      <th>...</th>\n",
       "      <td>...</td>\n",
       "      <td>...</td>\n",
       "      <td>...</td>\n",
       "      <td>...</td>\n",
       "    </tr>\n",
       "    <tr>\n",
       "      <th>1083</th>\n",
       "      <td>330</td>\n",
       "      <td>710</td>\n",
       "      <td>158</td>\n",
       "      <td>23</td>\n",
       "    </tr>\n",
       "    <tr>\n",
       "      <th>1084</th>\n",
       "      <td>123</td>\n",
       "      <td>138</td>\n",
       "      <td>30</td>\n",
       "      <td>8</td>\n",
       "    </tr>\n",
       "    <tr>\n",
       "      <th>1085</th>\n",
       "      <td>96</td>\n",
       "      <td>102</td>\n",
       "      <td>21</td>\n",
       "      <td>8</td>\n",
       "    </tr>\n",
       "    <tr>\n",
       "      <th>1086</th>\n",
       "      <td>561</td>\n",
       "      <td>1186</td>\n",
       "      <td>233</td>\n",
       "      <td>52</td>\n",
       "    </tr>\n",
       "    <tr>\n",
       "      <th>1087</th>\n",
       "      <td>216</td>\n",
       "      <td>316</td>\n",
       "      <td>77</td>\n",
       "      <td>24</td>\n",
       "    </tr>\n",
       "  </tbody>\n",
       "</table>\n",
       "<p>1088 rows × 4 columns</p>\n",
       "</div>"
      ],
      "text/plain": [
       "      vertices  faces_sum  faces_num  faces_points\n",
       "0          726       1839        346            45\n",
       "1          297        712        184            13\n",
       "2          912       1200        290            24\n",
       "3          378        298         45            84\n",
       "4         1140       1102        164           183\n",
       "...        ...        ...        ...           ...\n",
       "1083       330        710        158            23\n",
       "1084       123        138         30             8\n",
       "1085        96        102         21             8\n",
       "1086       561       1186        233            52\n",
       "1087       216        316         77            24\n",
       "\n",
       "[1088 rows x 4 columns]"
      ]
     },
     "execution_count": 28,
     "metadata": {},
     "output_type": "execute_result"
    }
   ],
   "source": [
    "test_info_df = pd.DataFrame(test_info)\n",
    "test_info_df"
   ]
  },
  {
   "cell_type": "code",
   "execution_count": 29,
   "metadata": {},
   "outputs": [
    {
     "name": "stdout",
     "output_type": "stream",
     "text": [
      "vertices        2346\n",
      "faces_sum       3862\n",
      "faces_num       1246\n",
      "faces_points     330\n",
      "dtype: int64\n",
      "====================\n",
      "vertices        2292\n",
      "faces_sum       3504\n",
      "faces_num       1123\n",
      "faces_points     257\n",
      "dtype: int64\n"
     ]
    }
   ],
   "source": [
    "print(train_info_df.max())\n",
    "print(\"=\"*20)\n",
    "print(test_info_df.max())"
   ]
  },
  {
   "cell_type": "code",
   "execution_count": 30,
   "metadata": {},
   "outputs": [],
   "source": [
    "train_info_df.to_csv(os.path.join(out_dir, \"statistics\", \"train_info.csv\"))\n",
    "test_info_df.to_csv(os.path.join(out_dir, \"statistics\", \"test_info.csv\"))"
   ]
  },
  {
   "cell_type": "markdown",
   "metadata": {},
   "source": [
    "# check dataset"
   ]
  },
  {
   "cell_type": "code",
   "execution_count": 31,
   "metadata": {},
   "outputs": [
    {
     "name": "stdout",
     "output_type": "stream",
     "text": [
      "50 6\n"
     ]
    }
   ],
   "source": [
    "with open(os.path.join(data_dir, \"preprocessed\", \"train\", classes[0]+\".json\")) as fr:\n",
    "    train = json.load(fr)\n",
    "    \n",
    "with open(os.path.join(data_dir, \"preprocessed\", \"valid\", classes[0]+\".json\")) as fr:\n",
    "    valid = json.load(fr)\n",
    "    \n",
    "print(len(train), len(valid))"
   ]
  },
  {
   "cell_type": "code",
   "execution_count": 32,
   "metadata": {},
   "outputs": [
    {
     "data": {
      "text/plain": [
       "{'vertices': [[162, 126, 143],\n",
       "  [162, 126, 111],\n",
       "  [162, 125, 143],\n",
       "  [162, 125, 111],\n",
       "  [161, 127, 143],\n",
       "  [161, 127, 111],\n",
       "  [160, 127, 154],\n",
       "  [160, 127, 143],\n",
       "  [160, 127, 111],\n",
       "  [160, 127, 100]],\n",
       " 'faces': [[251, 250, 244, 245],\n",
       "  [251, 249, 248, 250],\n",
       "  [251, 245, 239, 243],\n",
       "  [251, 243, 235, 249],\n",
       "  [250, 248, 234, 242],\n",
       "  [250, 242, 238, 244],\n",
       "  [249, 247, 246, 248],\n",
       "  [249, 235, 233, 247],\n",
       "  [248, 246, 232, 234],\n",
       "  [247, 241, 240, 246]]}"
      ]
     },
     "execution_count": 32,
     "metadata": {},
     "output_type": "execute_result"
    }
   ],
   "source": [
    "{k: v[:10] for k, v in train[0].items()}"
   ]
  },
  {
   "cell_type": "code",
   "execution_count": 33,
   "metadata": {},
   "outputs": [
    {
     "data": {
      "text/plain": [
       "{'vertices': [[170, 128, 131],\n",
       "  [170, 128, 120],\n",
       "  [170, 107, 131],\n",
       "  [170, 107, 120],\n",
       "  [167, 128, 142],\n",
       "  [167, 107, 142],\n",
       "  [166, 128, 129],\n",
       "  [166, 128, 109],\n",
       "  [166, 107, 129],\n",
       "  [166, 107, 109]],\n",
       " 'faces': [[241, 239, 238, 240],\n",
       "  [241, 237, 236, 239],\n",
       "  [241,\n",
       "   237,\n",
       "   227,\n",
       "   213,\n",
       "   195,\n",
       "   149,\n",
       "   143,\n",
       "   49,\n",
       "   34,\n",
       "   26,\n",
       "   9,\n",
       "   3,\n",
       "   2,\n",
       "   5,\n",
       "   16,\n",
       "   30,\n",
       "   44,\n",
       "   91,\n",
       "   136,\n",
       "   189,\n",
       "   173,\n",
       "   130,\n",
       "   86,\n",
       "   45,\n",
       "   32,\n",
       "   25,\n",
       "   13,\n",
       "   8,\n",
       "   11,\n",
       "   17,\n",
       "   28,\n",
       "   37,\n",
       "   68,\n",
       "   113,\n",
       "   155,\n",
       "   194,\n",
       "   210,\n",
       "   223,\n",
       "   229,\n",
       "   235,\n",
       "   234,\n",
       "   240],\n",
       "  [240, 238, 232, 234],\n",
       "  [239,\n",
       "   238,\n",
       "   232,\n",
       "   216,\n",
       "   207,\n",
       "   188,\n",
       "   135,\n",
       "   89,\n",
       "   42,\n",
       "   29,\n",
       "   14,\n",
       "   4,\n",
       "   6,\n",
       "   12,\n",
       "   23,\n",
       "   31,\n",
       "   43,\n",
       "   85,\n",
       "   128,\n",
       "   170,\n",
       "   203,\n",
       "   214,\n",
       "   224,\n",
       "   230,\n",
       "   233,\n",
       "   228,\n",
       "   217,\n",
       "   225,\n",
       "   236],\n",
       "  [237, 227, 225, 236],\n",
       "  [235, 233, 230, 231],\n",
       "  [235, 231, 226, 215, 205, 173, 189, 208, 222, 234],\n",
       "  [235, 229, 228, 233],\n",
       "  [235,\n",
       "   229,\n",
       "   223,\n",
       "   210,\n",
       "   194,\n",
       "   155,\n",
       "   113,\n",
       "   68,\n",
       "   37,\n",
       "   28,\n",
       "   17,\n",
       "   11,\n",
       "   8,\n",
       "   13,\n",
       "   25,\n",
       "   32,\n",
       "   45,\n",
       "   86,\n",
       "   57,\n",
       "   40,\n",
       "   58,\n",
       "   60,\n",
       "   60,\n",
       "   61,\n",
       "   187,\n",
       "   186,\n",
       "   185,\n",
       "   185,\n",
       "   187,\n",
       "   202,\n",
       "   201,\n",
       "   201,\n",
       "   200,\n",
       "   184,\n",
       "   183,\n",
       "   183,\n",
       "   182,\n",
       "   130,\n",
       "   173,\n",
       "   205,\n",
       "   215,\n",
       "   226,\n",
       "   231]]}"
      ]
     },
     "execution_count": 33,
     "metadata": {},
     "output_type": "execute_result"
    }
   ],
   "source": [
    "{k: v[:10] for k, v in valid[0].items()}"
   ]
  },
  {
   "cell_type": "code",
   "execution_count": null,
   "metadata": {},
   "outputs": [],
   "source": []
  },
  {
   "cell_type": "code",
   "execution_count": null,
   "metadata": {},
   "outputs": [],
   "source": []
  }
 ],
 "metadata": {
  "kernelspec": {
   "display_name": "3dEnv",
   "language": "python",
   "name": "3denv"
  },
  "language_info": {
   "codemirror_mode": {
    "name": "ipython",
    "version": 3
   },
   "file_extension": ".py",
   "mimetype": "text/x-python",
   "name": "python",
   "nbconvert_exporter": "python",
   "pygments_lexer": "ipython3",
   "version": "3.7.9"
  }
 },
 "nbformat": 4,
 "nbformat_minor": 4
}
