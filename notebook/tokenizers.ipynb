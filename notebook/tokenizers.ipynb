{
 "cells": [
  {
   "cell_type": "code",
   "execution_count": 1,
   "metadata": {},
   "outputs": [],
   "source": [
    "import os\n",
    "import sys\n",
    "import glob\n",
    "import torch\n",
    "import numpy as np\n",
    "import pandas as pd\n",
    "import open3d as o3d"
   ]
  },
  {
   "cell_type": "code",
   "execution_count": 2,
   "metadata": {},
   "outputs": [],
   "source": [
    "base_dir = os.path.dirname(os.getcwd())\n",
    "data_dir = os.path.join(base_dir, \"data\")\n",
    "src_dir = os.path.join(base_dir, \"src\")\n",
    "sys.path.append(os.path.join(src_dir))"
   ]
  },
  {
   "cell_type": "code",
   "execution_count": 3,
   "metadata": {},
   "outputs": [
    {
     "data": {
      "text/plain": [
       "(7003, 1088)"
      ]
     },
     "execution_count": 3,
     "metadata": {},
     "output_type": "execute_result"
    }
   ],
   "source": [
    "train_files = glob.glob(os.path.join(data_dir, \"original\", \"train\", \"*\", \"*.obj\"))\n",
    "valid_files = glob.glob(os.path.join(data_dir, \"original\", \"val\", \"*\", \"*.obj\"))\n",
    "len(train_files), len(valid_files)"
   ]
  },
  {
   "cell_type": "code",
   "execution_count": 4,
   "metadata": {},
   "outputs": [],
   "source": [
    "from utils import load_pipeline"
   ]
  },
  {
   "cell_type": "code",
   "execution_count": 13,
   "metadata": {},
   "outputs": [],
   "source": [
    "class Tokenizer(object):\n",
    "    \n",
    "    def _padding(self, ids_tensor, pad_token):\n",
    "        max_length = max([len(ids) for ids in ids_tensor])\n",
    "        ids_tensor = [\n",
    "            torch.cat([\n",
    "                ids, pad_token.repeat(max_length - len(ids) + 1)\n",
    "            ])\n",
    "            for ids in ids_tensor\n",
    "        ]\n",
    "        return ids_tensor\n",
    "    \n",
    "    def _make_position_ids_tensor(self, ids_tensor):\n",
    "        bsz, length = ids_tensor.shape\n",
    "        position_ids = torch.arange(length)[None, :]\n",
    "        position_ids = position_ids.repeat(bsz, 1)\n",
    "        return position_ids\n",
    "    \n",
    "    def _make_position_ids_list(self, ids_list):\n",
    "        bsz = len(ids_list)\n",
    "        position_ids = [torch.arange(len(ids)) for ids in ids_list]\n",
    "        return position_ids\n",
    "    \n",
    "    def _make_padding_mask(self, ids_tensor, pad_id):\n",
    "        mask = torch.where(\n",
    "            ids_tensor==pad_id,\n",
    "            torch.ones_like(ids_tensor),\n",
    "            torch.zeros_like(ids_tensor)\n",
    "        ).type(torch.bool)\n",
    "        return mask\n",
    "\n",
    "    def _make_future_mask(self, ids_tensor):\n",
    "        batch, length = ids_tensor.shape\n",
    "        arange = torch.arange(length)\n",
    "        mask = torch.where(\n",
    "            arange[None, :] <= arange[:, None],\n",
    "            torch.zeros((length, length)),\n",
    "            torch.ones((length, length))*(-np.inf)\n",
    "        ).type(torch.float32)\n",
    "        return mask"
   ]
  },
  {
   "cell_type": "code",
   "execution_count": 32,
   "metadata": {},
   "outputs": [],
   "source": [
    "class EncodeVertexTokenizer(Tokenizer):\n",
    "    \n",
    "    def __init__(self, pad_id=0):\n",
    "        self.pad_token = torch.tensor([pad_id])\n",
    "        self.pad_id = pad_id\n",
    "        \n",
    "    def tokenize(self, vertices, padding=True):\n",
    "        vertices = [v.reshape(-1,) + 1 for v in vertices]\n",
    "        coord_type_tokens = [torch.arange(len(v)) % 3 + 1 for v in vertices]\n",
    "        \n",
    "        if padding:\n",
    "            vertices = torch.stack(self._padding(vertices, self.pad_token))\n",
    "            coord_type_tokens = torch.stack(self._padding(coord_type_tokens, self.pad_token))\n",
    "            padding_mask = self._make_padding_mask(vertices, self.pad_id)\n",
    "            position_ids = self._make_position_ids_tensor(vertices)\n",
    "            outputs = {\n",
    "                \"value_tokens\": vertices,\n",
    "                \"coord_type_tokens\": coord_type_tokens,\n",
    "                \"position_ids\": position_ids,\n",
    "                \"padding_mask\": padding_mask,\n",
    "            }\n",
    "        else:\n",
    "            position_ids = self._make_position_ids_list(vertices)\n",
    "            outputs = {\n",
    "                \"value_token\": vertices,\n",
    "                \"coord_type_tokens\": coord_type_tokens,\n",
    "                \"position_ids\": position_ids,\n",
    "            }\n",
    "            \n",
    "        return outputs"
   ]
  },
  {
   "cell_type": "code",
   "execution_count": 33,
   "metadata": {},
   "outputs": [],
   "source": [
    "class DecodeVertexTokenizer(Tokenizer):\n",
    "    \n",
    "    def __init__(self, bos_id=0, eos_id=1, pad_id=2):\n",
    "        \n",
    "        self.special_tokens = {\n",
    "            \"bos\": torch.tensor([bos_id]),\n",
    "            \"eos\": torch.tensor([eos_id]),\n",
    "            \"pad\": torch.tensor([pad_id]),\n",
    "        }\n",
    "        self.pad_id = pad_id\n",
    "        self.not_coord_token = torch.tensor([0])\n",
    "    \n",
    "    def tokenize(self, vertices, padding=True):\n",
    "        special_tokens = self.special_tokens\n",
    "        not_coord_token = self.not_coord_token\n",
    "        \n",
    "        vertices = [\n",
    "            torch.cat([\n",
    "                special_tokens[\"bos\"], \n",
    "                v.reshape(-1,)  + len(special_tokens), \n",
    "                special_tokens[\"eos\"]\n",
    "            ])\n",
    "            for v in vertices\n",
    "        ]\n",
    "        \n",
    "        coord_type_tokens = [\n",
    "            torch.cat([\n",
    "                not_coord_token,\n",
    "                torch.arange(len(v)) % 3 + 1,\n",
    "                not_coord_token\n",
    "            ])\n",
    "            for v in vertices\n",
    "        ]\n",
    "        \n",
    "        if padding:\n",
    "            vertices = torch.stack(self._padding(vertices, special_tokens[\"pad\"]))\n",
    "            coord_type_tokens = torch.stack(self._padding(coord_type_tokens, not_coord_token))\n",
    "            padding_mask = self._make_padding_mask(vertices, self.pad_id)\n",
    "            future_mask = self._make_future_mask(vertices)\n",
    "            position_ids = self._make_position_ids_tensor(vertices)\n",
    "            outputs = {\n",
    "                \"value_tokens\": vertices,\n",
    "                \"coord_type_tokens\": coord_type_tokens,\n",
    "                \"position_ids\": position_ids,\n",
    "                \"padding_mask\": padding_mask,\n",
    "                \"future_mask\": future_mask,\n",
    "            }\n",
    "        else:\n",
    "            position_ids = self._make_position_ids_list(vertices)\n",
    "            outputs = {\n",
    "                \"value_tokens\": vertices,\n",
    "                \"coord_type_tokens\": coord_type_tokens,\n",
    "                \"position_ids\": position_ids,\n",
    "            }\n",
    "            \n",
    "        return outputs\n",
    "    \n",
    "    def detokenize(self, vertices):\n",
    "        special_tokens = self.special_tokens\n",
    "        \n",
    "        result = []\n",
    "        for vertex in vertices:\n",
    "            vertex = vertex - len(special_tokens)\n",
    "            result.append(\n",
    "                vertex[torch.where(vertex >= 0)]\n",
    "            )\n",
    "        return result"
   ]
  },
  {
   "cell_type": "code",
   "execution_count": 8,
   "metadata": {},
   "outputs": [],
   "source": [
    "class FaceTokenizer(Tokenizer):\n",
    "    \n",
    "    def __init__(self, eof_id=0, eos_id=1, pad_id=2):\n",
    "        self.special_tokens = {\n",
    "            \"eof\": torch.tensor([eof_id]),\n",
    "            \"eos\": torch.tensor([eos_id]),\n",
    "            \"pad\": torch.tensor([pad_id]),\n",
    "        }\n",
    "        self.pad_id = pad_id\n",
    "        \n",
    "    def tokenize(self, faces, target=False, padding=True):\n",
    "        special_tokens = self.special_tokens\n",
    "        faces = [\n",
    "            torch.cat([\n",
    "                torch.cat([\n",
    "                    f + len(special_tokens), special_tokens[\"eof\"].repeat(len(f))[:, None]], dim=1\n",
    "                ).reshape(-1, ),\n",
    "                special_tokens[\"eos\"]\n",
    "            ]) for f in faces\n",
    "        ]\n",
    "        \n",
    "        if padding:\n",
    "            faces = self._padding(faces, special_tokens[\"pad\"])\n",
    "            \n",
    "            if target:\n",
    "                faces = [torch.cat([f, special_tokens[\"pad\"]])[1:] for f in faces]\n",
    "            \n",
    "            faces = torch.stack(faces)\n",
    "            pad_mask = self._make_padding_mask(faces, self.pad_id)\n",
    "            future_mask = self._make_future_mask(faces)\n",
    "            return faces, pad_mask, future_mask\n",
    "        else:\n",
    "            return faces\n",
    "\n",
    "    def detokenize(self, faces):\n",
    "        special_tokens = self.special_tokens\n",
    "        \n",
    "        result = []\n",
    "        for face in faces:\n",
    "            face = face - len(special_tokens)\n",
    "            result.append(\n",
    "                face[torch.where(face >= 0)]\n",
    "            )\n",
    "        return result"
   ]
  },
  {
   "cell_type": "code",
   "execution_count": 15,
   "metadata": {},
   "outputs": [
    {
     "name": "stdout",
     "output_type": "stream",
     "text": [
      "torch.Size([677, 3]) torch.Size([1317, 3])\n",
      "torch.Size([342, 3]) torch.Size([676, 3])\n",
      "torch.Size([648, 3]) torch.Size([1184, 3])\n"
     ]
    }
   ],
   "source": [
    "v_batch, f_batch = [], []\n",
    "for i in range(3):\n",
    "    v, f = load_pipeline(train_files[i])\n",
    "    v = torch.tensor(v)\n",
    "    f = torch.tensor(f)\n",
    "    v_batch.append(v)\n",
    "    f_batch.append(f)\n",
    "    print(v.shape, f.shape)"
   ]
  },
  {
   "cell_type": "code",
   "execution_count": 34,
   "metadata": {},
   "outputs": [],
   "source": [
    "enc_vtk = EncodeVertexTokenizer()\n",
    "dec_vtk = DecodeVertexTokenizer()\n",
    "ftk = FaceTokenizer()"
   ]
  },
  {
   "cell_type": "code",
   "execution_count": 35,
   "metadata": {},
   "outputs": [
    {
     "data": {
      "text/plain": [
       "{'value_tokens': tensor([[161, 137, 131,  ..., 137, 125,   0],\n",
       "         [135, 134, 128,  ...,   0,   0,   0],\n",
       "         [163,  99, 130,  ...,   0,   0,   0]]),\n",
       " 'coord_type_tokens': tensor([[1, 2, 3,  ..., 2, 3, 0],\n",
       "         [1, 2, 3,  ..., 0, 0, 0],\n",
       "         [1, 2, 3,  ..., 0, 0, 0]]),\n",
       " 'position_ids': tensor([[   0,    1,    2,  ..., 2029, 2030, 2031],\n",
       "         [   0,    1,    2,  ..., 2029, 2030, 2031],\n",
       "         [   0,    1,    2,  ..., 2029, 2030, 2031]]),\n",
       " 'padding_mask': tensor([[False, False, False,  ..., False, False,  True],\n",
       "         [False, False, False,  ...,  True,  True,  True],\n",
       "         [False, False, False,  ...,  True,  True,  True]])}"
      ]
     },
     "execution_count": 35,
     "metadata": {},
     "output_type": "execute_result"
    }
   ],
   "source": [
    "enc_vtk.tokenize(v_batch)"
   ]
  },
  {
   "cell_type": "code",
   "execution_count": 36,
   "metadata": {},
   "outputs": [
    {
     "data": {
      "text/plain": [
       "{'value_token': [tensor([161, 137, 131,  ...,  95, 137, 125], dtype=torch.int32),\n",
       "  tensor([135, 134, 128,  ..., 121,  65, 128], dtype=torch.int32),\n",
       "  tensor([163,  99, 130,  ...,  93,  88, 126], dtype=torch.int32)],\n",
       " 'coord_type_tokens': [tensor([1, 2, 3,  ..., 1, 2, 3]),\n",
       "  tensor([1, 2, 3,  ..., 1, 2, 3]),\n",
       "  tensor([1, 2, 3,  ..., 1, 2, 3])],\n",
       " 'position_ids': [tensor([   0,    1,    2,  ..., 2028, 2029, 2030]),\n",
       "  tensor([   0,    1,    2,  ..., 1023, 1024, 1025]),\n",
       "  tensor([   0,    1,    2,  ..., 1941, 1942, 1943])]}"
      ]
     },
     "execution_count": 36,
     "metadata": {},
     "output_type": "execute_result"
    }
   ],
   "source": [
    "enc_vtk.tokenize(v_batch, padding=False)"
   ]
  },
  {
   "cell_type": "code",
   "execution_count": 37,
   "metadata": {},
   "outputs": [
    {
     "data": {
      "text/plain": [
       "[tensor([160, 136, 130,  ...,  94, 136, 124], dtype=torch.int32),\n",
       " tensor([134, 133, 127,  ..., 120,  64, 127], dtype=torch.int32),\n",
       " tensor([162,  98, 129,  ...,  92,  87, 125], dtype=torch.int32)]"
      ]
     },
     "execution_count": 37,
     "metadata": {},
     "output_type": "execute_result"
    }
   ],
   "source": [
    "[v.reshape(-1, ) for v in v_batch]"
   ]
  },
  {
   "cell_type": "code",
   "execution_count": 38,
   "metadata": {},
   "outputs": [
    {
     "data": {
      "text/plain": [
       "{'value_tokens': tensor([[  0, 163, 139,  ..., 127,   1,   2],\n",
       "         [  0, 137, 136,  ...,   2,   2,   2],\n",
       "         [  0, 165, 101,  ...,   2,   2,   2]]),\n",
       " 'coord_type_tokens': tensor([[0, 1, 2,  ..., 2, 0, 0],\n",
       "         [0, 1, 2,  ..., 0, 0, 0],\n",
       "         [0, 1, 2,  ..., 0, 0, 0]]),\n",
       " 'position_ids': tensor([[   0,    1,    2,  ..., 2031, 2032, 2033],\n",
       "         [   0,    1,    2,  ..., 2031, 2032, 2033],\n",
       "         [   0,    1,    2,  ..., 2031, 2032, 2033]]),\n",
       " 'padding_mask': tensor([[False, False, False,  ..., False, False,  True],\n",
       "         [False, False, False,  ...,  True,  True,  True],\n",
       "         [False, False, False,  ...,  True,  True,  True]]),\n",
       " 'future_mask': tensor([[0., -inf, -inf,  ..., -inf, -inf, -inf],\n",
       "         [0., 0., -inf,  ..., -inf, -inf, -inf],\n",
       "         [0., 0., 0.,  ..., -inf, -inf, -inf],\n",
       "         ...,\n",
       "         [0., 0., 0.,  ..., 0., -inf, -inf],\n",
       "         [0., 0., 0.,  ..., 0., 0., -inf],\n",
       "         [0., 0., 0.,  ..., 0., 0., 0.]])}"
      ]
     },
     "execution_count": 38,
     "metadata": {},
     "output_type": "execute_result"
    }
   ],
   "source": [
    "dec_vtk.tokenize(v_batch)"
   ]
  },
  {
   "cell_type": "code",
   "execution_count": 39,
   "metadata": {},
   "outputs": [
    {
     "data": {
      "text/plain": [
       "{'value_tokens': [tensor([  0, 163, 139,  ..., 139, 127,   1]),\n",
       "  tensor([  0, 137, 136,  ...,  67, 130,   1]),\n",
       "  tensor([  0, 165, 101,  ...,  90, 128,   1])],\n",
       " 'coord_type_tokens': [tensor([0, 1, 2,  ..., 1, 2, 0]),\n",
       "  tensor([0, 1, 2,  ..., 1, 2, 0]),\n",
       "  tensor([0, 1, 2,  ..., 1, 2, 0])],\n",
       " 'position_ids': [tensor([   0,    1,    2,  ..., 2030, 2031, 2032]),\n",
       "  tensor([   0,    1,    2,  ..., 1025, 1026, 1027]),\n",
       "  tensor([   0,    1,    2,  ..., 1943, 1944, 1945])]}"
      ]
     },
     "execution_count": 39,
     "metadata": {},
     "output_type": "execute_result"
    }
   ],
   "source": [
    "dec_vtk.tokenize(v_batch, padding=False)"
   ]
  },
  {
   "cell_type": "code",
   "execution_count": 40,
   "metadata": {},
   "outputs": [
    {
     "data": {
      "text/plain": [
       "[tensor([160, 136, 130,  ...,  94, 136, 124], dtype=torch.int32),\n",
       " tensor([134, 133, 127,  ..., 120,  64, 127], dtype=torch.int32),\n",
       " tensor([162,  98, 129,  ...,  92,  87, 125], dtype=torch.int32)]"
      ]
     },
     "execution_count": 40,
     "metadata": {},
     "output_type": "execute_result"
    }
   ],
   "source": [
    "[v.reshape(-1, ) for v in v_batch]"
   ]
  },
  {
   "cell_type": "code",
   "execution_count": 41,
   "metadata": {},
   "outputs": [
    {
     "data": {
      "text/plain": [
       "[tensor([160, 136, 130,  ...,  94, 136, 124]),\n",
       " tensor([134, 133, 127,  ..., 120,  64, 127]),\n",
       " tensor([162,  98, 129,  ...,  92,  87, 125])]"
      ]
     },
     "execution_count": 41,
     "metadata": {},
     "output_type": "execute_result"
    }
   ],
   "source": [
    "outputs = dec_vtk.detokenize(dec_vtk.tokenize(v_batch)[\"value_tokens\"])\n",
    "outputs"
   ]
  },
  {
   "cell_type": "code",
   "execution_count": 17,
   "metadata": {},
   "outputs": [
    {
     "name": "stdout",
     "output_type": "stream",
     "text": [
      "torch.Size([3, 5270])\n",
      "tensor([[  3,   4, 174,  ...,   0,   1,   2],\n",
      "        [  3,   6,  10,  ...,   2,   2,   2],\n",
      "        [  3,   4,   7,  ...,   2,   2,   2]])\n",
      "============================================================\n",
      "torch.Size([3, 5270])\n",
      "tensor([[False, False, False,  ..., False, False,  True],\n",
      "        [False, False, False,  ...,  True,  True,  True],\n",
      "        [False, False, False,  ...,  True,  True,  True]])\n",
      "============================================================\n",
      "torch.Size([5270, 5270])\n",
      "tensor([[0., -inf, -inf,  ..., -inf, -inf, -inf],\n",
      "        [0., 0., -inf,  ..., -inf, -inf, -inf],\n",
      "        [0., 0., 0.,  ..., -inf, -inf, -inf],\n",
      "        ...,\n",
      "        [0., 0., 0.,  ..., 0., -inf, -inf],\n",
      "        [0., 0., 0.,  ..., 0., 0., -inf],\n",
      "        [0., 0., 0.,  ..., 0., 0., 0.]])\n"
     ]
    }
   ],
   "source": [
    "fs, m_pad, m_future = ftk.tokenize(f_batch)\n",
    "print(fs.shape)\n",
    "print(fs)\n",
    "print(\"=\"*60)\n",
    "print(m_pad.shape)\n",
    "print(m_pad)\n",
    "print(\"=\"*60)\n",
    "print(m_future.shape)\n",
    "print(m_future)"
   ]
  },
  {
   "cell_type": "code",
   "execution_count": 18,
   "metadata": {},
   "outputs": [
    {
     "data": {
      "text/plain": [
       "[tensor([  0,   1, 171,  ..., 672, 675, 676]),\n",
       " tensor([  0,   3,   7,  ..., 335, 340, 341]),\n",
       " tensor([  0,   1,   4,  ..., 642, 646, 647])]"
      ]
     },
     "execution_count": 18,
     "metadata": {},
     "output_type": "execute_result"
    }
   ],
   "source": [
    "outputs = ftk.detokenize(fs)\n",
    "outputs"
   ]
  },
  {
   "cell_type": "code",
   "execution_count": 21,
   "metadata": {},
   "outputs": [
    {
     "name": "stdout",
     "output_type": "stream",
     "text": [
      "torch.Size([3, 5270])\n",
      "tensor([[  4, 174,   0,  ...,   1,   2,   2],\n",
      "        [  6,  10,   0,  ...,   2,   2,   2],\n",
      "        [  4,   7,   0,  ...,   2,   2,   2]])\n",
      "============================================================\n"
     ]
    }
   ],
   "source": [
    "fs, _, _ = ftk.tokenize(f_batch, target=True)\n",
    "print(fs.shape)\n",
    "print(fs)\n",
    "print(\"=\"*60)"
   ]
  },
  {
   "cell_type": "code",
   "execution_count": 20,
   "metadata": {},
   "outputs": [
    {
     "data": {
      "text/plain": [
       "[tensor([  1, 171,   0,  ..., 672, 675, 676]),\n",
       " tensor([  3,   7,   0,  ..., 335, 340, 341]),\n",
       " tensor([  1,   4,   0,  ..., 642, 646, 647])]"
      ]
     },
     "execution_count": 20,
     "metadata": {},
     "output_type": "execute_result"
    }
   ],
   "source": [
    "outputs = ftk.detokenize(fs)\n",
    "outputs"
   ]
  },
  {
   "cell_type": "code",
   "execution_count": null,
   "metadata": {},
   "outputs": [],
   "source": []
  }
 ],
 "metadata": {
  "kernelspec": {
   "display_name": "3dEnv",
   "language": "python",
   "name": "3denv"
  },
  "language_info": {
   "codemirror_mode": {
    "name": "ipython",
    "version": 3
   },
   "file_extension": ".py",
   "mimetype": "text/x-python",
   "name": "python",
   "nbconvert_exporter": "python",
   "pygments_lexer": "ipython3",
   "version": "3.7.9"
  }
 },
 "nbformat": 4,
 "nbformat_minor": 4
}
