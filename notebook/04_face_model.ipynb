{
 "cells": [
  {
   "cell_type": "code",
   "execution_count": 1,
   "metadata": {},
   "outputs": [],
   "source": [
    "import os\n",
    "import sys\n",
    "import json\n",
    "import glob\n",
    "import math\n",
    "import torch\n",
    "import torch.nn as nn\n",
    "import torch.nn.functional as F\n",
    "from reformer_pytorch import Reformer"
   ]
  },
  {
   "cell_type": "code",
   "execution_count": 2,
   "metadata": {},
   "outputs": [
    {
     "name": "stdout",
     "output_type": "stream",
     "text": [
      "7003 1088\n"
     ]
    }
   ],
   "source": [
    "base_dir = os.path.dirname(os.getcwd())\n",
    "data_dir = os.path.join(base_dir, \"data\", \"original\")\n",
    "train_files = glob.glob(os.path.join(data_dir, \"train\", \"*\", \"*.obj\"))\n",
    "valid_files = glob.glob(os.path.join(data_dir, \"val\", \"*\", \"*.obj\"))\n",
    "print(len(train_files), len(valid_files))\n",
    "\n",
    "src_dir = os.path.join(base_dir, \"src\")\n",
    "sys.path.append(os.path.join(src_dir))"
   ]
  },
  {
   "cell_type": "code",
   "execution_count": 3,
   "metadata": {},
   "outputs": [],
   "source": [
    "from utils import load_pipeline\n",
    "from tokenizers import EncodeVertexTokenizer, FaceTokenizer"
   ]
  },
  {
   "cell_type": "code",
   "execution_count": 4,
   "metadata": {},
   "outputs": [
    {
     "name": "stdout",
     "output_type": "stream",
     "text": [
      "torch.Size([655, 3]) 588\n",
      "============================================================\n",
      "torch.Size([310, 3]) 220\n",
      "============================================================\n",
      "torch.Size([396, 3]) 304\n",
      "============================================================\n"
     ]
    }
   ],
   "source": [
    "v_batch, f_batch = [], []\n",
    "for i in range(3):\n",
    "    vs, _, fs = load_pipeline(train_files[i])\n",
    "    \n",
    "    vs = torch.tensor(vs)\n",
    "    fs = [torch.tensor(f) for f in fs]\n",
    "    \n",
    "    v_batch.append(vs)\n",
    "    f_batch.append(fs)\n",
    "    print(vs.shape, len(fs))\n",
    "    print(\"=\"*60)"
   ]
  },
  {
   "cell_type": "code",
   "execution_count": 5,
   "metadata": {},
   "outputs": [],
   "source": [
    "enc_tokenizer = EncodeVertexTokenizer(max_seq_len=2592)\n",
    "dec_tokenizer = FaceTokenizer(max_seq_len=3936)"
   ]
  },
  {
   "cell_type": "code",
   "execution_count": 6,
   "metadata": {},
   "outputs": [
    {
     "data": {
      "text/plain": [
       "{'value_tokens': tensor([[161, 137, 133,  ...,   0,   0,   0],\n",
       "         [135, 162, 130,  ...,   0,   0,   0],\n",
       "         [163,  99, 134,  ...,   0,   0,   0]]),\n",
       " 'coord_type_tokens': tensor([[1, 2, 3,  ..., 0, 0, 0],\n",
       "         [1, 2, 3,  ..., 0, 0, 0],\n",
       "         [1, 2, 3,  ..., 0, 0, 0]]),\n",
       " 'position_tokens': tensor([[1, 1, 1,  ..., 0, 0, 0],\n",
       "         [1, 1, 1,  ..., 0, 0, 0],\n",
       "         [1, 1, 1,  ..., 0, 0, 0]]),\n",
       " 'padding_mask': tensor([[False, False, False,  ...,  True,  True,  True],\n",
       "         [False, False, False,  ...,  True,  True,  True],\n",
       "         [False, False, False,  ...,  True,  True,  True]])}"
      ]
     },
     "execution_count": 6,
     "metadata": {},
     "output_type": "execute_result"
    }
   ],
   "source": [
    "src_tokens = enc_tokenizer.tokenize(v_batch)\n",
    "src_tokens"
   ]
  },
  {
   "cell_type": "code",
   "execution_count": 7,
   "metadata": {},
   "outputs": [
    {
     "name": "stdout",
     "output_type": "stream",
     "text": [
      "value_tokens torch.Size([3, 2592])\n",
      "coord_type_tokens torch.Size([3, 2592])\n",
      "position_tokens torch.Size([3, 2592])\n",
      "padding_mask torch.Size([3, 2592])\n"
     ]
    }
   ],
   "source": [
    "for k, v in src_tokens.items():\n",
    "    print(k, v.shape)"
   ]
  },
  {
   "cell_type": "code",
   "execution_count": 8,
   "metadata": {},
   "outputs": [],
   "source": [
    "class FaceEncoderEmbedding(nn.Module):\n",
    "    \n",
    "    def __init__(self, embed_dim=256,\n",
    "                 vocab_value=259, pad_idx_value=2, \n",
    "                 vocab_coord_type=4, pad_idx_coord_type=0,\n",
    "                 vocab_position=1000, pad_idx_position=0):\n",
    "        \n",
    "        super().__init__()\n",
    "        \n",
    "        self.value_embed = nn.Embedding(\n",
    "            vocab_value, embed_dim, padding_idx=pad_idx_value\n",
    "        )\n",
    "        self.coord_type_embed = nn.Embedding(\n",
    "            vocab_coord_type, embed_dim, padding_idx=pad_idx_coord_type\n",
    "        )\n",
    "        self.position_embed = nn.Embedding(\n",
    "            vocab_position, embed_dim, padding_idx=pad_idx_position\n",
    "        )\n",
    "        \n",
    "        self.embed_scaler = math.sqrt(embed_dim)\n",
    "        \n",
    "    def forward(self, tokens):\n",
    "        \n",
    "        \"\"\"get embedding for Face Encoder.\n",
    "        \n",
    "        Args\n",
    "            tokens [dict]: tokenized vertex info.\n",
    "                `value_tokens` [torch.tensor]:\n",
    "                        padded (batch, length) shape long tensor\n",
    "                        with coord value from 0 to 2^n(bit).\n",
    "                `coord_type_tokens` [torch.tensor]:\n",
    "                        padded (batch, length) shape long tensor implies x or y or z.\n",
    "                `position_tokens` [torch.tensor]:\n",
    "                        padded (batch, length) shape long tensor\n",
    "                        representing coord position (NOT sequence position).\n",
    "        \n",
    "        Returns\n",
    "            embed [torch.tensor]: (batch, length, embed) shape tensor after embedding.\n",
    "                        \n",
    "        \"\"\"\n",
    "        \n",
    "        embed = self.value_embed(tokens[\"value_tokens\"]) * self.embed_scaler\n",
    "        embed = embed + (self.coord_type_embed(tokens[\"coord_type_tokens\"]) * self.embed_scaler)\n",
    "        embed = embed + (self.position_embed(tokens[\"position_tokens\"]) * self.embed_scaler)\n",
    "        \n",
    "        embed = embed[:, :-1]\n",
    "        embed = torch.cat([\n",
    "            e.sum(dim=1).unsqueeze(dim=1) for e in embed.split(3, dim=1)\n",
    "        ], dim=1)\n",
    "        \n",
    "        return embed\n",
    "    \n",
    "    def forward_original(self, tokens):\n",
    "        # original PolyGen embedding did something like this (no position info?).\n",
    "        embed = self.value_embed(tokens[\"value_tokens\"]) * self.embed_scaler\n",
    "        embed = torch.cat([\n",
    "            e.sum(dim=1).unsqueeze(dim=1) for e in embed[:, :-1].split(3, dim=1)\n",
    "        ], dim=1)\n",
    "        return embed"
   ]
  },
  {
   "cell_type": "code",
   "execution_count": 9,
   "metadata": {},
   "outputs": [],
   "source": [
    "src_embed = FaceEncoderEmbedding(embed_dim=128)"
   ]
  },
  {
   "cell_type": "code",
   "execution_count": 10,
   "metadata": {},
   "outputs": [
    {
     "name": "stdout",
     "output_type": "stream",
     "text": [
      "torch.Size([3, 2592]) torch.Size([3, 2592]) torch.Size([3, 2592]) torch.Size([3, 2592])\n"
     ]
    }
   ],
   "source": [
    "print(\n",
    "    src_tokens[\"value_tokens\"].shape,\n",
    "    src_tokens[\"coord_type_tokens\"].shape,\n",
    "    src_tokens[\"position_tokens\"].shape,\n",
    "    src_tokens[\"padding_mask\"].shape\n",
    ")"
   ]
  },
  {
   "cell_type": "code",
   "execution_count": 11,
   "metadata": {},
   "outputs": [
    {
     "data": {
      "text/plain": [
       "torch.Size([3, 864, 128])"
      ]
     },
     "execution_count": 11,
     "metadata": {},
     "output_type": "execute_result"
    }
   ],
   "source": [
    "src_emb = src_embed.forward_original(src_tokens)\n",
    "src_emb.shape"
   ]
  },
  {
   "cell_type": "code",
   "execution_count": 12,
   "metadata": {},
   "outputs": [
    {
     "data": {
      "text/plain": [
       "torch.Size([3, 864, 128])"
      ]
     },
     "execution_count": 12,
     "metadata": {},
     "output_type": "execute_result"
    }
   ],
   "source": [
    "src_emb = src_embed(src_tokens)\n",
    "src_emb.shape"
   ]
  },
  {
   "cell_type": "code",
   "execution_count": 13,
   "metadata": {},
   "outputs": [
    {
     "data": {
      "text/plain": [
       "{'value_tokens': tensor([[  0, 657, 651,  ...,   2,   2,   2],\n",
       "         [  0, 312, 311,  ...,   2,   2,   2],\n",
       "         [  0, 398, 397,  ...,   2,   2,   2]]),\n",
       " 'target_tokens': tensor([[657, 651, 652,  ...,   2,   2,   2],\n",
       "         [312, 311, 310,  ...,   2,   2,   2],\n",
       "         [398, 397, 394,  ...,   2,   2,   2]]),\n",
       " 'in_position_tokens': tensor([[1, 2, 3,  ..., 0, 0, 0],\n",
       "         [1, 2, 3,  ..., 0, 0, 0],\n",
       "         [1, 2, 3,  ..., 0, 0, 0]]),\n",
       " 'out_position_tokens': tensor([[1, 1, 1,  ..., 0, 0, 0],\n",
       "         [1, 1, 1,  ..., 0, 0, 0],\n",
       "         [1, 1, 1,  ..., 0, 0, 0]]),\n",
       " 'ref_v_mask': tensor([[0., 1., 1.,  ..., 0., 0., 0.],\n",
       "         [0., 1., 1.,  ..., 0., 0., 0.],\n",
       "         [0., 1., 1.,  ..., 0., 0., 0.]]),\n",
       " 'ref_v_ids': tensor([[  0, 654, 648,  ...,   0,   0,   0],\n",
       "         [  0, 309, 308,  ...,   0,   0,   0],\n",
       "         [  0, 395, 394,  ...,   0,   0,   0]]),\n",
       " 'ref_e_mask': tensor([[1., 0., 0.,  ..., 1., 1., 1.],\n",
       "         [1., 0., 0.,  ..., 1., 1., 1.],\n",
       "         [1., 0., 0.,  ..., 1., 1., 1.]]),\n",
       " 'ref_e_ids': tensor([[0, 0, 0,  ..., 2, 2, 2],\n",
       "         [0, 0, 0,  ..., 2, 2, 2],\n",
       "         [0, 0, 0,  ..., 2, 2, 2]]),\n",
       " 'padding_mask': tensor([[False, False, False,  ...,  True,  True,  True],\n",
       "         [False, False, False,  ...,  True,  True,  True],\n",
       "         [False, False, False,  ...,  True,  True,  True]])}"
      ]
     },
     "execution_count": 13,
     "metadata": {},
     "output_type": "execute_result"
    }
   ],
   "source": [
    "tgt_tokens = dec_tokenizer.tokenize(f_batch)\n",
    "tgt_tokens"
   ]
  },
  {
   "cell_type": "code",
   "execution_count": 14,
   "metadata": {},
   "outputs": [],
   "source": [
    "class FaceDecoderEmbedding(nn.Module):\n",
    "    \n",
    "    def __init__(self, embed_dim=256,\n",
    "                 vocab_value=3, pad_idx_value=2, \n",
    "                 vocab_in_position=100, pad_idx_in_position=0,\n",
    "                 vocab_out_position=1000, pad_idx_out_position=0):\n",
    "        \n",
    "        super().__init__()\n",
    "        \n",
    "        self.value_embed = nn.Embedding(\n",
    "            vocab_value, embed_dim, padding_idx=pad_idx_value\n",
    "        )\n",
    "        self.in_position_embed = nn.Embedding(\n",
    "            vocab_in_position, embed_dim, padding_idx=pad_idx_in_position\n",
    "        )\n",
    "        self.out_position_embed = nn.Embedding(\n",
    "            vocab_out_position, embed_dim, padding_idx=pad_idx_out_position\n",
    "        )\n",
    "        \n",
    "        self.embed_scaler = math.sqrt(embed_dim)\n",
    "        \n",
    "    def forward(self, encoder_embed, tokens):\n",
    "        \n",
    "        \"\"\"get embedding for Face Decoder.\n",
    "        note that value_embeddings consist of two embedding.\n",
    "          - pointer to encoder outputs\n",
    "          - embedding for special tokens such as <end-of-face>, <eos>, <pad>.\n",
    "        \n",
    "        Args\n",
    "            encoder_embed [torch.tensor]:\n",
    "                    (batch, src-length, embed) shape tensor from encoder.\n",
    "            tokens [dict]: all contents are in the shape of (batch, tgt-length).\n",
    "                `ref_v_ids` [torch.tensor]:\n",
    "                        this is used as pointer to `encoder_embed`.\n",
    "                `ref_v_mask` [torch.tensor]:\n",
    "                        mask for special token positions in pointer embeddings. \n",
    "                `ref_e_ids` [torch.tensor]:\n",
    "                        embed ids for special tokens.\n",
    "                `ref_e_ids` [torch.tensor]:\n",
    "                        mask for pointer token position in special token embeddings.\n",
    "                `in_position_tokens` [torch.tensor]:\n",
    "                        embed ids for positions in face.\n",
    "                `out_position_tokens` [torch.tensor]:\n",
    "                        embed ids for positions of face itself in sequence.\n",
    "                        \n",
    "        Returns\n",
    "            embed [torch.tensor]: (batch, tgt-length, embed) shape tensor of embeddings.\n",
    "                        \n",
    "        \"\"\"\n",
    "        \n",
    "        embed = torch.cat([\n",
    "            encoder_embed[b_idx, ids].unsqueeze(dim=0) \n",
    "            for b_idx, ids in enumerate(tokens[\"ref_v_ids\"].unbind(dim=0))\n",
    "        ], dim=0)\n",
    "        embed = embed * tokens[\"ref_v_mask\"].unsqueeze(dim=2)\n",
    "        \n",
    "        embed = (embed + \\\n",
    "                (self.value_embed(tokens[\"ref_e_ids\"]) * \n",
    "                 self.embed_scaler *\n",
    "                 tokens[\"ref_e_mask\"].unsqueeze(dim=2)))\n",
    "        \n",
    "        embed = embed + (self.in_position_embed(tokens[\"in_position_tokens\"]) * self.embed_scaler)\n",
    "        embed = embed + (self.out_position_embed(tokens[\"out_position_tokens\"]) * self.embed_scaler)\n",
    "        return embed"
   ]
  },
  {
   "cell_type": "code",
   "execution_count": 15,
   "metadata": {},
   "outputs": [],
   "source": [
    "tgt_embed = FaceDecoderEmbedding(embed_dim=128)"
   ]
  },
  {
   "cell_type": "code",
   "execution_count": 16,
   "metadata": {},
   "outputs": [
    {
     "data": {
      "text/plain": [
       "torch.Size([3, 3936, 128])"
      ]
     },
     "execution_count": 16,
     "metadata": {},
     "output_type": "execute_result"
    }
   ],
   "source": [
    "tgt_emb = tgt_embed(src_emb, tgt_tokens)\n",
    "tgt_emb.shape"
   ]
  },
  {
   "cell_type": "code",
   "execution_count": 17,
   "metadata": {},
   "outputs": [
    {
     "data": {
      "text/plain": [
       "torch.Size([3, 3936, 864])"
      ]
     },
     "execution_count": 17,
     "metadata": {},
     "output_type": "execute_result"
    }
   ],
   "source": [
    "torch.bmm(tgt_emb, src_emb.permute(0, 2, 1)).shape"
   ]
  },
  {
   "cell_type": "code",
   "execution_count": 18,
   "metadata": {},
   "outputs": [
    {
     "data": {
      "text/plain": [
       "torch.Size([3, 3, 128])"
      ]
     },
     "execution_count": 18,
     "metadata": {},
     "output_type": "execute_result"
    }
   ],
   "source": [
    "tgt_embed.value_embed.weight[None, ...].repeat(3, 1, 1).shape"
   ]
  },
  {
   "cell_type": "code",
   "execution_count": 19,
   "metadata": {},
   "outputs": [
    {
     "name": "stdout",
     "output_type": "stream",
     "text": [
      "torch.Size([3, 867, 128])\n",
      "tensor([[0., 0., 0., 0., 0., 0., 0., 0., 0., 0., 0., 0., 0., 0., 0., 0., 0., 0., 0., 0., 0., 0., 0., 0.,\n",
      "         0., 0., 0., 0., 0., 0., 0., 0., 0., 0., 0., 0., 0., 0., 0., 0., 0., 0., 0., 0., 0., 0., 0., 0.,\n",
      "         0., 0., 0., 0., 0., 0., 0., 0., 0., 0., 0., 0., 0., 0., 0., 0., 0., 0., 0., 0., 0., 0., 0., 0.,\n",
      "         0., 0., 0., 0., 0., 0., 0., 0., 0., 0., 0., 0., 0., 0., 0., 0., 0., 0., 0., 0., 0., 0., 0., 0.,\n",
      "         0., 0., 0., 0., 0., 0., 0., 0., 0., 0., 0., 0., 0., 0., 0., 0., 0., 0., 0., 0., 0., 0., 0., 0.,\n",
      "         0., 0., 0., 0., 0., 0., 0., 0.],\n",
      "        [0., 0., 0., 0., 0., 0., 0., 0., 0., 0., 0., 0., 0., 0., 0., 0., 0., 0., 0., 0., 0., 0., 0., 0.,\n",
      "         0., 0., 0., 0., 0., 0., 0., 0., 0., 0., 0., 0., 0., 0., 0., 0., 0., 0., 0., 0., 0., 0., 0., 0.,\n",
      "         0., 0., 0., 0., 0., 0., 0., 0., 0., 0., 0., 0., 0., 0., 0., 0., 0., 0., 0., 0., 0., 0., 0., 0.,\n",
      "         0., 0., 0., 0., 0., 0., 0., 0., 0., 0., 0., 0., 0., 0., 0., 0., 0., 0., 0., 0., 0., 0., 0., 0.,\n",
      "         0., 0., 0., 0., 0., 0., 0., 0., 0., 0., 0., 0., 0., 0., 0., 0., 0., 0., 0., 0., 0., 0., 0., 0.,\n",
      "         0., 0., 0., 0., 0., 0., 0., 0.],\n",
      "        [0., 0., 0., 0., 0., 0., 0., 0., 0., 0., 0., 0., 0., 0., 0., 0., 0., 0., 0., 0., 0., 0., 0., 0.,\n",
      "         0., 0., 0., 0., 0., 0., 0., 0., 0., 0., 0., 0., 0., 0., 0., 0., 0., 0., 0., 0., 0., 0., 0., 0.,\n",
      "         0., 0., 0., 0., 0., 0., 0., 0., 0., 0., 0., 0., 0., 0., 0., 0., 0., 0., 0., 0., 0., 0., 0., 0.,\n",
      "         0., 0., 0., 0., 0., 0., 0., 0., 0., 0., 0., 0., 0., 0., 0., 0., 0., 0., 0., 0., 0., 0., 0., 0.,\n",
      "         0., 0., 0., 0., 0., 0., 0., 0., 0., 0., 0., 0., 0., 0., 0., 0., 0., 0., 0., 0., 0., 0., 0., 0.,\n",
      "         0., 0., 0., 0., 0., 0., 0., 0.]], grad_fn=<SelectBackward>)\n"
     ]
    }
   ],
   "source": [
    "BATCH = 3\n",
    "test = torch.cat([\n",
    "    tgt_embed.value_embed.weight[None, ...].repeat(BATCH, 1, 1),\n",
    "    src_emb\n",
    "], dim=1)\n",
    "print(test.shape)\n",
    "print(test[:, 2]) # id 2 is padding."
   ]
  },
  {
   "cell_type": "code",
   "execution_count": 20,
   "metadata": {},
   "outputs": [
    {
     "data": {
      "text/plain": [
       "torch.Size([3, 3936, 867])"
      ]
     },
     "execution_count": 20,
     "metadata": {},
     "output_type": "execute_result"
    }
   ],
   "source": [
    "torch.bmm(tgt_emb, test.permute(0, 2, 1)).shape"
   ]
  },
  {
   "cell_type": "code",
   "execution_count": 21,
   "metadata": {},
   "outputs": [],
   "source": [
    "class Config(object):\n",
    "    \n",
    "    def write_to_json(self, out_path):\n",
    "        with open(out_path, \"w\") as fw:\n",
    "            json.dump(self.config, fw, indent=4)\n",
    "            \n",
    "    def load_from_json(self, file_path):\n",
    "        with open(file_path) as fr:\n",
    "            self.config = json.load(fr)\n",
    "        \n",
    "    def __getitem__(self, key):\n",
    "        return self.config[key]"
   ]
  },
  {
   "cell_type": "code",
   "execution_count": 22,
   "metadata": {},
   "outputs": [],
   "source": [
    "class FacePolyGenConfig(Config):\n",
    "    \n",
    "    def __init__(self,\n",
    "                 embed_dim=256, \n",
    "                 src__max_seq_len=2400, \n",
    "                 src__tokenizer__pad_id=0,\n",
    "                 tgt__max_seq_len=3900,\n",
    "                 tgt__tokenizer__bof_id=0,\n",
    "                 tgt__tokenizer__eos_id=1, \n",
    "                 tgt__tokenizer__pad_id=2,\n",
    "                 src__embedding__vocab_value=256 + 3, \n",
    "                 src__embedding__vocab_coord_type=4, \n",
    "                 src__embedding__vocab_position=1000, \n",
    "                 src__embedding__pad_idx_value=2,\n",
    "                 src__embedding__pad_idx_coord_type=0,\n",
    "                 src__embedding__pad_idx_position=0,\n",
    "                 tgt__embedding__vocab_value=3,\n",
    "                 tgt__embedding__vocab_in_position=100,\n",
    "                 tgt__embedding__vocab_out_position=1000,\n",
    "                 tgt__embedding__pad_idx_value=2,\n",
    "                 tgt__embedding__pad_idx_in_position=0,\n",
    "                 tgt__embedding__pad_idx_out_position=0,\n",
    "                 src__reformer__depth=12,\n",
    "                 src__reformer__heads=8,\n",
    "                 src__reformer__n_hashes=8,\n",
    "                 src__reformer__bucket_size=48,\n",
    "                 src__reformer__causal=True,\n",
    "                 src__reformer__lsh_dropout=0.2, \n",
    "                 src__reformer__ff_dropout=0.2,\n",
    "                 src__reformer__post_attn_dropout=0.2,\n",
    "                 src__reformer__ff_mult=4,\n",
    "                 tgt__reformer__depth=12,\n",
    "                 tgt__reformer__heads=8,\n",
    "                 tgt__reformer__n_hashes=8,\n",
    "                 tgt__reformer__bucket_size=48,\n",
    "                 tgt__reformer__causal=True,\n",
    "                 tgt__reformer__lsh_dropout=0.2, \n",
    "                 tgt__reformer__ff_dropout=0.2,\n",
    "                 tgt__reformer__post_attn_dropout=0.2,\n",
    "                 tgt__reformer__ff_mult=4):\n",
    "        \n",
    "        # auto padding for max_seq_len\n",
    "        src_denominator = (src__reformer__bucket_size * 2 * 3)\n",
    "        if src__max_seq_len % src_denominator != 0:\n",
    "            divisables = src__max_seq_len // src_denominator + 1\n",
    "            src__max_seq_len_new = divisables * src_denominator\n",
    "            print(\"src__max_seq_len changed, because of lsh-attention's bucket_size\")\n",
    "            print(\"before: {} --> after: {} (with bucket_size: {})\".format(\n",
    "                src__max_seq_len, src__max_seq_len_new, src__reformer__bucket_size\n",
    "            ))\n",
    "            src__max_seq_len = src__max_seq_len_new\n",
    "            \n",
    "        tgt_denominator = tgt__reformer__bucket_size * 2\n",
    "        if tgt__max_seq_len % tgt_denominator != 0:\n",
    "            divisables = tgt__max_seq_len // tgt_denominator + 1\n",
    "            tgt__max_seq_len_new = divisables * tgt_denominator\n",
    "            print(\"tgt__max_seq_len changed, because of lsh-attention's bucket_size\")\n",
    "            print(\"before: {} --> after: {} (with bucket_size: {})\".format(\n",
    "                tgt__max_seq_len, tgt__max_seq_len_new, tgt__reformer__bucket_size\n",
    "            ))\n",
    "            tgt__max_seq_len = tgt__max_seq_len_new\n",
    "        \n",
    "        \n",
    "        # tokenizer config\n",
    "        src_tokenizer_config = {\n",
    "            \"pad_id\": src__tokenizer__pad_id,\n",
    "            \"max_seq_len\": src__max_seq_len,\n",
    "        }\n",
    "        tgt_tokenizer_config = {\n",
    "            \"bof_id\": tgt__tokenizer__bof_id,\n",
    "            \"eos_id\": tgt__tokenizer__eos_id,\n",
    "            \"pad_id\": tgt__tokenizer__pad_id,\n",
    "            \"max_seq_len\": tgt__max_seq_len,\n",
    "        }\n",
    "        \n",
    "        # embedding config\n",
    "        src_embedding_config = {\n",
    "            \"vocab_value\": src__embedding__vocab_value,\n",
    "            \"vocab_coord_type\": src__embedding__vocab_coord_type,\n",
    "            \"vocab_position\": src__embedding__vocab_position,\n",
    "            \"pad_idx_value\": src__embedding__pad_idx_value,\n",
    "            \"pad_idx_coord_type\": src__embedding__pad_idx_coord_type,\n",
    "            \"pad_idx_position\": src__embedding__pad_idx_position,\n",
    "            \"embed_dim\": embed_dim,\n",
    "        }\n",
    "        tgt_embedding_config = {\n",
    "            \"vocab_value\": tgt__embedding__vocab_value,\n",
    "            \"vocab_in_position\": tgt__embedding__vocab_in_position,\n",
    "            \"vocab_out_position\": tgt__embedding__vocab_out_position,\n",
    "            \"pad_idx_value\": tgt__embedding__pad_idx_value,\n",
    "            \"pad_idx_in_position\": tgt__embedding__pad_idx_in_position,\n",
    "            \"pad_idx_out_position\": tgt__embedding__pad_idx_out_position,\n",
    "            \"embed_dim\": embed_dim,\n",
    "        }\n",
    "        \n",
    "        # reformer info\n",
    "        src_reformer_config = {\n",
    "            \"dim\": embed_dim,\n",
    "            \"max_seq_len\": src__max_seq_len,\n",
    "            \"depth\": src__reformer__depth,\n",
    "            \"heads\": src__reformer__heads,\n",
    "            \"bucket_size\": src__reformer__bucket_size,\n",
    "            \"n_hashes\": src__reformer__n_hashes,\n",
    "            \"causal\": src__reformer__causal,\n",
    "            \"lsh_dropout\": src__reformer__lsh_dropout, \n",
    "            \"ff_dropout\": src__reformer__ff_dropout,\n",
    "            \"post_attn_dropout\": src__reformer__post_attn_dropout,\n",
    "            \"ff_mult\": src__reformer__ff_mult,\n",
    "        }\n",
    "        \n",
    "        tgt_reformer_config = {\n",
    "            \"dim\": embed_dim,\n",
    "            \"max_seq_len\": tgt__max_seq_len,\n",
    "            \"depth\": tgt__reformer__depth,\n",
    "            \"heads\": tgt__reformer__heads,\n",
    "            \"bucket_size\": tgt__reformer__bucket_size,\n",
    "            \"n_hashes\": tgt__reformer__n_hashes,\n",
    "            \"causal\": tgt__reformer__causal,\n",
    "            \"lsh_dropout\": tgt__reformer__lsh_dropout, \n",
    "            \"ff_dropout\": tgt__reformer__ff_dropout,\n",
    "            \"post_attn_dropout\": tgt__reformer__post_attn_dropout,\n",
    "            \"ff_mult\": tgt__reformer__ff_mult,\n",
    "        }\n",
    "        \n",
    "        self.config = {\n",
    "            \"embed_dim\": embed_dim,\n",
    "            \"src_tokenizer\": src_tokenizer_config,\n",
    "            \"tgt_tokenizer\": tgt_tokenizer_config,\n",
    "            \"src_embedding\": src_embedding_config,\n",
    "            \"tgt_embedding\": tgt_embedding_config,\n",
    "            \"src_reformer\": src_reformer_config,\n",
    "            \"tgt_reformer\": tgt_reformer_config,\n",
    "        }"
   ]
  },
  {
   "cell_type": "code",
   "execution_count": 23,
   "metadata": {},
   "outputs": [],
   "source": [
    "# utility functions\n",
    "\n",
    "def accuracy(y_pred, y_true, ignore_label=None, device=None):\n",
    "    y_pred = y_pred.argmax(dim=1)\n",
    "\n",
    "    if ignore_label:\n",
    "        normalizer = torch.sum(y_true!=ignore_label)\n",
    "        ignore_mask = torch.where(\n",
    "            y_true == ignore_label,\n",
    "            torch.zeros_like(y_true, device=device),\n",
    "            torch.ones_like(y_true, device=device)\n",
    "        ).type(torch.float32)\n",
    "    else:\n",
    "        normalizer = y_true.shape[0]\n",
    "        ignore_mask = torch.ones_like(y_true, device=device).type(torch.float32)\n",
    "\n",
    "    acc = (y_pred.reshape(-1)==y_true.reshape(-1)).type(torch.float32)\n",
    "    acc = torch.sum(acc*ignore_mask)\n",
    "    return acc / normalizer\n",
    "\n",
    "\n",
    "def init_weights(m):\n",
    "    if type(m) == nn.Linear:\n",
    "        nn.init.xavier_normal_(m.weight)\n",
    "    if type(m) == nn.Embedding:\n",
    "        nn.init.uniform_(m.weight, -0.05, 0.05)"
   ]
  },
  {
   "cell_type": "code",
   "execution_count": 24,
   "metadata": {},
   "outputs": [],
   "source": [
    "class FacePolyGen(nn.Module):\n",
    "    \n",
    "    def __init__(self, model_config):\n",
    "        super().__init__()\n",
    "        self.src_tokenizer = EncodeVertexTokenizer(**model_config[\"src_tokenizer\"])\n",
    "        self.tgt_tokenizer = FaceTokenizer(**model_config[\"tgt_tokenizer\"])\n",
    "        \n",
    "        self.src_embedding = FaceEncoderEmbedding(**model_config[\"src_embedding\"])\n",
    "        self.tgt_embedding = FaceDecoderEmbedding(**model_config[\"tgt_embedding\"])\n",
    "        \n",
    "        self.src_reformer = Reformer(**model_config[\"src_reformer\"])\n",
    "        self.tgt_reformer = Reformer(**model_config[\"tgt_reformer\"])\n",
    "        \n",
    "        self.src_norm = nn.LayerNorm(model_config[\"embed_dim\"])\n",
    "        self.tgt_norm = nn.LayerNorm(model_config[\"embed_dim\"])\n",
    "        self.loss_func = nn.CrossEntropyLoss(ignore_index=model_config[\"tgt_tokenizer\"][\"pad_id\"])\n",
    "        \n",
    "        self.apply(init_weights)\n",
    "        self.embed_scaler = math.sqrt(model_config[\"embed_dim\"])\n",
    "    \n",
    "    def forward(self, src_tokens, device=None):\n",
    "        \n",
    "        \"\"\"forward function which can be used for both train/predict.\n",
    "        this function only encodes vertex information\n",
    "        because decoders behave as really auto-regressive function.\n",
    "        \n",
    "        Args\n",
    "            src_tokens [dict]: tokenized vertex info.\n",
    "                `value_tokens` [torch.tensor]:\n",
    "                        padded (batch, src-length) shape long tensor\n",
    "                        with coord value from 0 to 2^n(bit).\n",
    "                `coord_type_tokens` [torch.tensor]:\n",
    "                        padded (batch, src-length) shape long tensor implies x or y or z.\n",
    "                `position_tokens` [torch.tensor]:\n",
    "                        padded (batch, src-length) shape long tensor\n",
    "                        representing coord position (NOT sequence position).\n",
    "                `padding_mask` [torch.tensor]:\n",
    "                        (batch, src-length) shape mask implies <pad> tokens.\n",
    "        \n",
    "        Returns\n",
    "            hs [torch.tensor]: (batch, src-length, embed) shape tensor after encoder.\n",
    "        \n",
    "        \"\"\"\n",
    "        \n",
    "        hs = self.src_embedding(src_tokens)\n",
    "        hs = self.src_reformer(\n",
    "            hs, input_mask=src_tokens[\"padding_mask\"]\n",
    "        )\n",
    "        hs = self.src_norm(hs)\n",
    "        \n",
    "        return hs\n",
    "        \n",
    "    def __call__(self, inputs, device=None):\n",
    "        \n",
    "        \"\"\"Calculate loss while training.\n",
    "        \n",
    "        Args\n",
    "            inputs [dict]: dict containing batched inputs.\n",
    "                `vertices` [list(torch.tensor)]:\n",
    "                        variable-length-list of \n",
    "                        (length, 3) shaped tensor of quantized-vertices.\n",
    "                `faces` [list(list(torch.tensor))]:\n",
    "                        batch-length-list of\n",
    "                        variable-length-list (per face) of \n",
    "                        (length,) shaped vertex-ids which constructs a face.\n",
    "            device [torch.device]: gpu or not gpu, that's the problem.\n",
    "                \n",
    "        Returns\n",
    "            outputs [dict]: dict containing calculated variables.\n",
    "                `loss` [torch.tensor]:\n",
    "                        calculated scalar-shape loss with backprop info.\n",
    "                `accuracy` [torch.tensor]:\n",
    "                        calculated scalar-shape accuracy.\n",
    "            \n",
    "        \"\"\"\n",
    "        \n",
    "        src_tokens = self.src_tokenizer.tokenize(inputs[\"vertices\"])\n",
    "        src_tokens = {k: v.to(device) for k, v in src_tokens.items()}\n",
    "        \n",
    "        tgt_tokens = self.tgt_tokenizer.tokenize(inputs[\"faces\"])\n",
    "        tgt_tokens = {k: v.to(device) for k, v in tgt_tokens.items()}\n",
    "        \n",
    "        encoder_embed = self.forward(src_tokens, device=device)\n",
    "        hs = self.tgt_embedding(encoder_embed, tgt_tokens)\n",
    "        hs = self.tgt_reformer(\n",
    "            hs, input_mask=tgt_tokens[\"padding_mask\"]\n",
    "        )\n",
    "        hs = self.tgt_norm(hs)\n",
    "        \n",
    "        # calc pointing to vertex\n",
    "        BATCH = hs.shape[0]\n",
    "        sptk_embed = self.tgt_embedding.value_embed.weight * self.embed_scaler\n",
    "        encoder_embed = torch.cat([\n",
    "            sptk_embed[None, ...].repeat(BATCH, 1, 1),\n",
    "            encoder_embed\n",
    "        ], dim=1)\n",
    "        hs = torch.bmm(hs, encoder_embed.permute(0, 2, 1))\n",
    "        \n",
    "        BATCH, TGT_LENGTH, SRC_LENGTH = hs.shape\n",
    "        hs = hs.reshape(BATCH*TGT_LENGTH, SRC_LENGTH)\n",
    "        targets = tgt_tokens[\"target_tokens\"].reshape(BATCH*TGT_LENGTH,)\n",
    "        \n",
    "        acc = accuracy(\n",
    "            hs, targets, ignore_label=self.tgt_tokenizer.pad_id, device=device\n",
    "        )\n",
    "        loss = self.loss_func(hs, targets)\n",
    "        \n",
    "        outputs = {\n",
    "            \"accuracy\": acc,\n",
    "            \"perplexity\": torch.exp(loss),\n",
    "            \"loss\": loss,\n",
    "        }\n",
    "        return outputs\n",
    "    \n",
    "    @torch.no_grad()\n",
    "    def predict(self, inputs, max_seq_len=3936, device=None):\n",
    "        tgt_tokenizer = self.tgt_tokenizer\n",
    "        special_tokens = tgt_tokenizer.special_tokens\n",
    "        \n",
    "        # calc vertex encoding first.\n",
    "        src_tokens = self.src_tokenizer.tokenize(inputs[\"vertices\"])\n",
    "        src_tokens = {k: v.to(device) for k, v in src_tokens.items()}\n",
    "        \n",
    "        encoder_embed = self.forward(src_tokens, device=device)\n",
    "        BATCH = encoder_embed.shape[0]\n",
    "        sptk_embed = self.tgt_embedding.value_embed.weight * self.embed_scaler\n",
    "        encoder_embed = torch.cat([\n",
    "            sptk_embed[None, ...].repeat(BATCH, 1, 1),\n",
    "            encoder_embed\n",
    "        ], dim=1)\n",
    "        \n",
    "        # prepare for generation.\n",
    "        tgt_tokens = model.tgt_tokenizer.tokenize([[torch.tensor([], dtype=torch.int32)]])\n",
    "        tgt_tokens[\"value_tokens\"][:, 1] = model.tgt_tokenizer.special_tokens[\"pad\"]\n",
    "        tgt_tokens[\"ref_e_ids\"][:, 1] = model.tgt_tokenizer.special_tokens[\"pad\"]\n",
    "        tgt_tokens[\"padding_mask\"][:, 1] = True\n",
    "        \n",
    "        tgt_tokens = {k: v.to(device) for k, v in tgt_tokens.items()}\n",
    "        preds = []\n",
    "        pred_idx = 0\n",
    "        \n",
    "        while (pred_idx <= max_seq_len-1)\\\n",
    "        and ((len(preds) == 0) or (preds[-1] != special_tokens[\"eos\"]-len(special_tokens))):\n",
    "            \n",
    "            if pred_idx >= 1:\n",
    "                tgt_tokens = tgt_tokenizer.tokenize_prediction([torch.stack(preds)])\n",
    "            \n",
    "            hs = self.tgt_embedding(encoder_embed, tgt_tokens)\n",
    "            hs = self.tgt_reformer(\n",
    "                hs, input_mask=tgt_tokens[\"padding_mask\"]\n",
    "            )\n",
    "            hs = self.tgt_norm(hs)\n",
    "            hs = torch.bmm(hs[:, -1:], encoder_embed.permute(0, 2, 1))\n",
    "            \n",
    "            pred = hs[:, 0].argmax(dim=1) - len(special_tokens)\n",
    "            preds.append(pred[0])\n",
    "            pred_idx += 1\n",
    "            \n",
    "        preds = torch.stack(preds) + len(special_tokens)\n",
    "        preds = self.tgt_tokenizer.detokenize([preds])[0]    \n",
    "        \n",
    "        return preds"
   ]
  },
  {
   "cell_type": "code",
   "execution_count": 25,
   "metadata": {},
   "outputs": [
    {
     "name": "stdout",
     "output_type": "stream",
     "text": [
      "vertices\n",
      "torch.Size([655, 3])\n",
      "torch.Size([310, 3])\n",
      "faces\n",
      "588\n",
      "220\n"
     ]
    }
   ],
   "source": [
    "inputs = {\n",
    "    \"vertices\": v_batch[:2],\n",
    "    \"faces\": f_batch[:2],\n",
    "}\n",
    "for k, values in inputs.items():\n",
    "    print(k)\n",
    "    for v in values:\n",
    "        if k == \"vertices\":\n",
    "            print(v.shape)\n",
    "        else:\n",
    "            print(len(v))"
   ]
  },
  {
   "cell_type": "code",
   "execution_count": 26,
   "metadata": {},
   "outputs": [
    {
     "name": "stdout",
     "output_type": "stream",
     "text": [
      "src__max_seq_len changed, because of lsh-attention's bucket_size\n",
      "before: 2400 --> after: 2592 (with bucket_size: 48)\n",
      "tgt__max_seq_len changed, because of lsh-attention's bucket_size\n",
      "before: 3900 --> after: 3936 (with bucket_size: 48)\n"
     ]
    }
   ],
   "source": [
    "config = FacePolyGenConfig(\n",
    "    embed_dim=64, \n",
    "    src__reformer__depth=4, src__reformer__lsh_dropout=0.,\n",
    "    src__reformer__ff_dropout=0., src__reformer__post_attn_dropout=0.,\n",
    "    tgt__reformer__depth=4, tgt__reformer__lsh_dropout=0.,\n",
    "    tgt__reformer__ff_dropout=0., tgt__reformer__post_attn_dropout=0.\n",
    ")\n",
    "model = FacePolyGen(config)"
   ]
  },
  {
   "cell_type": "code",
   "execution_count": 27,
   "metadata": {},
   "outputs": [],
   "source": [
    "optimizer = torch.optim.Adam(model.parameters(), lr=3e-4)"
   ]
  },
  {
   "cell_type": "code",
   "execution_count": null,
   "metadata": {},
   "outputs": [
    {
     "name": "stdout",
     "output_type": "stream",
     "text": [
      "iteration: 0\tloss: 30.34325\tperp: 15062815211520.000\tacc: 0.01743\n"
     ]
    }
   ],
   "source": [
    "import numpy as np\n",
    "epoch_num = 500\n",
    "model.train()\n",
    "losses = []\n",
    "accs = []\n",
    "perps = []\n",
    "\n",
    "for i in range(epoch_num):\n",
    "    optimizer.zero_grad()\n",
    "    outputs = model(inputs)\n",
    "    \n",
    "    loss = outputs[\"loss\"]\n",
    "    acc = outputs[\"accuracy\"]\n",
    "    perp = outputs[\"perplexity\"]\n",
    "    losses.append(loss.item())\n",
    "    accs.append(acc.item())\n",
    "    perps.append(perp.item())\n",
    "    \n",
    "    if i % 10 == 0:\n",
    "        ave_loss = np.mean(losses[-10:])\n",
    "        ave_acc = np.mean(accs[-10:])\n",
    "        ave_perp = np.mean(perps[-10:])\n",
    "        print(\"iteration: {}\\tloss: {:.5f}\\tperp: {:.3f}\\tacc: {:.5f}\".format(\n",
    "            i, ave_loss, ave_perp, ave_acc))\n",
    "    \n",
    "    loss.backward()\n",
    "    optimizer.step()"
   ]
  },
  {
   "cell_type": "code",
   "execution_count": null,
   "metadata": {},
   "outputs": [],
   "source": [
    "idx_in_batch = 0\n",
    "pred = model.predict({\"vertices\": [inputs[\"vertices\"][idx_in_batch]]})\n",
    "pred"
   ]
  },
  {
   "cell_type": "code",
   "execution_count": null,
   "metadata": {},
   "outputs": [],
   "source": []
  }
 ],
 "metadata": {
  "kernelspec": {
   "display_name": "3dEnv",
   "language": "python",
   "name": "3denv"
  },
  "language_info": {
   "codemirror_mode": {
    "name": "ipython",
    "version": 3
   },
   "file_extension": ".py",
   "mimetype": "text/x-python",
   "name": "python",
   "nbconvert_exporter": "python",
   "pygments_lexer": "ipython3",
   "version": "3.7.9"
  }
 },
 "nbformat": 4,
 "nbformat_minor": 4
}
