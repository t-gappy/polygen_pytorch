{
 "cells": [
  {
   "cell_type": "code",
   "execution_count": 1,
   "metadata": {},
   "outputs": [],
   "source": [
    "import os\n",
    "import sys\n",
    "import json\n",
    "import glob\n",
    "import torch\n",
    "import torch.nn as nn\n",
    "import torch.nn.functional as F"
   ]
  },
  {
   "cell_type": "code",
   "execution_count": 2,
   "metadata": {},
   "outputs": [
    {
     "name": "stdout",
     "output_type": "stream",
     "text": [
      "7003 1088\n"
     ]
    }
   ],
   "source": [
    "base_dir = os.path.dirname(os.getcwd())\n",
    "data_dir = os.path.join(base_dir, \"data\", \"original\")\n",
    "train_files = glob.glob(os.path.join(data_dir, \"train\", \"*\", \"*.obj\"))\n",
    "valid_files = glob.glob(os.path.join(data_dir, \"val\", \"*\", \"*.obj\"))\n",
    "print(len(train_files), len(valid_files))\n",
    "\n",
    "src_dir = os.path.join(base_dir, \"src\")\n",
    "sys.path.append(os.path.join(src_dir))"
   ]
  },
  {
   "cell_type": "code",
   "execution_count": 3,
   "metadata": {},
   "outputs": [],
   "source": [
    "from utils import load_pipeline\n",
    "from tokenizers import EncodeVertexTokenizer, FaceTokenizer"
   ]
  },
  {
   "cell_type": "code",
   "execution_count": 4,
   "metadata": {},
   "outputs": [
    {
     "name": "stdout",
     "output_type": "stream",
     "text": [
      "torch.Size([655, 3]) 588\n",
      "============================================================\n",
      "torch.Size([310, 3]) 220\n",
      "============================================================\n",
      "torch.Size([396, 3]) 304\n",
      "============================================================\n"
     ]
    }
   ],
   "source": [
    "v_batch, f_batch = [], []\n",
    "for i in range(3):\n",
    "    vs, _, fs = load_pipeline(train_files[i])\n",
    "    \n",
    "    vs = torch.tensor(vs)\n",
    "    fs = [torch.tensor(f) for f in fs]\n",
    "    \n",
    "    v_batch.append(vs)\n",
    "    f_batch.append(fs)\n",
    "    print(vs.shape, len(fs))\n",
    "    print(\"=\"*60)"
   ]
  },
  {
   "cell_type": "code",
   "execution_count": 5,
   "metadata": {},
   "outputs": [],
   "source": [
    "enc_tokenizer = EncodeVertexTokenizer()\n",
    "dec_tokenizer = FaceTokenizer()"
   ]
  },
  {
   "cell_type": "code",
   "execution_count": 6,
   "metadata": {},
   "outputs": [
    {
     "data": {
      "text/plain": [
       "{'value_tokens': tensor([[161, 137, 133,  ..., 137, 123,   0],\n",
       "         [135, 162, 130,  ...,   0,   0,   0],\n",
       "         [163,  99, 134,  ...,   0,   0,   0]]),\n",
       " 'coord_type_tokens': tensor([[1, 2, 3,  ..., 2, 3, 0],\n",
       "         [1, 2, 3,  ..., 0, 0, 0],\n",
       "         [1, 2, 3,  ..., 0, 0, 0]]),\n",
       " 'position_tokens': tensor([[  1,   1,   1,  ..., 655, 655,   0],\n",
       "         [  1,   1,   1,  ...,   0,   0,   0],\n",
       "         [  1,   1,   1,  ...,   0,   0,   0]]),\n",
       " 'padding_mask': tensor([[ True,  True,  True,  ...,  True,  True, False],\n",
       "         [ True,  True,  True,  ..., False, False, False],\n",
       "         [ True,  True,  True,  ..., False, False, False]])}"
      ]
     },
     "execution_count": 6,
     "metadata": {},
     "output_type": "execute_result"
    }
   ],
   "source": [
    "src_tokens = enc_tokenizer.tokenize(v_batch)\n",
    "src_tokens"
   ]
  },
  {
   "cell_type": "code",
   "execution_count": 7,
   "metadata": {},
   "outputs": [],
   "source": [
    "class FaceEncoderEmbedding(nn.Module):\n",
    "    \n",
    "    def __init__(self, embed_dim=256,\n",
    "                 vocab_value=259, pad_idx_value=2, \n",
    "                 vocab_coord_type=4, pad_idx_coord_type=0,\n",
    "                 vocab_position=1000, pad_idx_position=0):\n",
    "        \n",
    "        super().__init__()\n",
    "        \n",
    "        self.value_embed = nn.Embedding(\n",
    "            vocab_value, embed_dim, padding_idx=pad_idx_value\n",
    "        )\n",
    "        self.coord_type_embed = nn.Embedding(\n",
    "            vocab_coord_type, embed_dim, padding_idx=pad_idx_coord_type\n",
    "        )\n",
    "        self.position_embed = nn.Embedding(\n",
    "            vocab_position, embed_dim, padding_idx=pad_idx_position\n",
    "        )\n",
    "        \n",
    "    def forward(self, value_tokens, coord_type_tokens, position_tokens):\n",
    "        embed = self.value_embed(value_tokens)\n",
    "        embed = embed + self.coord_type_embed(coord_type_tokens)\n",
    "        embed = embed + self.position_embed(position_tokens)\n",
    "        embed = embed[:, :-1]\n",
    "        embed = torch.cat([\n",
    "            e.sum(dim=1).unsqueeze(dim=1) for e in embed.split(3, dim=1)\n",
    "        ], dim=1)\n",
    "        return embed"
   ]
  },
  {
   "cell_type": "code",
   "execution_count": 8,
   "metadata": {},
   "outputs": [],
   "source": [
    "src_embed = FaceEncoderEmbedding(embed_dim=128)"
   ]
  },
  {
   "cell_type": "code",
   "execution_count": 9,
   "metadata": {},
   "outputs": [
    {
     "name": "stdout",
     "output_type": "stream",
     "text": [
      "torch.Size([3, 1966]) torch.Size([3, 1966]) torch.Size([3, 1966]) torch.Size([3, 1966])\n"
     ]
    }
   ],
   "source": [
    "print(\n",
    "    src_tokens[\"value_tokens\"].shape,\n",
    "    src_tokens[\"coord_type_tokens\"].shape,\n",
    "    src_tokens[\"position_tokens\"].shape,\n",
    "    src_tokens[\"padding_mask\"].shape\n",
    ")"
   ]
  },
  {
   "cell_type": "code",
   "execution_count": 10,
   "metadata": {},
   "outputs": [
    {
     "data": {
      "text/plain": [
       "torch.Size([3, 655, 128])"
      ]
     },
     "execution_count": 10,
     "metadata": {},
     "output_type": "execute_result"
    }
   ],
   "source": [
    "src_emb = src_embed(\n",
    "    src_tokens[\"value_tokens\"], \n",
    "    src_tokens[\"coord_type_tokens\"], \n",
    "    src_tokens[\"position_tokens\"]\n",
    ")\n",
    "src_emb.shape"
   ]
  },
  {
   "cell_type": "code",
   "execution_count": 11,
   "metadata": {},
   "outputs": [
    {
     "data": {
      "text/plain": [
       "{'value_tokens': tensor([[657, 651, 652,  ...,   0,   1,   2],\n",
       "         [312, 311, 310,  ...,   2,   2,   2],\n",
       "         [398, 397, 394,  ...,   2,   2,   2]]),\n",
       " 'target_tokens': tensor([[651, 652, 648,  ...,   1,   2,   2],\n",
       "         [311, 310, 296,  ...,   2,   2,   2],\n",
       "         [397, 394, 395,  ...,   2,   2,   2]]),\n",
       " 'in_position_tokens': tensor([[1, 2, 3,  ..., 5, 0, 0],\n",
       "         [1, 2, 3,  ..., 0, 0, 0],\n",
       "         [1, 2, 3,  ..., 0, 0, 0]]),\n",
       " 'out_position_tokens': tensor([[  1.,   1.,   1.,  ..., 588.,   0.,   0.],\n",
       "         [  1.,   1.,   1.,  ...,   0.,   0.,   0.],\n",
       "         [  1.,   1.,   1.,  ...,   0.,   0.,   0.]]),\n",
       " 'ref_v_mask': tensor([[1., 1., 1.,  ..., 0., 0., 0.],\n",
       "         [1., 1., 1.,  ..., 0., 0., 0.],\n",
       "         [1., 1., 1.,  ..., 0., 0., 0.]]),\n",
       " 'ref_v_ids': tensor([[654, 648, 649,  ...,   0,   0,   0],\n",
       "         [309, 308, 307,  ...,   0,   0,   0],\n",
       "         [395, 394, 391,  ...,   0,   0,   0]]),\n",
       " 'ref_e_mask': tensor([[0., 0., 0.,  ..., 1., 1., 1.],\n",
       "         [0., 0., 0.,  ..., 1., 1., 1.],\n",
       "         [0., 0., 0.,  ..., 1., 1., 1.]]),\n",
       " 'ref_e_ids': tensor([[0, 0, 0,  ..., 0, 1, 2],\n",
       "         [0, 0, 0,  ..., 2, 2, 2],\n",
       "         [0, 0, 0,  ..., 2, 2, 2]]),\n",
       " 'padding_mask': tensor([[ True,  True,  True,  ...,  True,  True, False],\n",
       "         [ True,  True,  True,  ..., False, False, False],\n",
       "         [ True,  True,  True,  ..., False, False, False]])}"
      ]
     },
     "execution_count": 11,
     "metadata": {},
     "output_type": "execute_result"
    }
   ],
   "source": [
    "tgt_tokens = dec_tokenizer.tokenize(f_batch)\n",
    "tgt_tokens"
   ]
  },
  {
   "cell_type": "code",
   "execution_count": 12,
   "metadata": {},
   "outputs": [],
   "source": [
    "class FaceDecoderEmbedding(nn.Module):\n",
    "    \n",
    "    def __init__(self, embed_dim=256,\n",
    "                 vocab_value=3, pad_idx_value=2, \n",
    "                 vocab_in_position=100, pad_idx_in_position=0,\n",
    "                 vocab_out_position=1000, pad_idx_out_position=0):\n",
    "        \n",
    "        super().__init__()\n",
    "        \n",
    "        self.value_embed = nn.Embedding(\n",
    "            vocab_value, embed_dim, padding_idx=pad_idx_value\n",
    "        )\n",
    "        self.in_position_embed = nn.Embedding(\n",
    "            vocab_in_position, embed_dim, padding_idx=pad_idx_in_position\n",
    "        )\n",
    "        self.out_position_embed = nn.Embedding(\n",
    "            vocab_out_position, embed_dim, padding_idx=pad_idx_out_position\n",
    "        )\n",
    "        \n",
    "    def forward(self, encoder_embed, tokens):\n",
    "        embed = torch.cat([\n",
    "            encoder_embed[b_idx, ids].unsqueeze(dim=0) \n",
    "            for b_idx, ids in enumerate(tokens[\"ref_v_ids\"])\n",
    "        ], dim=0)\n",
    "        embed = embed * tokens[\"ref_v_mask\"].unsqueeze(dim=2)\n",
    "        \n",
    "        embed = (embed + \\\n",
    "                (self.value_embed(tokens[\"ref_e_ids\"]) * \n",
    "                 tokens[\"ref_e_mask\"].unsqueeze(dim=2)))\n",
    "        \n",
    "        embed = embed + self.in_position_embed(tokens[\"in_position_tokens\"])\n",
    "        embed = embed + self.out_position_embed(tokens[\"in_position_tokens\"])\n",
    "        return embed"
   ]
  },
  {
   "cell_type": "code",
   "execution_count": 13,
   "metadata": {},
   "outputs": [],
   "source": [
    "tgt_embed = FaceDecoderEmbedding(embed_dim=128)"
   ]
  },
  {
   "cell_type": "code",
   "execution_count": 15,
   "metadata": {},
   "outputs": [
    {
     "data": {
      "text/plain": [
       "torch.Size([3, 3083, 128])"
      ]
     },
     "execution_count": 15,
     "metadata": {},
     "output_type": "execute_result"
    }
   ],
   "source": [
    "tgt_emb = tgt_embed(src_emb, tgt_tokens)\n",
    "tgt_emb.shape"
   ]
  },
  {
   "cell_type": "code",
   "execution_count": 16,
   "metadata": {},
   "outputs": [],
   "source": [
    "class Config(object):\n",
    "    \n",
    "    def write_to_json(self, out_path):\n",
    "        with open(out_path, \"w\") as fw:\n",
    "            json.dump(self.config, fw, indent=4)\n",
    "            \n",
    "    def load_from_json(self, file_path):\n",
    "        with open(file_path) as fr:\n",
    "            self.config = json.load(fr)\n",
    "        \n",
    "    def __getitem__(self, key):\n",
    "        return self.config[key]"
   ]
  },
  {
   "cell_type": "code",
   "execution_count": null,
   "metadata": {},
   "outputs": [],
   "source": [
    "class FacePolyGenConfig(Config):\n",
    "    \n",
    "    def __init__(self,\n",
    "                 embed_dim=256, \n",
    "                 src__max_seq_len=2400, \n",
    "                 src__tokenizer__bos_id=0,\n",
    "                 src__tokenizer__eos_id=1,\n",
    "                 src__tokenizer__pad_id=2,\n",
    "                 tgt__max_seq_len=2400,\n",
    "                 tgt__tokenizer__eof_id=0,\n",
    "                 tgt__tokenizer__eos_id=1, \n",
    "                 tgt__tokenizer__pad_id=2,\n",
    "                 src__embedding__vocab_value=256 + 3, \n",
    "                 src__embedding__vocab_coord_type=4, \n",
    "                 src__embedding__vocab_position=1000, \n",
    "                 src__embedding__pad_idx_value=2,\n",
    "                 src__embedding__pad_idx_coord_type=0,\n",
    "                 src__embedding__pad_idx_position=0,\n",
    "                 tgt__embedding__vocab_value=3,\n",
    "                 tgt__embedding__vocab_in_position=100,\n",
    "                 tgt__embedding__vocab_out_position=1000,\n",
    "                 tgt__embedding__pad_idx_value=2,\n",
    "                 tgt__embedding__pad_idx_in_position=0,\n",
    "                 tgt__embedding__pad_idx_out_position=0,\n",
    "                 reformer__depth=12,\n",
    "                 reformer__heads=8,\n",
    "                 reformer__n_hashes=8,\n",
    "                 reformer__bucket_size=48,\n",
    "                 reformer__causal=True,\n",
    "                 reformer__lsh_dropout=0.2, \n",
    "                 reformer__ff_dropout=0.2,\n",
    "                 reformer__post_attn_dropout=0.2,\n",
    "                 reformer__ff_mult=4):\n",
    "        # tokenizer config\n",
    "        src_tokenizer_config = {\n",
    "            \"bos_id\": src__tokenizer__bos_id,\n",
    "            \"eos_id\": src__tokenizer__eos_id,\n",
    "            \"pad_id\": src__tokenizer__pad_id,\n",
    "            \"max_seq_len\": src__max_seq_len,\n",
    "        }\n",
    "        tgt_tokenizer_config = {\n",
    "            \"bos_id\": tgt__tokenizer__bos_id,\n",
    "            \"eos_id\": tgt__tokenizer__eos_id,\n",
    "            \"pad_id\": tgt__tokenizer__pad_id,\n",
    "            \"max_seq_len\": tgt__max_seq_len,\n",
    "        }\n",
    "        \n",
    "        # embedding config\n",
    "        src_embedding_config = {\n",
    "            \"vocab_value\": src__embedding__vocab_value,\n",
    "            \"vocab_coord_type\": src__embedding__vocab_coord_type,\n",
    "            \"vocab_position\": src__embedding__vocab_position,\n",
    "            \"pad_idx_value\": src__embedding__pad_idx_value,\n",
    "            \"pad_idx_coord_type\": src__embedding__pad_idx_coord_type,\n",
    "            \"pad_idx_position\": src__embedding_pad_idx_position,\n",
    "            \"embed_dim\": embed_dim,\n",
    "        }\n",
    "        tgt_embedding_config = {\n",
    "            \"vocab_value\": tgt__embedding__vocab_value,\n",
    "            \"vocab_coord_type\": tgt__embedding__vocab_coord_type,\n",
    "            \"vocab_position\": tgt__embedding__vocab_position,\n",
    "            \"pad_idx_value\": tgt__embedding__pad_idx_value,\n",
    "            \"pad_idx_coord_type\": tgt__embedding__pad_idx_coord_type,\n",
    "            \"pad_idx_position\": tgt__embedding_pad_idx_position,\n",
    "            \"embed_dim\": embed_dim,\n",
    "        }\n",
    "        \n",
    "        # reformer info\n",
    "        reformer_config = {\n",
    "            \"dim\": embed_dim,\n",
    "            \"depth\": reformer__depth,\n",
    "            \"max_seq_len\": max_seq_len,\n",
    "            \"heads\": reformer__heads,\n",
    "            \"bucket_size\": reformer__bucket_size,\n",
    "            \"n_hashes\": reformer__n_hashes,\n",
    "            \"causal\": reformer__causal,\n",
    "            \"lsh_dropout\": reformer__lsh_dropout, \n",
    "            \"ff_dropout\": reformer__ff_dropout,\n",
    "            \"post_attn_dropout\": reformer__post_attn_dropout,\n",
    "            \"ff_mult\": reformer__ff_mult,\n",
    "        }\n",
    "        \n",
    "        self.config = {\n",
    "            \"embed_dim\": embed_dim,\n",
    "            \"max_seq_len\": max_seq_len,\n",
    "            \"src_tokenizer\": src_tokenizer_config,\n",
    "            \"tgt_tokenizer\": tgt_tokenizer_config,\n",
    "            \"src_embedding\": src_embedding_config,\n",
    "            \"tgt_embedding\": tgt_embedding_config,\n",
    "            \"reformer\": reformer_config,\n",
    "        }"
   ]
  },
  {
   "cell_type": "code",
   "execution_count": null,
   "metadata": {},
   "outputs": [],
   "source": [
    "class VertexPolyGen(nn.Module):\n",
    "    \n",
    "    def __init__(self, model_config):\n",
    "        super().__init__()\n",
    "        self.tokenizer = DecodeVertexTokenizer(**model_config[\"tokenizer\"])\n",
    "        self.embedding = VertexEmbedding(**model_config[\"embedding\"])\n",
    "        self.reformer = Reformer(**model_config[\"reformer\"])\n",
    "        self.layernorm = nn.LayerNorm(model_config[\"embed_dim\"])\n",
    "        self.loss_func = nn.CrossEntropyLoss(ignore_index=model_config[\"tokenizer\"][\"pad_id\"])\n",
    "    \n",
    "    def forward(self, tokens, device=None):\n",
    "        \n",
    "        hs = self.embedding(\n",
    "            tokens[\"value_tokens\"], \n",
    "            tokens[\"coord_type_tokens\"], \n",
    "            tokens[\"position_tokens\"]\n",
    "        )\n",
    "        \n",
    "        hs = self.reformer(\n",
    "            hs, input_mask=tokens[\"padding_mask\"]\n",
    "        )\n",
    "        hs = self.layernorm(hs)\n",
    "        \n",
    "        return hs\n",
    "        \n",
    "    def __call__(self, inputs, device=None):\n",
    "        tokens = self.tokenizer.tokenize(inputs)\n",
    "        tokens = {k: v.to(device) for k, v in tokens.items()}\n",
    "        \n",
    "        hs = self.forward(tokens, device=device)\n",
    "        hs = F.linear(hs, self.embedding.value_embed.weight)\n",
    "        BATCH, LENGTH, EMBED = hs.shape\n",
    "        hs = hs.reshape(BATCH*LENGTH, EMBED)\n",
    "        targets = tokens[\"target_tokens\"].reshape(BATCH*LENGTH,)\n",
    "        \n",
    "        acc = accuracy(\n",
    "            hs, targets, ignore_label=self.tokenizer.pad_id, device=device\n",
    "        )\n",
    "        loss = self.loss_func(hs, targets)\n",
    "        \n",
    "        outputs = {\n",
    "            \"accuracy\": acc,\n",
    "            \"loss\": loss,\n",
    "        }\n",
    "        return outputs\n",
    "    \n",
    "    @torch.no_grad()\n",
    "    def predict(self, max_seq_len=2400, device=None):\n",
    "        tokenizer = self.tokenizer\n",
    "        special_tokens = tokenizer.special_tokens\n",
    "        \n",
    "        tokens = tokenizer.get_pred_start()\n",
    "        tokens = {k: v.to(device) for k, v in tokens.items()}\n",
    "        preds = []\n",
    "        pred_idx = 0\n",
    "        \n",
    "        while (pred_idx <= max_seq_len-1)\\\n",
    "        and ((len(preds) == 0) or (preds[-1] != special_tokens[\"eos\"]-len(special_tokens))):\n",
    "            \n",
    "            if pred_idx >= 1:\n",
    "                tokens = tokenizer.tokenize([torch.stack(preds)])\n",
    "                tokens[\"value_tokens\"][:, pred_idx+1] = special_tokens[\"pad\"]\n",
    "                tokens[\"padding_mask\"][:, pred_idx+1] = True\n",
    "            \n",
    "            try:\n",
    "                hs = self.forward(tokens, device=device)\n",
    "            except IndexError:\n",
    "                print(pred_idx)\n",
    "                for k, v in tokens.items():\n",
    "                    print(k)\n",
    "                    print(v.shape)\n",
    "                    print(v)\n",
    "                import traceback\n",
    "                print(traceback.format_exc())\n",
    "                break\n",
    "\n",
    "            hs = F.linear(hs[:, pred_idx], self.embedding.value_embed.weight)\n",
    "            pred = hs.argmax(dim=1) - len(special_tokens)\n",
    "            preds.append(pred[0])\n",
    "            pred_idx += 1\n",
    "            \n",
    "        return torch.stack(preds) + len(special_tokens)"
   ]
  }
 ],
 "metadata": {
  "kernelspec": {
   "display_name": "3dEnv",
   "language": "python",
   "name": "3denv"
  },
  "language_info": {
   "codemirror_mode": {
    "name": "ipython",
    "version": 3
   },
   "file_extension": ".py",
   "mimetype": "text/x-python",
   "name": "python",
   "nbconvert_exporter": "python",
   "pygments_lexer": "ipython3",
   "version": "3.7.9"
  }
 },
 "nbformat": 4,
 "nbformat_minor": 4
}
