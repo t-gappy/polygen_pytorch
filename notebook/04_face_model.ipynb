{
 "cells": [
  {
   "cell_type": "code",
   "execution_count": 1,
   "metadata": {},
   "outputs": [],
   "source": [
    "import os\n",
    "import sys\n",
    "import json\n",
    "import glob\n",
    "import math\n",
    "import torch\n",
    "import torch.nn as nn\n",
    "import torch.nn.functional as F\n",
    "from reformer_pytorch import Reformer"
   ]
  },
  {
   "cell_type": "code",
   "execution_count": 2,
   "metadata": {},
   "outputs": [
    {
     "name": "stdout",
     "output_type": "stream",
     "text": [
      "7003 1088\n"
     ]
    }
   ],
   "source": [
    "base_dir = os.path.dirname(os.getcwd())\n",
    "data_dir = os.path.join(base_dir, \"data\", \"original\")\n",
    "train_files = glob.glob(os.path.join(data_dir, \"train\", \"*\", \"*.obj\"))\n",
    "valid_files = glob.glob(os.path.join(data_dir, \"val\", \"*\", \"*.obj\"))\n",
    "print(len(train_files), len(valid_files))\n",
    "\n",
    "src_dir = os.path.join(base_dir, \"src\")\n",
    "sys.path.append(os.path.join(src_dir))"
   ]
  },
  {
   "cell_type": "code",
   "execution_count": 3,
   "metadata": {},
   "outputs": [],
   "source": [
    "from utils_polygen import load_pipeline\n",
    "from tokenizers import EncodeVertexTokenizer, FaceTokenizer"
   ]
  },
  {
   "cell_type": "code",
   "execution_count": 4,
   "metadata": {},
   "outputs": [
    {
     "name": "stdout",
     "output_type": "stream",
     "text": [
      "torch.Size([204, 3]) 160\n",
      "============================================================\n",
      "torch.Size([62, 3]) 45\n",
      "============================================================\n",
      "torch.Size([64, 3]) 601\n",
      "============================================================\n"
     ]
    }
   ],
   "source": [
    "v_batch, f_batch = [], []\n",
    "for i in range(3):\n",
    "    vs, _, fs = load_pipeline(train_files[i])\n",
    "    \n",
    "    vs = torch.tensor(vs)\n",
    "    fs = [torch.tensor(f) for f in fs]\n",
    "    \n",
    "    v_batch.append(vs)\n",
    "    f_batch.append(fs)\n",
    "    print(vs.shape, len(fs))\n",
    "    print(\"=\"*60)"
   ]
  },
  {
   "cell_type": "code",
   "execution_count": 5,
   "metadata": {},
   "outputs": [],
   "source": [
    "enc_tokenizer = EncodeVertexTokenizer(max_seq_len=2592)\n",
    "dec_tokenizer = FaceTokenizer(max_seq_len=3936)"
   ]
  },
  {
   "cell_type": "code",
   "execution_count": 6,
   "metadata": {},
   "outputs": [
    {
     "data": {
      "text/plain": [
       "{'value_tokens': tensor([[167, 122, 167,  ...,   0,   0,   0],\n",
       "         [165, 164, 165,  ...,   0,   0,   0],\n",
       "         [165, 165, 128,  ...,   0,   0,   0]]),\n",
       " 'coord_type_tokens': tensor([[1, 2, 3,  ..., 0, 0, 0],\n",
       "         [1, 2, 3,  ..., 0, 0, 0],\n",
       "         [1, 2, 3,  ..., 0, 0, 0]]),\n",
       " 'position_tokens': tensor([[1, 1, 1,  ..., 0, 0, 0],\n",
       "         [1, 1, 1,  ..., 0, 0, 0],\n",
       "         [1, 1, 1,  ..., 0, 0, 0]]),\n",
       " 'padding_mask': tensor([[False, False, False,  ...,  True,  True,  True],\n",
       "         [False, False, False,  ...,  True,  True,  True],\n",
       "         [False, False, False,  ...,  True,  True,  True]])}"
      ]
     },
     "execution_count": 6,
     "metadata": {},
     "output_type": "execute_result"
    }
   ],
   "source": [
    "src_tokens = enc_tokenizer.tokenize(v_batch)\n",
    "src_tokens"
   ]
  },
  {
   "cell_type": "code",
   "execution_count": 7,
   "metadata": {},
   "outputs": [
    {
     "name": "stdout",
     "output_type": "stream",
     "text": [
      "value_tokens torch.Size([3, 2592])\n",
      "coord_type_tokens torch.Size([3, 2592])\n",
      "position_tokens torch.Size([3, 2592])\n",
      "padding_mask torch.Size([3, 2592])\n"
     ]
    }
   ],
   "source": [
    "for k, v in src_tokens.items():\n",
    "    print(k, v.shape)"
   ]
  },
  {
   "cell_type": "code",
   "execution_count": 8,
   "metadata": {},
   "outputs": [],
   "source": [
    "class FaceEncoderEmbedding(nn.Module):\n",
    "    \n",
    "    def __init__(self, embed_dim=256,\n",
    "                 vocab_value=259, pad_idx_value=2, \n",
    "                 vocab_coord_type=4, pad_idx_coord_type=0,\n",
    "                 vocab_position=1000, pad_idx_position=0):\n",
    "        \n",
    "        super().__init__()\n",
    "        \n",
    "        self.value_embed = nn.Embedding(\n",
    "            vocab_value, embed_dim, padding_idx=pad_idx_value\n",
    "        )\n",
    "        self.coord_type_embed = nn.Embedding(\n",
    "            vocab_coord_type, embed_dim, padding_idx=pad_idx_coord_type\n",
    "        )\n",
    "        self.position_embed = nn.Embedding(\n",
    "            vocab_position, embed_dim, padding_idx=pad_idx_position\n",
    "        )\n",
    "        \n",
    "        self.embed_scaler = math.sqrt(embed_dim)\n",
    "        \n",
    "    def forward(self, tokens):\n",
    "        \n",
    "        \"\"\"get embedding for Face Encoder.\n",
    "        \n",
    "        Args\n",
    "            tokens [dict]: tokenized vertex info.\n",
    "                `value_tokens` [torch.tensor]:\n",
    "                        padded (batch, length) shape long tensor\n",
    "                        with coord value from 0 to 2^n(bit).\n",
    "                `coord_type_tokens` [torch.tensor]:\n",
    "                        padded (batch, length) shape long tensor implies x or y or z.\n",
    "                `position_tokens` [torch.tensor]:\n",
    "                        padded (batch, length) shape long tensor\n",
    "                        representing coord position (NOT sequence position).\n",
    "        \n",
    "        Returns\n",
    "            embed [torch.tensor]: (batch, length, embed) shape tensor after embedding.\n",
    "                        \n",
    "        \"\"\"\n",
    "              \n",
    "        embed = self.value_embed(tokens[\"value_tokens\"])\n",
    "        embed = embed + self.coord_type_embed(tokens[\"coord_type_tokens\"])\n",
    "        embed = embed + self.position_embed(tokens[\"position_tokens\"])\n",
    "        embed = embed * self.embed_scaler\n",
    "        \n",
    "        embed = embed[:, :-1]\n",
    "        embed = torch.cat([\n",
    "            e.sum(dim=1).unsqueeze(dim=1) for e in embed.split(3, dim=1)\n",
    "        ], dim=1)\n",
    "        \n",
    "        return embed\n",
    "    \n",
    "    def forward_original(self, tokens):\n",
    "        # original PolyGen embedding did something like this (no position info?).\n",
    "        embed = self.value_embed(tokens[\"value_tokens\"]) * self.embed_scaler\n",
    "        embed = torch.cat([\n",
    "            e.sum(dim=1).unsqueeze(dim=1) for e in embed[:, :-1].split(3, dim=1)\n",
    "        ], dim=1)\n",
    "        return embed"
   ]
  },
  {
   "cell_type": "code",
   "execution_count": 9,
   "metadata": {},
   "outputs": [],
   "source": [
    "src_embed = FaceEncoderEmbedding(embed_dim=128)"
   ]
  },
  {
   "cell_type": "code",
   "execution_count": 10,
   "metadata": {},
   "outputs": [
    {
     "name": "stdout",
     "output_type": "stream",
     "text": [
      "torch.Size([3, 2592]) torch.Size([3, 2592]) torch.Size([3, 2592]) torch.Size([3, 2592])\n"
     ]
    }
   ],
   "source": [
    "print(\n",
    "    src_tokens[\"value_tokens\"].shape,\n",
    "    src_tokens[\"coord_type_tokens\"].shape,\n",
    "    src_tokens[\"position_tokens\"].shape,\n",
    "    src_tokens[\"padding_mask\"].shape\n",
    ")"
   ]
  },
  {
   "cell_type": "code",
   "execution_count": 11,
   "metadata": {},
   "outputs": [
    {
     "data": {
      "text/plain": [
       "torch.Size([3, 864, 128])"
      ]
     },
     "execution_count": 11,
     "metadata": {},
     "output_type": "execute_result"
    }
   ],
   "source": [
    "src_emb = src_embed.forward_original(src_tokens)\n",
    "src_emb.shape"
   ]
  },
  {
   "cell_type": "code",
   "execution_count": 12,
   "metadata": {},
   "outputs": [
    {
     "data": {
      "text/plain": [
       "torch.Size([3, 864, 128])"
      ]
     },
     "execution_count": 12,
     "metadata": {},
     "output_type": "execute_result"
    }
   ],
   "source": [
    "src_emb = src_embed(src_tokens)\n",
    "src_emb.shape"
   ]
  },
  {
   "cell_type": "code",
   "execution_count": 13,
   "metadata": {},
   "outputs": [
    {
     "data": {
      "text/plain": [
       "{'value_tokens': tensor([[  0, 206, 205,  ...,   2,   2,   2],\n",
       "         [  0,  64,  63,  ...,   2,   2,   2],\n",
       "         [  0,  66,  66,  ...,   2,   2,   2]]),\n",
       " 'target_tokens': tensor([[206, 205, 203,  ...,   2,   2,   2],\n",
       "         [ 64,  63,  61,  ...,   2,   2,   2],\n",
       "         [ 66,  66,  64,  ...,   2,   2,   2]]),\n",
       " 'in_position_tokens': tensor([[1, 2, 3,  ..., 0, 0, 0],\n",
       "         [1, 2, 3,  ..., 0, 0, 0],\n",
       "         [1, 2, 3,  ..., 0, 0, 0]]),\n",
       " 'out_position_tokens': tensor([[1, 1, 1,  ..., 0, 0, 0],\n",
       "         [1, 1, 1,  ..., 0, 0, 0],\n",
       "         [1, 1, 1,  ..., 0, 0, 0]]),\n",
       " 'ref_v_mask': tensor([[0., 1., 1.,  ..., 0., 0., 0.],\n",
       "         [0., 1., 1.,  ..., 0., 0., 0.],\n",
       "         [0., 1., 1.,  ..., 0., 0., 0.]]),\n",
       " 'ref_v_ids': tensor([[  0, 203, 202,  ...,   0,   0,   0],\n",
       "         [  0,  61,  60,  ...,   0,   0,   0],\n",
       "         [  0,  63,  63,  ...,   0,   0,   0]]),\n",
       " 'ref_e_mask': tensor([[1., 0., 0.,  ..., 1., 1., 1.],\n",
       "         [1., 0., 0.,  ..., 1., 1., 1.],\n",
       "         [1., 0., 0.,  ..., 1., 1., 1.]]),\n",
       " 'ref_e_ids': tensor([[0, 0, 0,  ..., 2, 2, 2],\n",
       "         [0, 0, 0,  ..., 2, 2, 2],\n",
       "         [0, 0, 0,  ..., 2, 2, 2]]),\n",
       " 'padding_mask': tensor([[False, False, False,  ...,  True,  True,  True],\n",
       "         [False, False, False,  ...,  True,  True,  True],\n",
       "         [False, False, False,  ...,  True,  True,  True]])}"
      ]
     },
     "execution_count": 13,
     "metadata": {},
     "output_type": "execute_result"
    }
   ],
   "source": [
    "tgt_tokens = dec_tokenizer.tokenize(f_batch)\n",
    "tgt_tokens"
   ]
  },
  {
   "cell_type": "code",
   "execution_count": 14,
   "metadata": {},
   "outputs": [],
   "source": [
    "class FaceDecoderEmbedding(nn.Module):\n",
    "    \n",
    "    def __init__(self, embed_dim=256,\n",
    "                 vocab_value=3, pad_idx_value=2, \n",
    "                 vocab_in_position=100, pad_idx_in_position=0,\n",
    "                 vocab_out_position=1000, pad_idx_out_position=0):\n",
    "        \n",
    "        super().__init__()\n",
    "        \n",
    "        self.value_embed = nn.Embedding(\n",
    "            vocab_value, embed_dim, padding_idx=pad_idx_value\n",
    "        )\n",
    "        self.in_position_embed = nn.Embedding(\n",
    "            vocab_in_position, embed_dim, padding_idx=pad_idx_in_position\n",
    "        )\n",
    "        self.out_position_embed = nn.Embedding(\n",
    "            vocab_out_position, embed_dim, padding_idx=pad_idx_out_position\n",
    "        )\n",
    "        \n",
    "        self.embed_scaler = math.sqrt(embed_dim)\n",
    "        \n",
    "    def forward(self, encoder_embed, tokens):\n",
    "        \n",
    "        \"\"\"get embedding for Face Decoder.\n",
    "        note that value_embeddings consist of two embedding.\n",
    "          - pointer to encoder outputs\n",
    "          - embedding for special tokens such as <end-of-face>, <eos>, <pad>.\n",
    "        \n",
    "        Args\n",
    "            encoder_embed [torch.tensor]:\n",
    "                    (batch, src-length, embed) shape tensor from encoder.\n",
    "            tokens [dict]: all contents are in the shape of (batch, tgt-length).\n",
    "                `ref_v_ids` [torch.tensor]:\n",
    "                        this is used as pointer to `encoder_embed`.\n",
    "                `ref_v_mask` [torch.tensor]:\n",
    "                        mask for special token positions in pointer embeddings. \n",
    "                `ref_e_ids` [torch.tensor]:\n",
    "                        embed ids for special tokens.\n",
    "                `ref_e_ids` [torch.tensor]:\n",
    "                        mask for pointer token position in special token embeddings.\n",
    "                `in_position_tokens` [torch.tensor]:\n",
    "                        embed ids for positions in face.\n",
    "                `out_position_tokens` [torch.tensor]:\n",
    "                        embed ids for positions of face itself in sequence.\n",
    "                        \n",
    "        Returns\n",
    "            embed [torch.tensor]: (batch, tgt-length, embed) shape tensor of embeddings.\n",
    "                        \n",
    "        \"\"\"\n",
    "        \n",
    "        embed = torch.cat([\n",
    "            encoder_embed[b_idx, ids].unsqueeze(dim=0) \n",
    "            for b_idx, ids in enumerate(tokens[\"ref_v_ids\"].unbind(dim=0))\n",
    "        ], dim=0)\n",
    "        embed = embed * tokens[\"ref_v_mask\"].unsqueeze(dim=2)\n",
    "        \n",
    "        additional_embeddings = self.value_embed(tokens[\"ref_e_ids\"]) * tokens[\"ref_e_mask\"].unsqueeze(dim=2)\n",
    "        additional_embeddings = additional_embeddings + self.in_position_embed(tokens[\"in_position_tokens\"])\n",
    "        additional_embeddings = additional_embeddings + self.out_position_embed(tokens[\"out_position_tokens\"])\n",
    "        additional_embeddings = additional_embeddings * self.embed_scaler\n",
    "        \n",
    "        embed = embed + additional_embeddings\n",
    "        return embed"
   ]
  },
  {
   "cell_type": "code",
   "execution_count": 15,
   "metadata": {},
   "outputs": [],
   "source": [
    "tgt_embed = FaceDecoderEmbedding(embed_dim=128)"
   ]
  },
  {
   "cell_type": "code",
   "execution_count": 16,
   "metadata": {},
   "outputs": [
    {
     "data": {
      "text/plain": [
       "torch.Size([3, 3936, 128])"
      ]
     },
     "execution_count": 16,
     "metadata": {},
     "output_type": "execute_result"
    }
   ],
   "source": [
    "tgt_emb = tgt_embed(src_emb, tgt_tokens)\n",
    "tgt_emb.shape"
   ]
  },
  {
   "cell_type": "code",
   "execution_count": 17,
   "metadata": {},
   "outputs": [
    {
     "data": {
      "text/plain": [
       "torch.Size([3, 3936, 864])"
      ]
     },
     "execution_count": 17,
     "metadata": {},
     "output_type": "execute_result"
    }
   ],
   "source": [
    "torch.bmm(tgt_emb, src_emb.permute(0, 2, 1)).shape"
   ]
  },
  {
   "cell_type": "code",
   "execution_count": 18,
   "metadata": {},
   "outputs": [
    {
     "data": {
      "text/plain": [
       "torch.Size([3, 3, 128])"
      ]
     },
     "execution_count": 18,
     "metadata": {},
     "output_type": "execute_result"
    }
   ],
   "source": [
    "tgt_embed.value_embed.weight[None, ...].repeat(3, 1, 1).shape"
   ]
  },
  {
   "cell_type": "code",
   "execution_count": 19,
   "metadata": {},
   "outputs": [
    {
     "name": "stdout",
     "output_type": "stream",
     "text": [
      "torch.Size([3, 867, 128])\n",
      "tensor([[0., 0., 0., 0., 0., 0., 0., 0., 0., 0., 0., 0., 0., 0., 0., 0., 0., 0., 0., 0., 0., 0., 0., 0.,\n",
      "         0., 0., 0., 0., 0., 0., 0., 0., 0., 0., 0., 0., 0., 0., 0., 0., 0., 0., 0., 0., 0., 0., 0., 0.,\n",
      "         0., 0., 0., 0., 0., 0., 0., 0., 0., 0., 0., 0., 0., 0., 0., 0., 0., 0., 0., 0., 0., 0., 0., 0.,\n",
      "         0., 0., 0., 0., 0., 0., 0., 0., 0., 0., 0., 0., 0., 0., 0., 0., 0., 0., 0., 0., 0., 0., 0., 0.,\n",
      "         0., 0., 0., 0., 0., 0., 0., 0., 0., 0., 0., 0., 0., 0., 0., 0., 0., 0., 0., 0., 0., 0., 0., 0.,\n",
      "         0., 0., 0., 0., 0., 0., 0., 0.],\n",
      "        [0., 0., 0., 0., 0., 0., 0., 0., 0., 0., 0., 0., 0., 0., 0., 0., 0., 0., 0., 0., 0., 0., 0., 0.,\n",
      "         0., 0., 0., 0., 0., 0., 0., 0., 0., 0., 0., 0., 0., 0., 0., 0., 0., 0., 0., 0., 0., 0., 0., 0.,\n",
      "         0., 0., 0., 0., 0., 0., 0., 0., 0., 0., 0., 0., 0., 0., 0., 0., 0., 0., 0., 0., 0., 0., 0., 0.,\n",
      "         0., 0., 0., 0., 0., 0., 0., 0., 0., 0., 0., 0., 0., 0., 0., 0., 0., 0., 0., 0., 0., 0., 0., 0.,\n",
      "         0., 0., 0., 0., 0., 0., 0., 0., 0., 0., 0., 0., 0., 0., 0., 0., 0., 0., 0., 0., 0., 0., 0., 0.,\n",
      "         0., 0., 0., 0., 0., 0., 0., 0.],\n",
      "        [0., 0., 0., 0., 0., 0., 0., 0., 0., 0., 0., 0., 0., 0., 0., 0., 0., 0., 0., 0., 0., 0., 0., 0.,\n",
      "         0., 0., 0., 0., 0., 0., 0., 0., 0., 0., 0., 0., 0., 0., 0., 0., 0., 0., 0., 0., 0., 0., 0., 0.,\n",
      "         0., 0., 0., 0., 0., 0., 0., 0., 0., 0., 0., 0., 0., 0., 0., 0., 0., 0., 0., 0., 0., 0., 0., 0.,\n",
      "         0., 0., 0., 0., 0., 0., 0., 0., 0., 0., 0., 0., 0., 0., 0., 0., 0., 0., 0., 0., 0., 0., 0., 0.,\n",
      "         0., 0., 0., 0., 0., 0., 0., 0., 0., 0., 0., 0., 0., 0., 0., 0., 0., 0., 0., 0., 0., 0., 0., 0.,\n",
      "         0., 0., 0., 0., 0., 0., 0., 0.]], grad_fn=<SelectBackward>)\n"
     ]
    }
   ],
   "source": [
    "BATCH = 3\n",
    "test = torch.cat([\n",
    "    tgt_embed.value_embed.weight[None, ...].repeat(BATCH, 1, 1),\n",
    "    src_emb\n",
    "], dim=1)\n",
    "print(test.shape)\n",
    "print(test[:, 2]) # id 2 is padding."
   ]
  },
  {
   "cell_type": "code",
   "execution_count": 20,
   "metadata": {},
   "outputs": [
    {
     "data": {
      "text/plain": [
       "torch.Size([3, 3936, 867])"
      ]
     },
     "execution_count": 20,
     "metadata": {},
     "output_type": "execute_result"
    }
   ],
   "source": [
    "torch.bmm(tgt_emb, test.permute(0, 2, 1)).shape"
   ]
  },
  {
   "cell_type": "code",
   "execution_count": 21,
   "metadata": {},
   "outputs": [],
   "source": [
    "class Config(object):\n",
    "    \n",
    "    def write_to_json(self, out_path):\n",
    "        with open(out_path, \"w\") as fw:\n",
    "            json.dump(self.config, fw, indent=4)\n",
    "            \n",
    "    def load_from_json(self, file_path):\n",
    "        with open(file_path) as fr:\n",
    "            self.config = json.load(fr)\n",
    "        \n",
    "    def __getitem__(self, key):\n",
    "        return self.config[key]"
   ]
  },
  {
   "cell_type": "code",
   "execution_count": 22,
   "metadata": {},
   "outputs": [],
   "source": [
    "class FacePolyGenConfig(Config):\n",
    "    \n",
    "    def __init__(self,\n",
    "                 embed_dim=256, \n",
    "                 src__max_seq_len=2400, \n",
    "                 src__tokenizer__pad_id=0,\n",
    "                 tgt__max_seq_len=3900,\n",
    "                 tgt__tokenizer__bof_id=0,\n",
    "                 tgt__tokenizer__eos_id=1, \n",
    "                 tgt__tokenizer__pad_id=2,\n",
    "                 src__embedding__vocab_value=256 + 3, \n",
    "                 src__embedding__vocab_coord_type=4, \n",
    "                 src__embedding__vocab_position=1000, \n",
    "                 src__embedding__pad_idx_value=2,\n",
    "                 src__embedding__pad_idx_coord_type=0,\n",
    "                 src__embedding__pad_idx_position=0,\n",
    "                 tgt__embedding__vocab_value=3,\n",
    "                 tgt__embedding__vocab_in_position=100,\n",
    "                 tgt__embedding__vocab_out_position=1000,\n",
    "                 tgt__embedding__pad_idx_value=2,\n",
    "                 tgt__embedding__pad_idx_in_position=0,\n",
    "                 tgt__embedding__pad_idx_out_position=0,\n",
    "                 src__reformer__depth=12,\n",
    "                 src__reformer__heads=8,\n",
    "                 src__reformer__n_hashes=8,\n",
    "                 src__reformer__bucket_size=48,\n",
    "                 src__reformer__causal=True,\n",
    "                 src__reformer__lsh_dropout=0.2, \n",
    "                 src__reformer__ff_dropout=0.2,\n",
    "                 src__reformer__post_attn_dropout=0.2,\n",
    "                 src__reformer__ff_mult=4,\n",
    "                 tgt__reformer__depth=12,\n",
    "                 tgt__reformer__heads=8,\n",
    "                 tgt__reformer__n_hashes=8,\n",
    "                 tgt__reformer__bucket_size=48,\n",
    "                 tgt__reformer__causal=True,\n",
    "                 tgt__reformer__lsh_dropout=0.2, \n",
    "                 tgt__reformer__ff_dropout=0.2,\n",
    "                 tgt__reformer__post_attn_dropout=0.2,\n",
    "                 tgt__reformer__ff_mult=4):\n",
    "        \n",
    "        # auto padding for max_seq_len\n",
    "        src_denominator = (src__reformer__bucket_size * 2 * 3)\n",
    "        if src__max_seq_len % src_denominator != 0:\n",
    "            divisables = src__max_seq_len // src_denominator + 1\n",
    "            src__max_seq_len_new = divisables * src_denominator\n",
    "            print(\"src__max_seq_len changed, because of lsh-attention's bucket_size\")\n",
    "            print(\"before: {} --> after: {} (with bucket_size: {})\".format(\n",
    "                src__max_seq_len, src__max_seq_len_new, src__reformer__bucket_size\n",
    "            ))\n",
    "            src__max_seq_len = src__max_seq_len_new\n",
    "            \n",
    "        tgt_denominator = tgt__reformer__bucket_size * 2\n",
    "        if tgt__max_seq_len % tgt_denominator != 0:\n",
    "            divisables = tgt__max_seq_len // tgt_denominator + 1\n",
    "            tgt__max_seq_len_new = divisables * tgt_denominator\n",
    "            print(\"tgt__max_seq_len changed, because of lsh-attention's bucket_size\")\n",
    "            print(\"before: {} --> after: {} (with bucket_size: {})\".format(\n",
    "                tgt__max_seq_len, tgt__max_seq_len_new, tgt__reformer__bucket_size\n",
    "            ))\n",
    "            tgt__max_seq_len = tgt__max_seq_len_new\n",
    "        \n",
    "        \n",
    "        # tokenizer config\n",
    "        src_tokenizer_config = {\n",
    "            \"pad_id\": src__tokenizer__pad_id,\n",
    "            \"max_seq_len\": src__max_seq_len,\n",
    "        }\n",
    "        tgt_tokenizer_config = {\n",
    "            \"bof_id\": tgt__tokenizer__bof_id,\n",
    "            \"eos_id\": tgt__tokenizer__eos_id,\n",
    "            \"pad_id\": tgt__tokenizer__pad_id,\n",
    "            \"max_seq_len\": tgt__max_seq_len,\n",
    "        }\n",
    "        \n",
    "        # embedding config\n",
    "        src_embedding_config = {\n",
    "            \"vocab_value\": src__embedding__vocab_value,\n",
    "            \"vocab_coord_type\": src__embedding__vocab_coord_type,\n",
    "            \"vocab_position\": src__embedding__vocab_position,\n",
    "            \"pad_idx_value\": src__embedding__pad_idx_value,\n",
    "            \"pad_idx_coord_type\": src__embedding__pad_idx_coord_type,\n",
    "            \"pad_idx_position\": src__embedding__pad_idx_position,\n",
    "            \"embed_dim\": embed_dim,\n",
    "        }\n",
    "        tgt_embedding_config = {\n",
    "            \"vocab_value\": tgt__embedding__vocab_value,\n",
    "            \"vocab_in_position\": tgt__embedding__vocab_in_position,\n",
    "            \"vocab_out_position\": tgt__embedding__vocab_out_position,\n",
    "            \"pad_idx_value\": tgt__embedding__pad_idx_value,\n",
    "            \"pad_idx_in_position\": tgt__embedding__pad_idx_in_position,\n",
    "            \"pad_idx_out_position\": tgt__embedding__pad_idx_out_position,\n",
    "            \"embed_dim\": embed_dim,\n",
    "        }\n",
    "        \n",
    "        # reformer info\n",
    "        src_reformer_config = {\n",
    "            \"dim\": embed_dim,\n",
    "            \"max_seq_len\": src__max_seq_len,\n",
    "            \"depth\": src__reformer__depth,\n",
    "            \"heads\": src__reformer__heads,\n",
    "            \"bucket_size\": src__reformer__bucket_size,\n",
    "            \"n_hashes\": src__reformer__n_hashes,\n",
    "            \"causal\": src__reformer__causal,\n",
    "            \"lsh_dropout\": src__reformer__lsh_dropout, \n",
    "            \"ff_dropout\": src__reformer__ff_dropout,\n",
    "            \"post_attn_dropout\": src__reformer__post_attn_dropout,\n",
    "            \"ff_mult\": src__reformer__ff_mult,\n",
    "        }\n",
    "        \n",
    "        tgt_reformer_config = {\n",
    "            \"dim\": embed_dim,\n",
    "            \"max_seq_len\": tgt__max_seq_len,\n",
    "            \"depth\": tgt__reformer__depth,\n",
    "            \"heads\": tgt__reformer__heads,\n",
    "            \"bucket_size\": tgt__reformer__bucket_size,\n",
    "            \"n_hashes\": tgt__reformer__n_hashes,\n",
    "            \"causal\": tgt__reformer__causal,\n",
    "            \"lsh_dropout\": tgt__reformer__lsh_dropout, \n",
    "            \"ff_dropout\": tgt__reformer__ff_dropout,\n",
    "            \"post_attn_dropout\": tgt__reformer__post_attn_dropout,\n",
    "            \"ff_mult\": tgt__reformer__ff_mult,\n",
    "        }\n",
    "        \n",
    "        self.config = {\n",
    "            \"embed_dim\": embed_dim,\n",
    "            \"src_tokenizer\": src_tokenizer_config,\n",
    "            \"tgt_tokenizer\": tgt_tokenizer_config,\n",
    "            \"src_embedding\": src_embedding_config,\n",
    "            \"tgt_embedding\": tgt_embedding_config,\n",
    "            \"src_reformer\": src_reformer_config,\n",
    "            \"tgt_reformer\": tgt_reformer_config,\n",
    "        }"
   ]
  },
  {
   "cell_type": "code",
   "execution_count": 23,
   "metadata": {},
   "outputs": [],
   "source": [
    "# utility functions\n",
    "\n",
    "def accuracy(y_pred, y_true, ignore_label=None, device=None):\n",
    "    y_pred = y_pred.argmax(dim=1)\n",
    "\n",
    "    if ignore_label:\n",
    "        normalizer = torch.sum(y_true!=ignore_label)\n",
    "        ignore_mask = torch.where(\n",
    "            y_true == ignore_label,\n",
    "            torch.zeros_like(y_true, device=device),\n",
    "            torch.ones_like(y_true, device=device)\n",
    "        ).type(torch.float32)\n",
    "    else:\n",
    "        normalizer = y_true.shape[0]\n",
    "        ignore_mask = torch.ones_like(y_true, device=device).type(torch.float32)\n",
    "\n",
    "    acc = (y_pred.reshape(-1)==y_true.reshape(-1)).type(torch.float32)\n",
    "    acc = torch.sum(acc*ignore_mask)\n",
    "    return acc / normalizer\n",
    "\n",
    "\n",
    "def init_weights(m):\n",
    "    if type(m) == nn.Linear:\n",
    "        nn.init.xavier_normal_(m.weight)\n",
    "    if type(m) == nn.Embedding:\n",
    "        nn.init.uniform_(m.weight, -0.05, 0.05)"
   ]
  },
  {
   "cell_type": "code",
   "execution_count": 31,
   "metadata": {},
   "outputs": [],
   "source": [
    "class FacePolyGen(nn.Module):\n",
    "    \n",
    "    def __init__(self, model_config):\n",
    "        super().__init__()\n",
    "        self.src_tokenizer = EncodeVertexTokenizer(**model_config[\"src_tokenizer\"])\n",
    "        self.tgt_tokenizer = FaceTokenizer(**model_config[\"tgt_tokenizer\"])\n",
    "        \n",
    "        self.src_embedding = FaceEncoderEmbedding(**model_config[\"src_embedding\"])\n",
    "        self.tgt_embedding = FaceDecoderEmbedding(**model_config[\"tgt_embedding\"])\n",
    "        \n",
    "        self.src_reformer = Reformer(**model_config[\"src_reformer\"])\n",
    "        self.tgt_reformer = Reformer(**model_config[\"tgt_reformer\"])\n",
    "        \n",
    "        self.src_norm = nn.LayerNorm(model_config[\"embed_dim\"])\n",
    "        self.tgt_norm = nn.LayerNorm(model_config[\"embed_dim\"])\n",
    "        self.loss_func = nn.CrossEntropyLoss(ignore_index=model_config[\"tgt_tokenizer\"][\"pad_id\"])\n",
    "        \n",
    "        self.apply(init_weights)\n",
    "        self.embed_scaler = math.sqrt(model_config[\"embed_dim\"])\n",
    "    \n",
    "    def encode(self, src_tokens, device=None):\n",
    "        \n",
    "        \"\"\"forward function which can be used for both train/predict.\n",
    "        this function only encodes vertex information\n",
    "        because decoders behave as really auto-regressive function.\n",
    "        \n",
    "        Args\n",
    "            src_tokens [dict]: tokenized vertex info.\n",
    "                `value_tokens` [torch.tensor]:\n",
    "                        padded (batch, src-length) shape long tensor\n",
    "                        with coord value from 0 to 2^n(bit).\n",
    "                `coord_type_tokens` [torch.tensor]:\n",
    "                        padded (batch, src-length) shape long tensor implies x or y or z.\n",
    "                `position_tokens` [torch.tensor]:\n",
    "                        padded (batch, src-length) shape long tensor\n",
    "                        representing coord position (NOT sequence position).\n",
    "                `padding_mask` [torch.tensor]:\n",
    "                        (batch, src-length) shape mask implies <pad> tokens.\n",
    "        \n",
    "        Returns\n",
    "            hs [torch.tensor]: (batch, src-length, embed) shape tensor after encoder.\n",
    "        \n",
    "        \"\"\"\n",
    "        \n",
    "        hs = self.src_embedding(src_tokens)\n",
    "        hs = self.src_reformer(\n",
    "            hs, input_mask=src_tokens[\"padding_mask\"]\n",
    "        )\n",
    "        hs = self.src_norm(hs)\n",
    "        \n",
    "        # calc pointing to vertex\n",
    "        BATCH = hs.shape[0]\n",
    "        sptk_embed = self.tgt_embedding.value_embed.weight\n",
    "        encoder_embed_with_sptk = torch.cat([\n",
    "            sptk_embed[None, ...].repeat(BATCH, 1, 1), hs\n",
    "        ], dim=1)\n",
    "        \n",
    "        return hs, encoder_embed_with_sptk\n",
    "    \n",
    "    def decode(self, encoder_embed, encoder_embed_with_sptk, tgt_tokens, pred_idx=None, device=None):\n",
    "        hs = self.tgt_embedding(encoder_embed, tgt_tokens)\n",
    "        hs = self.tgt_reformer(\n",
    "            hs, input_mask=tgt_tokens[\"padding_mask\"]\n",
    "        )\n",
    "        hs = self.tgt_norm(hs)        \n",
    "        \n",
    "        if pred_idx is None:\n",
    "            hs = torch.bmm(\n",
    "                hs, encoder_embed_with_sptk.permute(0, 2, 1))\n",
    "        else:\n",
    "            hs = torch.bmm(\n",
    "                hs[:, pred_idx:pred_idx+1],\n",
    "                encoder_embed_with_sptk.permute(0, 2, 1)\n",
    "            )\n",
    "        return hs\n",
    "        \n",
    "        \n",
    "    def forward(self, inputs, device=None):\n",
    "        \n",
    "        \"\"\"Calculate loss while training.\n",
    "        \n",
    "        Args\n",
    "            inputs [dict]: dict containing batched inputs.\n",
    "                `vertices` [list(torch.tensor)]:\n",
    "                        variable-length-list of \n",
    "                        (length, 3) shaped tensor of quantized-vertices.\n",
    "                `faces` [list(list(torch.tensor))]:\n",
    "                        batch-length-list of\n",
    "                        variable-length-list (per face) of \n",
    "                        (length,) shaped vertex-ids which constructs a face.\n",
    "            device [torch.device]: gpu or not gpu, that's the problem.\n",
    "                \n",
    "        Returns\n",
    "            outputs [dict]: dict containing calculated variables.\n",
    "                `loss` [torch.tensor]:\n",
    "                        calculated scalar-shape loss with backprop info.\n",
    "                `accuracy` [torch.tensor]:\n",
    "                        calculated scalar-shape accuracy.\n",
    "            \n",
    "        \"\"\"\n",
    "        \n",
    "        src_tokens = self.src_tokenizer.tokenize(inputs[\"vertices\"])\n",
    "        src_tokens = {k: v.to(device) for k, v in src_tokens.items()}\n",
    "        \n",
    "        tgt_tokens = self.tgt_tokenizer.tokenize(inputs[\"faces\"])\n",
    "        tgt_tokens = {k: v.to(device) for k, v in tgt_tokens.items()}\n",
    "        \n",
    "        encoder_embed, encoder_embed_with_sptk = self.encode(src_tokens, device=device)\n",
    "        decoder_embed = self.decode(encoder_embed, encoder_embed_with_sptk, tgt_tokens, device=device)\n",
    "        \n",
    "        BATCH, TGT_LENGTH, SRC_LENGTH = decoder_embed.shape\n",
    "        decoder_embed = decoder_embed.reshape(BATCH*TGT_LENGTH, SRC_LENGTH)\n",
    "        targets = tgt_tokens[\"target_tokens\"].reshape(BATCH*TGT_LENGTH,)\n",
    "        \n",
    "        acc = accuracy(\n",
    "            decoder_embed, targets, ignore_label=self.tgt_tokenizer.pad_id, device=device\n",
    "        )\n",
    "        loss = self.loss_func(decoder_embed, targets)\n",
    "        \n",
    "        if hasattr(self, 'reporter'):\n",
    "            self.reporter.report({\n",
    "                \"accuracy\": acc.item(),\n",
    "                \"perplexity\": torch.exp(loss).item(),\n",
    "                \"loss\": loss.item(),\n",
    "            })\n",
    "        \n",
    "        output = {\n",
    "            \"accuracy\": acc.item(),\n",
    "            \"perplexity\": torch.exp(loss).item(),\n",
    "            \"loss\": loss.item(),\n",
    "        }\n",
    "\n",
    "        return loss, output\n",
    "    \n",
    "    @torch.no_grad()\n",
    "    def predict(self, inputs, max_seq_len=3936, top_p=0.9, seed=0, device=None):\n",
    "        \n",
    "        # setting for sampling reproducibility.\n",
    "        if torch.cuda.is_available():\n",
    "            torch.cuda.manual_seed(seed)\n",
    "        torch.manual_seed(seed)\n",
    "        torch.set_deterministic(True)\n",
    "        \n",
    "        \n",
    "        tgt_tokenizer = self.tgt_tokenizer\n",
    "        special_tokens = tgt_tokenizer.special_tokens\n",
    "        \n",
    "        # calc vertex encoding first.\n",
    "        src_tokens = self.src_tokenizer.tokenize(inputs[\"vertices\"])\n",
    "        src_tokens = {k: v.to(device) for k, v in src_tokens.items()}\n",
    "        \n",
    "        encoder_embed, encoder_embed_with_sptk = self.encode(src_tokens, device=device)\n",
    "        \n",
    "        # prepare for generation.\n",
    "        tgt_tokens = model.tgt_tokenizer.tokenize([[torch.tensor([], dtype=torch.int32)]])\n",
    "        tgt_tokens[\"value_tokens\"][:, 1] = model.tgt_tokenizer.special_tokens[\"pad\"]\n",
    "        tgt_tokens[\"ref_e_ids\"][:, 1] = model.tgt_tokenizer.special_tokens[\"pad\"]\n",
    "        tgt_tokens[\"padding_mask\"][:, 1] = True\n",
    "        \n",
    "        output_vocab_length = encoder_embed_with_sptk.shape[1]\n",
    "        preds = [torch.tensor([], dtype=torch.int32)]\n",
    "        history_in_face = torch.zeros((1, output_vocab_length), dtype=torch.bool)\n",
    "        pred_idx = 0\n",
    "        now_face_idx = 0\n",
    "        \n",
    "        try:\n",
    "            while (pred_idx <= max_seq_len-1):\n",
    "                print(pred_idx, end=\", \")\n",
    "\n",
    "                if pred_idx >= 1:\n",
    "                    tgt_tokens = tgt_tokenizer.tokenize([[torch.cat([p]) for p in preds]])\n",
    "                    tgt_tokens[\"value_tokens\"][:, pred_idx+1] = special_tokens[\"pad\"]\n",
    "                    tgt_tokens[\"ref_e_ids\"][:, pred_idx+1] = special_tokens[\"pad\"]\n",
    "                    tgt_tokens[\"padding_mask\"][:, pred_idx+1] = True\n",
    "\n",
    "                hs = self.decode(encoder_embed, encoder_embed_with_sptk, tgt_tokens, pred_idx=pred_idx, device=device)\n",
    "                hs = hs[:, 0]\n",
    "\n",
    "                ##### greedy sampling\n",
    "                # pred = hs.argmax(dim=1)\n",
    "\n",
    "                ### top-p sampling\n",
    "                hs = torch.where(\n",
    "                    history_in_face,\n",
    "                    torch.full_like(hs, -np.inf, device=device),\n",
    "                    hs\n",
    "                )\n",
    "                probas, indeces = torch.sort(hs, dim=1, descending=True)\n",
    "                cum_probas = torch.cumsum(F.softmax(probas, dim=1), dim=1)\n",
    "\n",
    "                condition = cum_probas <= top_p\n",
    "                if condition.sum() == 0:\n",
    "                    candidates = torch.full_like(probas, -np.inf, device=device)\n",
    "                    candidates[:, 0] = 1.\n",
    "                else:\n",
    "                    candidates = torch.where(\n",
    "                        condition, probas, torch.full_like(probas, -np.inf, device=device)\n",
    "                    )\n",
    "\n",
    "                probas = F.softmax(candidates, dim=1)\n",
    "                pred = indeces[0, torch.multinomial(probas, 1).squeeze(dim=1)]\n",
    "\n",
    "                if pred == special_tokens[\"eos\"]:\n",
    "                    break\n",
    "                if pred == special_tokens[\"bof\"]:\n",
    "                    now_face_idx += 1\n",
    "                    history_in_face = torch.arange(output_vocab_length) > preds[-1][0]+len(special_tokens)\n",
    "                    history_in_face = history_in_face[None, :]\n",
    "                    preds.append(torch.tensor([], dtype=torch.int32))\n",
    "                else:\n",
    "                    history_in_face[:, pred] = True\n",
    "                    preds[now_face_idx] = \\\n",
    "                        torch.cat([preds[now_face_idx], pred-len(special_tokens)])\n",
    "                pred_idx += 1\n",
    "        \n",
    "        except KeyboardInterrupt:\n",
    "            return preds\n",
    "        \n",
    "        return preds"
   ]
  },
  {
   "cell_type": "code",
   "execution_count": 32,
   "metadata": {},
   "outputs": [
    {
     "name": "stdout",
     "output_type": "stream",
     "text": [
      "vertices\n",
      "torch.Size([204, 3])\n",
      "torch.Size([62, 3])\n",
      "faces\n",
      "160\n",
      "45\n"
     ]
    }
   ],
   "source": [
    "inputs = {\n",
    "    \"vertices\": v_batch[:2],\n",
    "    \"faces\": f_batch[:2],\n",
    "}\n",
    "for k, values in inputs.items():\n",
    "    print(k)\n",
    "    for v in values:\n",
    "        if k == \"vertices\":\n",
    "            print(v.shape)\n",
    "        else:\n",
    "            print(len(v))"
   ]
  },
  {
   "cell_type": "code",
   "execution_count": 33,
   "metadata": {},
   "outputs": [
    {
     "name": "stdout",
     "output_type": "stream",
     "text": [
      "src__max_seq_len changed, because of lsh-attention's bucket_size\n",
      "before: 2400 --> after: 2592 (with bucket_size: 48)\n",
      "tgt__max_seq_len changed, because of lsh-attention's bucket_size\n",
      "before: 3900 --> after: 3936 (with bucket_size: 48)\n"
     ]
    }
   ],
   "source": [
    "config = FacePolyGenConfig(\n",
    "    embed_dim=64, \n",
    "    src__reformer__depth=4, src__reformer__lsh_dropout=0.,\n",
    "    src__reformer__ff_dropout=0., src__reformer__post_attn_dropout=0.,\n",
    "    tgt__reformer__depth=4, tgt__reformer__lsh_dropout=0.,\n",
    "    tgt__reformer__ff_dropout=0., tgt__reformer__post_attn_dropout=0.\n",
    ")\n",
    "model = FacePolyGen(config)"
   ]
  },
  {
   "cell_type": "code",
   "execution_count": 34,
   "metadata": {},
   "outputs": [],
   "source": [
    "optimizer = torch.optim.Adam(model.parameters(), lr=3e-4)"
   ]
  },
  {
   "cell_type": "code",
   "execution_count": 28,
   "metadata": {},
   "outputs": [
    {
     "name": "stdout",
     "output_type": "stream",
     "text": [
      "iteration: 0\tloss: 26.36524\tperp: 282018414592.000\tacc: 0.02822\n",
      "iteration: 10\tloss: 15.68826\tperp: 1149463465.527\tacc: 0.02730\n",
      "iteration: 20\tloss: 8.15299\tperp: 9884.403\tacc: 0.03627\n",
      "iteration: 30\tloss: 4.42965\tperp: 90.194\tacc: 0.15328\n",
      "iteration: 40\tloss: 3.80131\tperp: 46.192\tacc: 0.19427\n",
      "iteration: 50\tloss: 3.29365\tperp: 27.172\tacc: 0.27295\n",
      "iteration: 60\tloss: 2.89013\tperp: 18.110\tacc: 0.30979\n",
      "iteration: 70\tloss: 2.54781\tperp: 12.829\tacc: 0.33743\n",
      "iteration: 80\tloss: 2.27219\tperp: 9.726\tacc: 0.36158\n",
      "iteration: 90\tloss: 2.04413\tperp: 7.737\tacc: 0.37651\n",
      "iteration: 100\tloss: 1.84244\tperp: 6.322\tacc: 0.39793\n",
      "iteration: 110\tloss: 1.65128\tperp: 5.221\tacc: 0.42971\n",
      "iteration: 120\tloss: 1.46384\tperp: 4.329\tacc: 0.48664\n",
      "iteration: 130\tloss: 1.27633\tperp: 3.589\tacc: 0.55245\n",
      "iteration: 140\tloss: 1.08611\tperp: 2.967\tacc: 0.63328\n",
      "iteration: 150\tloss: 0.89477\tperp: 2.450\tacc: 0.71469\n",
      "iteration: 160\tloss: 0.70791\tperp: 2.033\tacc: 0.78290\n",
      "iteration: 170\tloss: 0.53139\tperp: 1.703\tacc: 0.85610\n",
      "iteration: 180\tloss: 0.37821\tperp: 1.461\tacc: 0.93361\n",
      "iteration: 190\tloss: 0.26171\tperp: 1.300\tacc: 0.97386\n",
      "iteration: 200\tloss: 0.18266\tperp: 1.201\tacc: 0.99178\n",
      "iteration: 210\tloss: 0.13200\tperp: 1.141\tacc: 0.99676\n",
      "iteration: 220\tloss: 0.09969\tperp: 1.105\tacc: 0.99784\n",
      "iteration: 230\tloss: 0.07866\tperp: 1.082\tacc: 0.99834\n",
      "iteration: 240\tloss: 0.06452\tperp: 1.067\tacc: 0.99834\n",
      "iteration: 250\tloss: 0.05457\tperp: 1.056\tacc: 0.99834\n",
      "iteration: 260\tloss: 0.04723\tperp: 1.048\tacc: 0.99834\n",
      "iteration: 270\tloss: 0.04159\tperp: 1.042\tacc: 0.99834\n",
      "iteration: 280\tloss: 0.03711\tperp: 1.038\tacc: 0.99834\n",
      "iteration: 290\tloss: 0.03345\tperp: 1.034\tacc: 0.99834\n"
     ]
    }
   ],
   "source": [
    "import numpy as np\n",
    "epoch_num = 300\n",
    "model.train()\n",
    "losses = []\n",
    "accs = []\n",
    "perps = []\n",
    "\n",
    "for i in range(epoch_num):\n",
    "    optimizer.zero_grad()\n",
    "    loss, outputs = model(inputs)\n",
    "    \n",
    "    ls = outputs[\"loss\"]\n",
    "    acc = outputs[\"accuracy\"]\n",
    "    perp = outputs[\"perplexity\"]\n",
    "    losses.append(ls)\n",
    "    accs.append(acc)\n",
    "    perps.append(perp)\n",
    "    \n",
    "    if i % 10 == 0:\n",
    "        ave_loss = np.mean(losses[-10:])\n",
    "        ave_acc = np.mean(accs[-10:])\n",
    "        ave_perp = np.mean(perps[-10:])\n",
    "        print(\"iteration: {}\\tloss: {:.5f}\\tperp: {:.3f}\\tacc: {:.5f}\".format(\n",
    "            i, ave_loss, ave_perp, ave_acc))\n",
    "    \n",
    "    loss.backward()\n",
    "    optimizer.step()"
   ]
  },
  {
   "cell_type": "code",
   "execution_count": 29,
   "metadata": {},
   "outputs": [],
   "source": [
    "torch.save(model.state_dict(), \"../results/models/face\")"
   ]
  },
  {
   "cell_type": "code",
   "execution_count": 35,
   "metadata": {},
   "outputs": [
    {
     "name": "stdout",
     "output_type": "stream",
     "text": [
      "0, 1, 2, 3, 4, 5, 6, 7, 8, 9, 10, 11, 12, 13, 14, 15, 16, 17, 18, 19, 20, 21, 22, 23, 24, 25, 26, 27, 28, 29, 30, 31, 32, 33, 34, 35, 36, 37, 38, 39, 40, 41, 42, 43, 44, 45, 46, 47, 48, 49, 50, 51, 52, 53, 54, 55, 56, 57, 58, 59, 60, 61, 62, 63, 64, 65, 66, 67, 68, 69, 70, 71, 72, 73, 74, 75, 76, 77, 78, 79, 80, 81, 82, 83, 84, 85, 86, 87, 88, 89, 90, 91, 92, 93, 94, 95, 96, 97, 98, 99, 100, "
     ]
    },
    {
     "data": {
      "text/plain": [
       "[tensor([203, 202, 200, 201]),\n",
       " tensor([203, 201, 147, 143,  97, 101,   1,   3]),\n",
       " tensor([203, 195, 194, 202]),\n",
       " tensor([203,   3,   5, 195]),\n",
       " tensor([202, 194,   4,   2]),\n",
       " tensor([202,   2,   0,  98,  94, 140, 144, 200]),\n",
       " tensor([201, 200, 144, 145, 184, 185, 146, 147]),\n",
       " tensor([199, 198, 196, 197]),\n",
       " tensor([199, 197,   7,   9]),\n",
       " tensor([199, 193, 192, 198]),\n",
       " tensor([199,   9,  19, 193]),\n",
       " tensor([198, 192,  18,   8]),\n",
       " tensor([198,   8,   6, 196]),\n",
       " tensor([197, 196, 194, 195]),\n",
       " tensor([197, 195,   5,   7]),\n",
       " tensor([196,   6,   4, 194]),\n",
       " tensor([193, 183, 182, 192]),\n",
       " tensor([193,  19,  25, 183])]"
      ]
     },
     "execution_count": 35,
     "metadata": {},
     "output_type": "execute_result"
    }
   ],
   "source": [
    "idx_in_batch = 0\n",
    "model.load_state_dict(torch.load(\"../results/models/face\"))\n",
    "model.eval()\n",
    "pred = model.predict(\n",
    "    {\"vertices\": [inputs[\"vertices\"][idx_in_batch]]},\n",
    "    max_seq_len=101,\n",
    ")\n",
    "pred"
   ]
  },
  {
   "cell_type": "code",
   "execution_count": 36,
   "metadata": {},
   "outputs": [
    {
     "data": {
      "text/plain": [
       "tensor([203, 202, 200, 201, 203, 201, 147, 143,  97, 101,   1,   3, 203, 195,\n",
       "        194, 202, 203,   3,   5, 195, 202, 194,   4,   2, 202,   2,   0,  98,\n",
       "         94, 140, 144, 200, 201, 200, 144, 145, 184, 185, 146, 147, 199, 198,\n",
       "        196, 197, 199, 197,   7,   9, 199, 193, 192, 198, 199,   9,  19, 193,\n",
       "        198, 192,  18,   8, 198,   8,   6, 196, 197, 196, 194, 195, 197, 195,\n",
       "          5,   7, 196,   6,   4, 194, 193, 183, 182, 192, 193,  19,  25, 183,\n",
       "        192, 182,  24,  18, 191, 190, 178, 179, 191, 189, 188, 190, 191, 179,\n",
       "         21,  17, 191,  17,  15, 189, 190, 188,  14,  16, 190,  16,  20, 178,\n",
       "        189, 187, 186, 188, 189,  15,  13, 187, 188, 186,  12,  14, 187, 185,\n",
       "        184, 186, 187,  13,  11, 100,  96, 142, 146, 185, 186, 184, 145, 141,\n",
       "         95,  99,  10,  12, 183, 177, 176, 182, 183,  25,  29, 177, 182, 176,\n",
       "         28,  24, 181, 180, 174, 175, 181, 179, 178, 180, 181, 175,  27,  23,\n",
       "        181,  23,  21, 179, 180, 178,  20,  22, 180,  22,  26, 174, 177, 171,\n",
       "        170, 176, 177,  29,  33, 171, 176, 170,  32,  28, 175, 174, 172, 173,\n",
       "        175, 173,  31,  27, 174,  26,  30, 172, 173, 172, 166, 167, 173, 167,\n",
       "         35,  31, 172,  30,  34, 166, 171, 169, 168, 170, 171,  33,  37, 169,\n",
       "        170, 168,  36,  32, 169, 163, 162, 168, 169,  37,  43, 163, 168, 162,\n",
       "         42,  36, 167, 166, 164, 165, 167, 165,  39,  35, 166,  34,  38, 164,\n",
       "        165, 164, 160, 161, 165, 161,  41,  39, 164,  38,  40, 160, 163, 159,\n",
       "        158, 162, 163,  43,  47, 159, 162, 158,  46,  42, 161, 160, 156, 157,\n",
       "        161, 157,  45,  41, 160,  40,  44, 156, 159, 155, 154, 158, 159,  47,\n",
       "         51, 155, 158, 154,  50,  46, 157, 156, 152, 153, 157, 153,  49,  45,\n",
       "        156,  44,  48, 152, 155, 151, 150, 154, 155,  51,  55, 151, 154, 150,\n",
       "         54,  50, 153, 152, 148, 149, 153, 149,  53,  49, 152,  48,  52, 148,\n",
       "        151,  55,  54, 150, 149, 148,  52,  53, 147, 146, 142, 138, 134, 130,\n",
       "        130, 125, 125, 120, 120, 115, 114, 114, 113, 112, 111, 111, 110, 119,\n",
       "        119, 124, 124, 129, 129, 133, 137, 141, 145, 144, 140, 136, 132, 128,\n",
       "        122, 123, 118, 108, 109, 109, 102, 103, 104, 105, 106, 107, 115, 116,\n",
       "        117, 121, 126, 127, 131, 135, 139, 143, 143, 139,  93,  97, 142,  96,\n",
       "         92, 138, 141, 137,  91,  95, 140,  94,  90, 136, 139, 135,  89,  93,\n",
       "        138,  92,  88, 134, 137, 133,  87,  91, 136,  90,  86, 132, 135, 131,\n",
       "         85,  89, 134,  88,  84, 130, 133, 129,  83,  87, 132,  86,  82, 128,\n",
       "        131, 127,  81,  85, 130, 130,  84,  84, 130,  84,  79, 125, 129, 129,\n",
       "         83,  83, 129, 124,  78,  83, 128,  82,  76, 122, 127, 126,  80,  81,\n",
       "        126, 121,  75,  80, 125, 125,  79,  79, 125,  79,  74, 120, 124, 124,\n",
       "         78,  78, 124, 119,  73,  78, 123, 122,  76,  77, 123,  77,  72, 118,\n",
       "        121, 117,  71,  75, 120, 120,  74,  74, 120,  74,  69, 115, 119, 110,\n",
       "         64,  73, 119,  73,  73, 119, 118,  72,  62, 108, 117, 116,  70,  71,\n",
       "        116, 115,  69,  70, 115, 107,  61,  69, 115,  69,  68, 114, 114,  68,\n",
       "         68, 114, 114,  68,  67, 113, 113,  67,  66, 112, 112,  66,  65, 111,\n",
       "        111, 111,  65,  65, 111,  65,  64, 110, 109, 109,  63,  63, 109, 108,\n",
       "         62,  63, 109,  63,  56, 102, 107, 106,  60,  61, 106, 105,  59,  60,\n",
       "        105, 104,  58,  59, 104, 103,  57,  58, 103, 102,  56,  57, 101, 100,\n",
       "         11,  10,  99,  98,   0,   1, 101,  97,  93,  89,  85,  81,  80,  75,\n",
       "         71,  70,  69,  61,  60,  59,  58,  57,  56,  63,  63,  62,  72,  77,\n",
       "         76,  82,  86,  90,  94,  98,  99,  95,  91,  87,  83,  83,  78,  78,\n",
       "         73,  73,  64,  65,  65,  66,  67,  68,  68,  69,  74,  74,  79,  79,\n",
       "         84,  84,  88,  92,  96, 100,  55,  51,  50,  54,  53,  52,  48,  49,\n",
       "         51,  47,  46,  50,  49,  48,  44,  45,  47,  43,  42,  46,  45,  44,\n",
       "         40,  41,  43,  37,  36,  42,  41,  40,  38,  39,  39,  38,  34,  35,\n",
       "         37,  33,  32,  36,  35,  34,  30,  31,  33,  29,  28,  32,  31,  30,\n",
       "         26,  27,  29,  25,  24,  28,  27,  26,  22,  23,  25,  19,  18,  24,\n",
       "         23,  22,  20,  21,  21,  20,  16,  17,  19,   9,   8,  18,  17,  16,\n",
       "         14,  15,  15,  14,  12,  13,  13,  12,  10,  11,   9,   7,   6,   8,\n",
       "          7,   5,   4,   6,   5,   3,   2,   4,   3,   1,   0,   2])"
      ]
     },
     "execution_count": 36,
     "metadata": {},
     "output_type": "execute_result"
    }
   ],
   "source": [
    "true = torch.cat(inputs[\"faces\"][idx_in_batch])\n",
    "true"
   ]
  },
  {
   "cell_type": "code",
   "execution_count": 45,
   "metadata": {},
   "outputs": [
    {
     "data": {
      "text/plain": [
       "tensor([203, 202, 200, 201, 203, 201, 147, 143,  97, 101,   1,   3, 203, 195,\n",
       "        194, 202, 203,   3,   5, 195, 202, 194,   4,   2, 202,   2,   0,  98,\n",
       "         94, 140, 144, 200, 201, 200, 144, 145, 184, 185, 146, 147, 199, 198,\n",
       "        196, 197, 199, 197,   7,   9, 199, 193, 192, 198, 199,   9,  19, 193,\n",
       "        198, 192,  18,   8, 198,   8,   6, 196, 197, 196, 194, 195, 197, 195,\n",
       "          5,   7, 196,   6,   4, 194, 193, 183, 182, 192, 193,  19,  25, 183])"
      ]
     },
     "execution_count": 45,
     "metadata": {},
     "output_type": "execute_result"
    }
   ],
   "source": [
    "torch.cat(pred)"
   ]
  },
  {
   "cell_type": "code",
   "execution_count": 44,
   "metadata": {},
   "outputs": [
    {
     "data": {
      "text/plain": [
       "tensor(1.)"
      ]
     },
     "execution_count": 44,
     "metadata": {},
     "output_type": "execute_result"
    }
   ],
   "source": [
    "min_len = min(torch.cat(pred).shape[0], true.shape[0])\n",
    "acc = (torch.cat(pred)[:min_len] == true[:min_len]).sum() / min_len\n",
    "acc"
   ]
  },
  {
   "cell_type": "code",
   "execution_count": 46,
   "metadata": {},
   "outputs": [
    {
     "name": "stdout",
     "output_type": "stream",
     "text": [
      "0, 1, 2, 3, 4, 5, 6, 7, 8, "
     ]
    },
    {
     "data": {
      "text/plain": [
       "[tensor([61, 60, 58, 59]), tensor([61, 59,  1])]"
      ]
     },
     "execution_count": 46,
     "metadata": {},
     "output_type": "execute_result"
    }
   ],
   "source": [
    "idx_in_batch = 1\n",
    "model.load_state_dict(torch.load(\"../results/models/face\"))\n",
    "model.eval()\n",
    "pred = model.predict(\n",
    "    {\"vertices\": [inputs[\"vertices\"][idx_in_batch]]},\n",
    ")\n",
    "pred"
   ]
  },
  {
   "cell_type": "code",
   "execution_count": 47,
   "metadata": {},
   "outputs": [
    {
     "data": {
      "text/plain": [
       "tensor([61, 60, 58, 59, 61, 59,  1,  3, 55, 61, 55, 53,  4, 60, 60,  4,  2,  0,\n",
       "        58, 59, 58,  0,  1, 48, 10,  9, 47, 59, 47, 48,  1, 57, 56, 53, 54, 57,\n",
       "        54, 42, 30, 24, 26, 18, 16, 28,  6,  8, 57,  8, 52, 51, 13,  7, 56, 56,\n",
       "         7,  5, 21, 33, 31, 43, 35, 37, 45, 53, 55, 54, 53, 55,  3,  2,  4, 53,\n",
       "         5,  6, 54, 54,  6, 28, 40, 42, 53, 45, 43, 31, 19, 21,  5, 52, 50, 49,\n",
       "        51, 52, 14, 12, 50, 52,  8,  7, 13, 14, 51, 49, 11, 13, 50, 48, 47, 49,\n",
       "        50, 25, 23, 29, 41, 39, 27, 10, 48, 50, 12, 11, 49, 50, 12, 10, 27, 29,\n",
       "        23, 15, 17, 25, 49, 47, 44, 46, 38, 34, 22, 11, 47,  9, 11, 22, 20, 32,\n",
       "        34, 38, 36, 44, 46, 45, 37, 38, 46, 44, 43, 45, 44, 36, 35, 43, 42, 41,\n",
       "        29, 30, 42, 40, 39, 41, 40, 28, 27, 39, 38, 37, 35, 36, 34, 33, 21, 22,\n",
       "        34, 32, 31, 33, 32, 20, 19, 31, 30, 29, 27, 28, 30, 28, 16, 24, 26, 25,\n",
       "        17, 18, 26, 24, 23, 25, 24, 16, 15, 23, 22, 21, 19, 20, 18, 17, 15, 16,\n",
       "        14, 13, 11, 12, 12, 11,  9, 10,  8,  6,  5,  7,  3,  1,  0,  2])"
      ]
     },
     "execution_count": 47,
     "metadata": {},
     "output_type": "execute_result"
    }
   ],
   "source": [
    "true = torch.cat(inputs[\"faces\"][idx_in_batch])\n",
    "true"
   ]
  },
  {
   "cell_type": "code",
   "execution_count": 49,
   "metadata": {},
   "outputs": [
    {
     "data": {
      "text/plain": [
       "tensor(1.)"
      ]
     },
     "execution_count": 49,
     "metadata": {},
     "output_type": "execute_result"
    }
   ],
   "source": [
    "min_len = min(torch.cat(pred).shape[0], true.shape[0])\n",
    "acc = (torch.cat(pred)[:min_len] == true[:min_len]).sum() / min_len\n",
    "acc"
   ]
  },
  {
   "cell_type": "code",
   "execution_count": null,
   "metadata": {},
   "outputs": [],
   "source": []
  }
 ],
 "metadata": {
  "kernelspec": {
   "display_name": "Python 3",
   "language": "python",
   "name": "python3"
  },
  "language_info": {
   "codemirror_mode": {
    "name": "ipython",
    "version": 3
   },
   "file_extension": ".py",
   "mimetype": "text/x-python",
   "name": "python",
   "nbconvert_exporter": "python",
   "pygments_lexer": "ipython3",
   "version": "3.8.5"
  }
 },
 "nbformat": 4,
 "nbformat_minor": 4
}
