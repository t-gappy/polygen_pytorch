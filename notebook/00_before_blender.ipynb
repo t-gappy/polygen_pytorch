{
 "cells": [
  {
   "cell_type": "code",
   "execution_count": 1,
   "id": "072ef9a8-7166-40c1-b88b-07bd50139550",
   "metadata": {},
   "outputs": [],
   "source": [
    "import os\n",
    "import json\n",
    "import glob"
   ]
  },
  {
   "cell_type": "code",
   "execution_count": 2,
   "id": "a9c603ab-3be4-4060-a433-07d0cd185f26",
   "metadata": {},
   "outputs": [],
   "source": [
    "base_dir = os.path.dirname(os.path.dirname(os.getcwd()))\n",
    "data_dir = os.path.join(base_dir, \"shapenet_v2\", \"ShapeNetCore.v2\")"
   ]
  },
  {
   "cell_type": "raw",
   "id": "a93abd4c-e7f4-4385-bf7e-dd9aea2ebbd0",
   "metadata": {},
   "source": [
    "objfile_paths = glob.glob(os.path.join(data_dir, \"*\", \"*\", \"models\", \"*.obj\"))\n",
    "print(len(objfile_paths))\n",
    "\n",
    "with open(os.path.join(base_dir, \"polygen_pytorch\", \"data\", \"objfiles.txt\"), \"w\") as fw:\n",
    "    for path in objfile_paths:\n",
    "        print(path, file=fw)"
   ]
  },
  {
   "cell_type": "code",
   "execution_count": 3,
   "id": "2c176bea-b7d9-4712-8b56-112b50c1e2c3",
   "metadata": {},
   "outputs": [
    {
     "data": {
      "text/plain": [
       "52472"
      ]
     },
     "execution_count": 3,
     "metadata": {},
     "output_type": "execute_result"
    }
   ],
   "source": [
    "objfile_paths = []\n",
    "with open(os.path.join(base_dir, \"polygen_pytorch\", \"data\", \"objfiles.txt\")) as fr:\n",
    "    for line in fr:\n",
    "        line = line.rstrip()\n",
    "        objfile_paths.append(line)\n",
    "    \n",
    "len(objfile_paths)"
   ]
  },
  {
   "cell_type": "code",
   "execution_count": 4,
   "id": "8538dd3a-c592-41de-95b1-096e585eda2e",
   "metadata": {},
   "outputs": [
    {
     "data": {
      "text/plain": [
       "354"
      ]
     },
     "execution_count": 4,
     "metadata": {},
     "output_type": "execute_result"
    }
   ],
   "source": [
    "with open(os.path.join(data_dir, \"taxonomy.json\")) as fr:\n",
    "    taxonomy = json.load(fr)\n",
    "    \n",
    "len(taxonomy)"
   ]
  },
  {
   "cell_type": "code",
   "execution_count": 5,
   "id": "e44edce5-75ca-40b0-9c52-f97243a5ca82",
   "metadata": {},
   "outputs": [
    {
     "data": {
      "text/plain": [
       "[{'synsetId': '02691156',\n",
       "  'name': 'airplane,aeroplane,plane',\n",
       "  'children': ['02690373',\n",
       "   '02842573',\n",
       "   '02867715',\n",
       "   '03174079',\n",
       "   '03335030',\n",
       "   '03595860',\n",
       "   '04012084',\n",
       "   '04160586',\n",
       "   '20000000',\n",
       "   '20000001',\n",
       "   '20000002'],\n",
       "  'numInstances': 4045},\n",
       " {'synsetId': '02690373',\n",
       "  'name': 'airliner',\n",
       "  'children': ['03809312', '04583620'],\n",
       "  'numInstances': 1490},\n",
       " {'synsetId': '03809312',\n",
       "  'name': 'narrowbody aircraft,narrow-body aircraft,narrow-body',\n",
       "  'children': [],\n",
       "  'numInstances': 14}]"
      ]
     },
     "execution_count": 5,
     "metadata": {},
     "output_type": "execute_result"
    }
   ],
   "source": [
    "taxonomy[:3]"
   ]
  },
  {
   "cell_type": "code",
   "execution_count": 6,
   "id": "6d6ba286-06ed-4545-b5ee-ed4dceaab0ff",
   "metadata": {},
   "outputs": [],
   "source": [
    "id2tag = {}\n",
    "\n",
    "with open(os.path.join(base_dir, \"polygen_pytorch\", \"data\", \"objfiles_with_tag.txt\"), \"w\") as fw:\n",
    "    for path in objfile_paths:\n",
    "        synsetId = path.split(\"/\")[-4]\n",
    "        synset = [syn for syn in taxonomy if syn[\"synsetId\"]==synsetId][0]\n",
    "\n",
    "        tag = synset[\"name\"]\n",
    "        if tag not in id2tag.keys():\n",
    "            id2tag[synsetId] = tag\n",
    "            \n",
    "        print(\"{}\\t{}\".format(tag, path), file=fw)"
   ]
  },
  {
   "cell_type": "code",
   "execution_count": null,
   "id": "60188340-4a3a-42a6-850b-bedefabf114c",
   "metadata": {},
   "outputs": [],
   "source": []
  }
 ],
 "metadata": {
  "kernelspec": {
   "display_name": "Python 3",
   "language": "python",
   "name": "python3"
  },
  "language_info": {
   "codemirror_mode": {
    "name": "ipython",
    "version": 3
   },
   "file_extension": ".py",
   "mimetype": "text/x-python",
   "name": "python",
   "nbconvert_exporter": "python",
   "pygments_lexer": "ipython3",
   "version": "3.8.5"
  }
 },
 "nbformat": 4,
 "nbformat_minor": 5
}
